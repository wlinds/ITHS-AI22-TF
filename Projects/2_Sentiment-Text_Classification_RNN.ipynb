{
 "cells": [
  {
   "cell_type": "markdown",
   "metadata": {},
   "source": [
    "# RNN/GRU Model: Text Classification & Sentiment Analysis\n",
    "\n",
    "This project implements a neural network for classifying emotions in text. The dataset used for training and evaluation is a 20 000 line csv-file, each line containing a string along with one of six labels: 'anger', 'sadness', 'joy', 'love', 'fear' or 'surprise'.\n",
    "\n",
    "A custom model has been created from the ground up with Keras. The data has been appropriately split into training, validation, and test sets. Activation functions and loss functions were selected to optimize performance.\n",
    "\n",
    "**The project includes comprehensive prints of relevant metrics and visualizations of training curves.**\n",
    "\n",
    "---\n",
    "\n",
    "- *Data Preprocessing*: Removing unnecessary elements.\n",
    "- *Model Architecture*:\n",
    "   - *Activation Functions*: Softmax.\n",
    "   - *Loss Function*: Categorical Crossentropy.\n",
    "   - *Regularization Techniques*: Dropout in GRU-layer.\n",
    "- *Evaluation*: Test data split from the train and inference on new unseen data.\n",
    "\n",
    "- **Reflection and Future Improvements**:\n",
    "   - The project reflects on the achieved performance and discusses potential enhancements.\n",
    "   - Suggestions for further improvement are outlined, showcasing a critical evaluation of the project.\n",
    "\n",
    "---"
   ]
  },
  {
   "cell_type": "markdown",
   "metadata": {},
   "source": [
    "## Dataset Overview\n",
    "\n",
    "The initial EDA provides insights into the dataset structure:\n",
    "\n",
    "```plaintext\n",
    "   text                                                    label\n",
    "   count   20000                                           20000\n",
    "   unique  19948                                           6\n",
    "   top     i tend to stop breathing when i m feeling s...  joy\n",
    "   freq    2                                               6761\n",
    "```\n",
    "\n",
    "The dataset comprises 20,000 entries, with 19,948 unique texts and six unique emotion labels. The most frequent emotion is 'joy' with 6,761 occurrences."
   ]
  },
  {
   "cell_type": "code",
   "execution_count": 1,
   "metadata": {},
   "outputs": [
    {
     "data": {
      "text/html": [
       "<div>\n",
       "<style scoped>\n",
       "    .dataframe tbody tr th:only-of-type {\n",
       "        vertical-align: middle;\n",
       "    }\n",
       "\n",
       "    .dataframe tbody tr th {\n",
       "        vertical-align: top;\n",
       "    }\n",
       "\n",
       "    .dataframe thead th {\n",
       "        text-align: right;\n",
       "    }\n",
       "</style>\n",
       "<table border=\"1\" class=\"dataframe\">\n",
       "  <thead>\n",
       "    <tr style=\"text-align: right;\">\n",
       "      <th></th>\n",
       "      <th>text</th>\n",
       "      <th>label</th>\n",
       "    </tr>\n",
       "  </thead>\n",
       "  <tbody>\n",
       "    <tr>\n",
       "      <th>count</th>\n",
       "      <td>20000</td>\n",
       "      <td>20000</td>\n",
       "    </tr>\n",
       "    <tr>\n",
       "      <th>unique</th>\n",
       "      <td>19948</td>\n",
       "      <td>6</td>\n",
       "    </tr>\n",
       "    <tr>\n",
       "      <th>top</th>\n",
       "      <td>i tend to stop breathing when i m feeling stre...</td>\n",
       "      <td>joy</td>\n",
       "    </tr>\n",
       "    <tr>\n",
       "      <th>freq</th>\n",
       "      <td>2</td>\n",
       "      <td>6761</td>\n",
       "    </tr>\n",
       "  </tbody>\n",
       "</table>\n",
       "</div>"
      ],
      "text/plain": [
       "                                                     text  label\n",
       "count                                               20000  20000\n",
       "unique                                              19948      6\n",
       "top     i tend to stop breathing when i m feeling stre...    joy\n",
       "freq                                                    2   6761"
      ]
     },
     "execution_count": 1,
     "metadata": {},
     "output_type": "execute_result"
    }
   ],
   "source": [
    "import pandas as pd\n",
    "df = pd.read_csv('Data/emotions.csv') \n",
    "df.describe()"
   ]
  },
  {
   "cell_type": "code",
   "execution_count": 2,
   "metadata": {},
   "outputs": [
    {
     "data": {
      "text/plain": [
       "Index(['text', 'label'], dtype='object')"
      ]
     },
     "execution_count": 2,
     "metadata": {},
     "output_type": "execute_result"
    }
   ],
   "source": [
    "df.columns"
   ]
  },
  {
   "cell_type": "markdown",
   "metadata": {},
   "source": [
    "### Class Distribution Analysis\n"
   ]
  },
  {
   "cell_type": "code",
   "execution_count": 3,
   "metadata": {},
   "outputs": [
    {
     "data": {
      "text/plain": [
       "label\n",
       "joy         6761\n",
       "sadness     5797\n",
       "anger       2709\n",
       "fear        2373\n",
       "love        1641\n",
       "surprise     719\n",
       "Name: count, dtype: int64"
      ]
     },
     "execution_count": 3,
     "metadata": {},
     "output_type": "execute_result"
    }
   ],
   "source": [
    "df['label'].value_counts()"
   ]
  },
  {
   "cell_type": "markdown",
   "metadata": {},
   "source": [
    "The class distribution exhibits varying degrees of skewness, with 'joy' and 'Sadness' being the most prevalent emotions in the dataset. Adjustments may be considered to ensure the model achieves a balanced and accurate representation across all emotional categories."
   ]
  },
  {
   "cell_type": "code",
   "execution_count": 4,
   "metadata": {},
   "outputs": [
    {
     "data": {
      "text/html": [
       "<div>\n",
       "<style scoped>\n",
       "    .dataframe tbody tr th:only-of-type {\n",
       "        vertical-align: middle;\n",
       "    }\n",
       "\n",
       "    .dataframe tbody tr th {\n",
       "        vertical-align: top;\n",
       "    }\n",
       "\n",
       "    .dataframe thead th {\n",
       "        text-align: right;\n",
       "    }\n",
       "</style>\n",
       "<table border=\"1\" class=\"dataframe\">\n",
       "  <thead>\n",
       "    <tr style=\"text-align: right;\">\n",
       "      <th></th>\n",
       "      <th>text</th>\n",
       "      <th>label</th>\n",
       "    </tr>\n",
       "  </thead>\n",
       "  <tbody>\n",
       "    <tr>\n",
       "      <th>14117</th>\n",
       "      <td>i intend to have them develop feelings for one...</td>\n",
       "      <td>anger</td>\n",
       "    </tr>\n",
       "    <tr>\n",
       "      <th>18580</th>\n",
       "      <td>i feel tortured and tragic enough as it is wit...</td>\n",
       "      <td>anger</td>\n",
       "    </tr>\n",
       "    <tr>\n",
       "      <th>16564</th>\n",
       "      <td>im not planning to get hammered i warned feeli...</td>\n",
       "      <td>joy</td>\n",
       "    </tr>\n",
       "    <tr>\n",
       "      <th>16367</th>\n",
       "      <td>i feel really fucked up still</td>\n",
       "      <td>anger</td>\n",
       "    </tr>\n",
       "    <tr>\n",
       "      <th>10254</th>\n",
       "      <td>i felt a little bit of cramping and the same f...</td>\n",
       "      <td>anger</td>\n",
       "    </tr>\n",
       "    <tr>\n",
       "      <th>14350</th>\n",
       "      <td>i started feeling like i was being paranoid si...</td>\n",
       "      <td>fear</td>\n",
       "    </tr>\n",
       "    <tr>\n",
       "      <th>1401</th>\n",
       "      <td>i didn t feel rushed to finish millions of thi...</td>\n",
       "      <td>anger</td>\n",
       "    </tr>\n",
       "    <tr>\n",
       "      <th>14689</th>\n",
       "      <td>i may feel uncomfortable or just want to give up</td>\n",
       "      <td>fear</td>\n",
       "    </tr>\n",
       "    <tr>\n",
       "      <th>5541</th>\n",
       "      <td>i got a handle on the story and it actually st...</td>\n",
       "      <td>love</td>\n",
       "    </tr>\n",
       "    <tr>\n",
       "      <th>14933</th>\n",
       "      <td>i packed this time around feeling apprehensive...</td>\n",
       "      <td>fear</td>\n",
       "    </tr>\n",
       "  </tbody>\n",
       "</table>\n",
       "</div>"
      ],
      "text/plain": [
       "                                                    text  label\n",
       "14117  i intend to have them develop feelings for one...  anger\n",
       "18580  i feel tortured and tragic enough as it is wit...  anger\n",
       "16564  im not planning to get hammered i warned feeli...    joy\n",
       "16367                      i feel really fucked up still  anger\n",
       "10254  i felt a little bit of cramping and the same f...  anger\n",
       "14350  i started feeling like i was being paranoid si...   fear\n",
       "1401   i didn t feel rushed to finish millions of thi...  anger\n",
       "14689   i may feel uncomfortable or just want to give up   fear\n",
       "5541   i got a handle on the story and it actually st...   love\n",
       "14933  i packed this time around feeling apprehensive...   fear"
      ]
     },
     "execution_count": 4,
     "metadata": {},
     "output_type": "execute_result"
    }
   ],
   "source": [
    "df.sample(10)"
   ]
  },
  {
   "cell_type": "markdown",
   "metadata": {},
   "source": [
    "## Data Cleaning\n",
    "\n",
    "First iteration cleaning by just running `df.sample()` a couple of times and picking out irrelevant words.\n",
    "\n",
    "The following URL-related elements and common words are identified for removal:\n",
    "\n",
    "```\n",
    "url_elements = ['http', 'href', 'www', 'src']\n",
    "common_words = ['i', 'id', 'im', 'ive', 've', 'is', 'to', 'am', 'feel', 'feeling', 'your']\n",
    "```\n",
    "\n",
    "The `remove_words()` function is then applied to create a new 'text_clean' column.\n"
   ]
  },
  {
   "cell_type": "code",
   "execution_count": 5,
   "metadata": {},
   "outputs": [
    {
     "name": "stdout",
     "output_type": "stream",
     "text": [
      "The word 'href' occurs 207 times in the column 'text'.\n",
      "It occurs in the following rows: [3, 19, 88, 91, 200, 267, 351, 425, 560, 623, 731, 824, 959, 1103, 1314, 1372, 1402, 1543, 1657, 1700, 1737, 1803, 1873, 2024, 2026, 2213, 2225, 2253, 2623, 2969, 3016, 3478, 3525, 3568, 3631, 3823, 3832, 3882, 4071, 4079, 4138, 4142, 4144, 4335, 4365, 4405, 4667, 4690, 4722, 5009, 5011, 5117, 5438, 5596, 5634, 5684, 5757, 5964, 6023, 6050, 6448, 6513, 6761, 6765, 6821, 6913, 7003, 7216, 7320, 7325, 7401, 7597, 7876, 7877, 8112, 8341, 8652, 8675, 8872, 8880, 8956, 9084, 9161, 9320, 9359, 9363, 9454, 9480, 9487, 9488, 9638, 9724, 10124, 10228, 10327, 10403, 10456, 10506, 10564, 10625, 10718, 10959, 11003, 11024, 11082, 11304, 11306, 11360, 11368, 11409, 11460, 11587, 11600, 11603, 11686, 11734, 11792, 11978, 12102, 12235, 12298, 12352, 12530, 12545, 12617, 12633, 12693, 12976, 13006, 13019, 13154, 13252, 13274, 13295, 13442, 13466, 13581, 13594, 13609, 13755, 13757, 13791, 13793, 13832, 13918, 13922, 14083, 14326, 14440, 14484, 14499, 14591, 14613, 14724, 14764, 14794, 14803, 14946, 14977, 15189, 15522, 15661, 15764, 15799, 15977, 16002, 16067, 16090, 16097, 16099, 16158, 16406, 16491, 16500, 16593, 16597, 16600, 16665, 16780, 16812, 17043, 17150, 17195, 17416, 17661, 17848, 17937, 17942, 18175, 18204, 18213, 18467, 18516, 18610, 18734, 18758, 18808, 18905, 18939, 19101, 19304, 19397, 19454, 19591, 19791, 19817, 19871]\n"
     ]
    }
   ],
   "source": [
    "def get_freq(column, search_term, return_rows=False, verbose=False):\n",
    "    n, rows = 0, []\n",
    "    for row, text in column.items():\n",
    "        if search_term in str(text):\n",
    "            n += 1\n",
    "            rows.append(row)\n",
    "\n",
    "    if verbose:\n",
    "        print(f\"The word '{search_term}' occurs {n} times in the column '{column.name}'.\")\n",
    "        if n > 0:\n",
    "            print(f\"It occurs in the following rows: {rows}\")\n",
    "\n",
    "    if return_rows:\n",
    "        return n, rows\n",
    "    else:\n",
    "        return n\n",
    "\n",
    "search_term = \"href\"\n",
    "freq, rows = get_freq(df['text'], search_term, return_rows=True, verbose=True)"
   ]
  },
  {
   "cell_type": "code",
   "execution_count": 6,
   "metadata": {},
   "outputs": [],
   "source": [
    "url_elements = ['http', 'href', 'www', 'src']\n",
    "common_words = ['i', 'id', 'im', 'ive', 've', 'is', 'to', 'am', 'feel', 'feeling', 'your']\n",
    "\n",
    "def remove_words(text_string, stop_words):\n",
    "    words = text_string.split()\n",
    "    filtered = [word for word in words if word.lower() not in stop_words]\n",
    "    return ' '.join(filtered)\n",
    "\n",
    "df['text_clean'] = df['text'].apply(lambda x: remove_words(x, common_words + url_elements))"
   ]
  },
  {
   "cell_type": "code",
   "execution_count": 7,
   "metadata": {},
   "outputs": [
    {
     "data": {
      "text/plain": [
       "text          i feel petty a href http clairee\n",
       "label                                    anger\n",
       "text_clean                     petty a clairee\n",
       "Name: 3, dtype: object"
      ]
     },
     "execution_count": 7,
     "metadata": {},
     "output_type": "execute_result"
    }
   ],
   "source": [
    "df.iloc[3]"
   ]
  },
  {
   "cell_type": "markdown",
   "metadata": {},
   "source": [
    "Me too, I also feel petty a href http clairee."
   ]
  },
  {
   "cell_type": "code",
   "execution_count": 8,
   "metadata": {},
   "outputs": [
    {
     "data": {
      "text/plain": [
       "array(['anger', 'sadness', 'joy', 'love', 'fear', 'surprise'],\n",
       "      dtype=object)"
      ]
     },
     "execution_count": 8,
     "metadata": {},
     "output_type": "execute_result"
    }
   ],
   "source": [
    "df['label'].unique()"
   ]
  },
  {
   "cell_type": "markdown",
   "metadata": {},
   "source": [
    "## Word Frequency Analysis\n",
    "An analysis of word frequency identifies words that occur only once (8,668 words). These words are considered for removal."
   ]
  },
  {
   "cell_type": "code",
   "execution_count": 61,
   "metadata": {},
   "outputs": [
    {
     "name": "stdout",
     "output_type": "stream",
     "text": [
      "anger:     155\n",
      "sadness:   35\n",
      "joy:       296\n",
      "love:      929\n",
      "fear:      152\n",
      "surprise:  102\n"
     ]
    }
   ],
   "source": [
    "label_list = df['label'].unique().tolist()\n",
    "for i in label_list:\n",
    "    freq = get_freq(df['text'], i)\n",
    "    print(f\"{i}:{(10-len(i))*' '}{freq}\")"
   ]
  },
  {
   "cell_type": "code",
   "execution_count": 10,
   "metadata": {},
   "outputs": [
    {
     "name": "stdout",
     "output_type": "stream",
     "text": [
      "What's that sentiment?\n",
      "i feel privileged to call them my cousins\n",
      "Correct!\n"
     ]
    }
   ],
   "source": [
    "# Hol up, it's mini game time\n",
    "\n",
    "pd.set_option('display.max_colwidth', None) \n",
    "\n",
    "def guess_the_label(df=df):\n",
    "    sample = df.sample()\n",
    "    print(\"What's that sentiment?\")\n",
    "    print((sample['text'].iloc[0]))\n",
    "    a = input('Enter your guess')\n",
    "    if str(a) == str(sample['label'].iloc[0]):\n",
    "        print(\"Correct!\")\n",
    "    else:\n",
    "        print(f\"Too bad! It was {sample['label'].iloc[0]}\")\n",
    "\n",
    "guess_the_label()"
   ]
  },
  {
   "cell_type": "code",
   "execution_count": 11,
   "metadata": {},
   "outputs": [],
   "source": [
    "corpus_texts = df['text_clean'].tolist()"
   ]
  },
  {
   "cell_type": "code",
   "execution_count": 12,
   "metadata": {},
   "outputs": [
    {
     "data": {
      "text/plain": [
       "[('and', 11996),\n",
       " ('the', 10462),\n",
       " ('a', 7748),\n",
       " ('that', 6314),\n",
       " ('of', 6182),\n",
       " ('my', 5326),\n",
       " ('in', 4239),\n",
       " ('it', 3922),\n",
       " ('like', 3616),\n",
       " ('so', 3127)]"
      ]
     },
     "execution_count": 12,
     "metadata": {},
     "output_type": "execute_result"
    }
   ],
   "source": [
    "from collections import Counter\n",
    "\n",
    "def get_words(corpus_texts=corpus_texts, n=10, least = False):\n",
    "    all_text = ' '.join(corpus_texts)\n",
    "    words = all_text.split()\n",
    "    word_counts = Counter(words)\n",
    "\n",
    "    if n == None:\n",
    "        return word_counts\n",
    "        \n",
    "    if least:\n",
    "        return word_counts.most_common()[-n-1:-1]\n",
    "    \n",
    "    return word_counts.most_common(n)\n",
    "\n",
    "get_words()"
   ]
  },
  {
   "cell_type": "code",
   "execution_count": 13,
   "metadata": {},
   "outputs": [
    {
     "data": {
      "text/plain": [
       "['and', 'the', 'a', 'that', 'of', 'my', 'in', 'it', 'like', 'so']"
      ]
     },
     "execution_count": 13,
     "metadata": {},
     "output_type": "execute_result"
    }
   ],
   "source": [
    "new_stop_words = [w for w, c in get_words()]\n",
    "new_stop_words"
   ]
  },
  {
   "cell_type": "code",
   "execution_count": 14,
   "metadata": {},
   "outputs": [],
   "source": [
    "least_common = get_words(n=20, least=True)"
   ]
  },
  {
   "cell_type": "code",
   "execution_count": 15,
   "metadata": {},
   "outputs": [
    {
     "data": {
      "text/plain": [
       "[('murmur', 1),\n",
       " ('chastised', 1),\n",
       " ('rubble', 1),\n",
       " ('everyfuckingthing', 1),\n",
       " ('passive', 1),\n",
       " ('dissected', 1),\n",
       " ('biomedical', 1),\n",
       " ('mombasa', 1),\n",
       " ('digg', 1),\n",
       " ('unconcern', 1),\n",
       " ('hovel', 1),\n",
       " ('riots', 1),\n",
       " ('pipsqueak', 1),\n",
       " ('condemn', 1),\n",
       " ('dipped', 1),\n",
       " ('everchanging', 1),\n",
       " ('sailormoon', 1),\n",
       " ('gateway', 1),\n",
       " ('lathi', 1),\n",
       " ('sonam', 1)]"
      ]
     },
     "execution_count": 15,
     "metadata": {},
     "output_type": "execute_result"
    }
   ],
   "source": [
    "least_common"
   ]
  },
  {
   "cell_type": "markdown",
   "metadata": {},
   "source": [
    "These all seem pretty irrelevant. But we can probably remove even more."
   ]
  },
  {
   "cell_type": "code",
   "execution_count": 16,
   "metadata": {},
   "outputs": [
    {
     "data": {
      "text/plain": [
       "[(1, 8668),\n",
       " (2, 2457),\n",
       " (3, 1202),\n",
       " (4, 766),\n",
       " (5, 500),\n",
       " (6, 376),\n",
       " (7, 289),\n",
       " (8, 218),\n",
       " (9, 179),\n",
       " (10, 142)]"
      ]
     },
     "execution_count": 16,
     "metadata": {},
     "output_type": "execute_result"
    }
   ],
   "source": [
    "Counter(get_words(corpus_texts, n=None).values()).most_common(10)"
   ]
  },
  {
   "cell_type": "code",
   "execution_count": 17,
   "metadata": {},
   "outputs": [],
   "source": [
    "stop_words = [word for word, count in  get_words(df['text_clean'], n=None).items() if count == 1]"
   ]
  },
  {
   "cell_type": "code",
   "execution_count": 18,
   "metadata": {},
   "outputs": [
    {
     "data": {
      "text/plain": [
       "8668"
      ]
     },
     "execution_count": 18,
     "metadata": {},
     "output_type": "execute_result"
    }
   ],
   "source": [
    "len(stop_words)"
   ]
  },
  {
   "cell_type": "code",
   "execution_count": 19,
   "metadata": {},
   "outputs": [],
   "source": [
    "df['text_clean'] = df['text_clean'].apply(lambda x:remove_words(x, stop_words+new_stop_words))"
   ]
  },
  {
   "cell_type": "code",
   "execution_count": 20,
   "metadata": {},
   "outputs": [
    {
     "data": {
      "text/html": [
       "<div>\n",
       "<style scoped>\n",
       "    .dataframe tbody tr th:only-of-type {\n",
       "        vertical-align: middle;\n",
       "    }\n",
       "\n",
       "    .dataframe tbody tr th {\n",
       "        vertical-align: top;\n",
       "    }\n",
       "\n",
       "    .dataframe thead th {\n",
       "        text-align: right;\n",
       "    }\n",
       "</style>\n",
       "<table border=\"1\" class=\"dataframe\">\n",
       "  <thead>\n",
       "    <tr style=\"text-align: right;\">\n",
       "      <th></th>\n",
       "      <th>text</th>\n",
       "      <th>label</th>\n",
       "      <th>text_clean</th>\n",
       "    </tr>\n",
       "  </thead>\n",
       "  <tbody>\n",
       "    <tr>\n",
       "      <th>5502</th>\n",
       "      <td>i think about these two ways of looking at life the more i feel convinced that it is sensible to see it as a lease rather than a gift</td>\n",
       "      <td>joy</td>\n",
       "      <td>think about these two ways looking at life more convinced sensible see as rather than gift</td>\n",
       "    </tr>\n",
       "    <tr>\n",
       "      <th>19542</th>\n",
       "      <td>i feel shocked that my photo was chosen as the best photo of the week</td>\n",
       "      <td>surprise</td>\n",
       "      <td>shocked photo was chosen as best photo week</td>\n",
       "    </tr>\n",
       "    <tr>\n",
       "      <th>12127</th>\n",
       "      <td>i think its safe to say we were a learning experience for one another and i honestly have nothing but positive feelings and fond memories for you</td>\n",
       "      <td>love</td>\n",
       "      <td>think its safe say we were learning experience for one another honestly have nothing but positive feelings fond memories for you</td>\n",
       "    </tr>\n",
       "    <tr>\n",
       "      <th>11662</th>\n",
       "      <td>i would feel very ungrateful if i didnt thank you all and you know who you are</td>\n",
       "      <td>sadness</td>\n",
       "      <td>would very ungrateful if didnt thank you all you know who you are</td>\n",
       "    </tr>\n",
       "    <tr>\n",
       "      <th>16155</th>\n",
       "      <td>i feel really blessed</td>\n",
       "      <td>joy</td>\n",
       "      <td>really blessed</td>\n",
       "    </tr>\n",
       "    <tr>\n",
       "      <th>12304</th>\n",
       "      <td>i feel like im the mad hatter rather than alice</td>\n",
       "      <td>anger</td>\n",
       "      <td>mad rather than alice</td>\n",
       "    </tr>\n",
       "    <tr>\n",
       "      <th>13028</th>\n",
       "      <td>i feel deprived of any intimacy at all</td>\n",
       "      <td>sadness</td>\n",
       "      <td>deprived any intimacy at all</td>\n",
       "    </tr>\n",
       "    <tr>\n",
       "      <th>9379</th>\n",
       "      <td>i feel determined even if nervous about the unknown future its perhaps even a bit thrilling</td>\n",
       "      <td>joy</td>\n",
       "      <td>determined even if nervous about unknown future its perhaps even bit thrilling</td>\n",
       "    </tr>\n",
       "    <tr>\n",
       "      <th>10941</th>\n",
       "      <td>i just am so tired of feeling lonely and yet when someone comes along who can take away that feeling i run away</td>\n",
       "      <td>sadness</td>\n",
       "      <td>just tired lonely yet when someone comes along who can take away run away</td>\n",
       "    </tr>\n",
       "    <tr>\n",
       "      <th>14009</th>\n",
       "      <td>i feel so passionate about it and know this is where god wants me to be but i am human and i do have flaws and short comings</td>\n",
       "      <td>love</td>\n",
       "      <td>passionate about know this where god wants me be but human do have flaws short comings</td>\n",
       "    </tr>\n",
       "  </tbody>\n",
       "</table>\n",
       "</div>"
      ],
      "text/plain": [
       "                                                                                                                                                    text  \\\n",
       "5502               i think about these two ways of looking at life the more i feel convinced that it is sensible to see it as a lease rather than a gift   \n",
       "19542                                                                              i feel shocked that my photo was chosen as the best photo of the week   \n",
       "12127  i think its safe to say we were a learning experience for one another and i honestly have nothing but positive feelings and fond memories for you   \n",
       "11662                                                                     i would feel very ungrateful if i didnt thank you all and you know who you are   \n",
       "16155                                                                                                                              i feel really blessed   \n",
       "12304                                                                                                    i feel like im the mad hatter rather than alice   \n",
       "13028                                                                                                             i feel deprived of any intimacy at all   \n",
       "9379                                                         i feel determined even if nervous about the unknown future its perhaps even a bit thrilling   \n",
       "10941                                    i just am so tired of feeling lonely and yet when someone comes along who can take away that feeling i run away   \n",
       "14009                       i feel so passionate about it and know this is where god wants me to be but i am human and i do have flaws and short comings   \n",
       "\n",
       "          label  \\\n",
       "5502        joy   \n",
       "19542  surprise   \n",
       "12127      love   \n",
       "11662   sadness   \n",
       "16155       joy   \n",
       "12304     anger   \n",
       "13028   sadness   \n",
       "9379        joy   \n",
       "10941   sadness   \n",
       "14009      love   \n",
       "\n",
       "                                                                                                                             text_clean  \n",
       "5502                                         think about these two ways looking at life more convinced sensible see as rather than gift  \n",
       "19542                                                                                       shocked photo was chosen as best photo week  \n",
       "12127  think its safe say we were learning experience for one another honestly have nothing but positive feelings fond memories for you  \n",
       "11662                                                                 would very ungrateful if didnt thank you all you know who you are  \n",
       "16155                                                                                                                    really blessed  \n",
       "12304                                                                                                             mad rather than alice  \n",
       "13028                                                                                                      deprived any intimacy at all  \n",
       "9379                                                     determined even if nervous about unknown future its perhaps even bit thrilling  \n",
       "10941                                                         just tired lonely yet when someone comes along who can take away run away  \n",
       "14009                                            passionate about know this where god wants me be but human do have flaws short comings  "
      ]
     },
     "execution_count": 20,
     "metadata": {},
     "output_type": "execute_result"
    }
   ],
   "source": [
    "df.sample(10)"
   ]
  },
  {
   "cell_type": "code",
   "execution_count": 21,
   "metadata": {},
   "outputs": [
    {
     "data": {
      "text/plain": [
       "array(['anger', 'sadness', 'joy', 'love', 'fear', 'surprise'],\n",
       "      dtype=object)"
      ]
     },
     "execution_count": 21,
     "metadata": {},
     "output_type": "execute_result"
    }
   ],
   "source": [
    "df['label'].unique()"
   ]
  },
  {
   "cell_type": "code",
   "execution_count": 22,
   "metadata": {},
   "outputs": [
    {
     "data": {
      "text/plain": [
       "14941"
      ]
     },
     "execution_count": 22,
     "metadata": {},
     "output_type": "execute_result"
    }
   ],
   "source": [
    "df['text_clean'].idxmax()"
   ]
  },
  {
   "cell_type": "code",
   "execution_count": 23,
   "metadata": {},
   "outputs": [
    {
     "data": {
      "text/plain": [
       "'more important than going fun ipad strategy games original boots from ugg wear ugg boots this winter low cost ugg boots uggs need get washed inside they are also you won t burdened with them speed up finances with payday loans payday loans monthly solution for you'"
      ]
     },
     "execution_count": 23,
     "metadata": {},
     "output_type": "execute_result"
    }
   ],
   "source": [
    "max(df['text_clean'], key=len)"
   ]
  },
  {
   "cell_type": "markdown",
   "metadata": {},
   "source": [
    "whAT, uh anyway"
   ]
  },
  {
   "cell_type": "markdown",
   "metadata": {},
   "source": [
    "## Data Preparation for the Model\n",
    "\n",
    "The next step involves preparing the data for the model. This includes label encoding and one-hot encoding for the target variable.\n",
    "\n",
    "### One hot encoding labels"
   ]
  },
  {
   "cell_type": "code",
   "execution_count": 24,
   "metadata": {},
   "outputs": [
    {
     "data": {
      "text/plain": [
       "array(['anger', 'sadness', 'joy', 'love', 'fear', 'surprise'],\n",
       "      dtype=object)"
      ]
     },
     "execution_count": 24,
     "metadata": {},
     "output_type": "execute_result"
    }
   ],
   "source": [
    "df['label'].unique()"
   ]
  },
  {
   "cell_type": "code",
   "execution_count": 25,
   "metadata": {},
   "outputs": [
    {
     "name": "stderr",
     "output_type": "stream",
     "text": [
      "2024-02-13 11:59:00.986061: I tensorflow/core/platform/cpu_feature_guard.cc:182] This TensorFlow binary is optimized to use available CPU instructions in performance-critical operations.\n",
      "To enable the following instructions: AVX2 FMA, in other operations, rebuild TensorFlow with the appropriate compiler flags.\n"
     ]
    }
   ],
   "source": [
    "from keras.utils import to_categorical\n",
    "from sklearn.preprocessing import LabelEncoder\n",
    "\n",
    "label_encoder = LabelEncoder()\n",
    "\n",
    "integer_labels = label_encoder.fit_transform(df['label'])\n",
    "one_hot_labels = to_categorical(integer_labels)\n",
    "\n",
    "assert len(one_hot_labels) == 20000"
   ]
  },
  {
   "cell_type": "markdown",
   "metadata": {},
   "source": [
    "### Tokenization\n",
    "\n",
    "The text data is tokenized using the Keras Tokenizer:"
   ]
  },
  {
   "cell_type": "code",
   "execution_count": 26,
   "metadata": {},
   "outputs": [
    {
     "data": {
      "text/plain": [
       "8404"
      ]
     },
     "execution_count": 26,
     "metadata": {},
     "output_type": "execute_result"
    }
   ],
   "source": [
    "from keras.preprocessing.text import Tokenizer\n",
    "\n",
    "tokenizer = Tokenizer()\n",
    "tokenizer.fit_on_texts(df['text_clean'])\n",
    "\n",
    "len(tokenizer.word_index) + 1"
   ]
  },
  {
   "cell_type": "code",
   "execution_count": 27,
   "metadata": {},
   "outputs": [
    {
     "data": {
      "text/plain": [
       "20000"
      ]
     },
     "execution_count": 27,
     "metadata": {},
     "output_type": "execute_result"
    }
   ],
   "source": [
    "tokenizer.document_count"
   ]
  },
  {
   "cell_type": "code",
   "execution_count": 28,
   "metadata": {},
   "outputs": [
    {
     "data": {
      "text/plain": [
       "OrderedDict([('pissed', 77),\n",
       "             ('off', 277),\n",
       "             ('over', 426),\n",
       "             ('an', 700),\n",
       "             ('old', 148),\n",
       "             ('friend', 147),\n",
       "             ('some', 750),\n",
       "             ('friends', 253),\n",
       "             ('found', 123),\n",
       "             ('has', 500),\n",
       "             ('made', 368),\n",
       "             ('huge', 36),\n",
       "             ('difference', 31),\n",
       "             ('especially', 148),\n",
       "             ('on', 1925),\n",
       "             ('finger', 15),\n",
       "             ('with', 2530),\n",
       "             ('ring', 8),\n",
       "             ('skin', 59),\n",
       "             ('feels', 416),\n",
       "             ('much', 618),\n",
       "             ('less', 308),\n",
       "             ('irritated', 79),\n",
       "             ('also', 423),\n",
       "             ('unfortunate', 55),\n",
       "             ('nearly', 27),\n",
       "             ('all', 1456),\n",
       "             ('readers', 39),\n",
       "             ('going', 606),\n",
       "             ('meet', 53),\n",
       "             ('man', 107),\n",
       "             ('will', 887),\n",
       "             ('be', 2193),\n",
       "             ('african', 7),\n",
       "             ('americans', 8),\n",
       "             ('unlike', 9),\n",
       "             ('myself', 1004),\n",
       "             ('petty', 64),\n",
       "             ('used', 122),\n",
       "             ('believe', 134),\n",
       "             ('fear', 55),\n",
       "             ('was', 2828),\n",
       "             ('ignored', 68),\n",
       "             ('or', 1564),\n",
       "             ('suppressed', 5),\n",
       "             ('right', 444),\n",
       "             ('away', 276),\n",
       "             ('more', 1396),\n",
       "             ('this', 2606),\n",
       "             ('moment', 168),\n",
       "             ('sit', 80),\n",
       "             ('same', 192),\n",
       "             ('hostel', 5),\n",
       "             ('did', 402),\n",
       "             ('two', 186),\n",
       "             ('months', 108),\n",
       "             ('ago', 85),\n",
       "             ('time', 993),\n",
       "             ('wearing', 44),\n",
       "             ('jacket', 5),\n",
       "             ('as', 1945),\n",
       "             ('if', 1046),\n",
       "             ('toes', 12),\n",
       "             ('might', 172),\n",
       "             ('little', 932),\n",
       "             ('numb', 74),\n",
       "             ('from', 876),\n",
       "             ('cold', 137),\n",
       "             ('want', 802),\n",
       "             ('just', 1814),\n",
       "             ('drown', 3),\n",
       "             ('excitement', 20),\n",
       "             ('hype', 3),\n",
       "             ('still', 740),\n",
       "             ('very', 1086),\n",
       "             ('troubled', 63),\n",
       "             ('about', 2249),\n",
       "             ('where', 318),\n",
       "             ('both', 87),\n",
       "             ('america', 16),\n",
       "             ('world', 246),\n",
       "             ('are', 1104),\n",
       "             ('now', 878),\n",
       "             ('could', 567),\n",
       "             ('easily', 45),\n",
       "             ('describe', 34),\n",
       "             ('transformed', 2),\n",
       "             ('hopeless', 76),\n",
       "             ('but', 2790),\n",
       "             ('type', 52),\n",
       "             ('hopelessness', 5),\n",
       "             ('fought', 3),\n",
       "             ('trusting', 56),\n",
       "             ('who', 726),\n",
       "             ('patient', 12),\n",
       "             ('had', 898),\n",
       "             ('cool', 106),\n",
       "             ('confidence', 27),\n",
       "             ('ultimate', 5),\n",
       "             ('place', 177),\n",
       "             ('peace', 47),\n",
       "             ('divine', 70),\n",
       "             ('for', 3021),\n",
       "             ('worship', 5),\n",
       "             ('attain', 2),\n",
       "             ('not', 2303),\n",
       "             ('deprived', 56),\n",
       "             ('at', 1728),\n",
       "             ('although', 54),\n",
       "             ('do', 1312),\n",
       "             ('wake', 69),\n",
       "             ('up', 1165),\n",
       "             ('morning', 181),\n",
       "             ('cross', 17),\n",
       "             ('finish', 44),\n",
       "             ('line', 41),\n",
       "             ('exhausted', 99),\n",
       "             ('alive', 22),\n",
       "             ('exact', 11),\n",
       "             ('only', 427),\n",
       "             ('tried', 64),\n",
       "             ('three', 63),\n",
       "             ('can', 1200),\n",
       "             ('longing', 67),\n",
       "             ('came', 110),\n",
       "             ('wanting', 66),\n",
       "             ('child', 100),\n",
       "             ('extremely', 104),\n",
       "             ('honoured', 58),\n",
       "             ('have', 2803),\n",
       "             ('received', 25),\n",
       "             ('such', 245),\n",
       "             ('prestigious', 2),\n",
       "             ('award', 9),\n",
       "             ('never', 329),\n",
       "             ('been', 1056),\n",
       "             ('ashame', 2),\n",
       "             ('humiliated', 67),\n",
       "             ('life', 678),\n",
       "             ('said', 220),\n",
       "             ('wanted', 153),\n",
       "             ('give', 187),\n",
       "             ('you', 1878),\n",
       "             ('sample', 2),\n",
       "             ('writing', 141),\n",
       "             ('denied', 4),\n",
       "             ('then', 415),\n",
       "             ('m', 567),\n",
       "             ('generous', 118),\n",
       "             ('today', 407),\n",
       "             ('suppose', 51),\n",
       "             ('because', 1433),\n",
       "             ('share', 124),\n",
       "             ('one', 739),\n",
       "             ('taste', 24),\n",
       "             ('barely', 18),\n",
       "             ('speak', 45),\n",
       "             ('even', 717),\n",
       "             ('though', 365),\n",
       "             ('fine', 104),\n",
       "             ('make', 639),\n",
       "             ('called', 59),\n",
       "             ('sweet', 172),\n",
       "             ('jesus', 20),\n",
       "             ('sacrificed', 2),\n",
       "             ('everything', 262),\n",
       "             ('me', 2899),\n",
       "             ('would', 798),\n",
       "             ('resentful', 75),\n",
       "             ('toward', 56),\n",
       "             ('patrick', 3),\n",
       "             ('couldnt', 79),\n",
       "             ('read', 188),\n",
       "             ('her', 780),\n",
       "             ('nightly', 2),\n",
       "             ('books', 67),\n",
       "             ('pretty', 491),\n",
       "             ('scene', 20),\n",
       "             ('nurtured', 2),\n",
       "             ('respected', 69),\n",
       "             ('protected', 9),\n",
       "             ('equal', 11),\n",
       "             ('aa', 3),\n",
       "             ('meeting', 37),\n",
       "             ('really', 1182),\n",
       "             ('started', 238),\n",
       "             ('isolated', 75),\n",
       "             ('everyone', 154),\n",
       "             ('room', 90),\n",
       "             ('kind', 268),\n",
       "             ('insecure', 75),\n",
       "             ('here', 345),\n",
       "             ('anyways', 5),\n",
       "             ('back', 498),\n",
       "             ('remember', 227),\n",
       "             ('impatient', 58),\n",
       "             ('struggling', 28),\n",
       "             ('times', 216),\n",
       "             ('ok', 113),\n",
       "             ('blessings', 14),\n",
       "             ('upon', 47),\n",
       "             ('realized', 61),\n",
       "             ('don', 507),\n",
       "             ('t', 1156),\n",
       "             ('sharing', 34),\n",
       "             ('twitter', 17),\n",
       "             ('s', 602),\n",
       "             ('vain', 74),\n",
       "             ('thing', 234),\n",
       "             ('realize', 68),\n",
       "             ('met', 51),\n",
       "             ('none', 18),\n",
       "             ('those', 333),\n",
       "             ('goals', 17),\n",
       "             ('strongly', 44),\n",
       "             ('these', 446),\n",
       "             ('valuable', 69),\n",
       "             ('human', 53),\n",
       "             ('resources', 6),\n",
       "             ('actually', 239),\n",
       "             ('take', 258),\n",
       "             ('state', 41),\n",
       "             ('virtuous', 57),\n",
       "             ('cycle', 16),\n",
       "             ('development', 10),\n",
       "             ('growth', 11),\n",
       "             ('general', 39),\n",
       "             ('well', 344),\n",
       "             ('being', 849),\n",
       "             ('ed', 6),\n",
       "             ('tell', 198),\n",
       "             ('know', 1080),\n",
       "             ('shouldn', 21),\n",
       "             ('shamed', 30),\n",
       "             ('eating', 57),\n",
       "             ('protein', 6),\n",
       "             ('bar', 11),\n",
       "             ('breakfast', 20),\n",
       "             ('fact', 138),\n",
       "             ('ate', 21),\n",
       "             ('isn', 27),\n",
       "             ('what', 984),\n",
       "             ('makes', 303),\n",
       "             ('shameful', 2),\n",
       "             ('didn', 168),\n",
       "             ('hang', 20),\n",
       "             ('head', 112),\n",
       "             ('tuck', 6),\n",
       "             ('tail', 3),\n",
       "             ('eyes', 96),\n",
       "             ('many', 292),\n",
       "             ('turn', 70),\n",
       "             ('disgusted', 72),\n",
       "             ('by', 1108),\n",
       "             ('self', 145),\n",
       "             ('british', 10),\n",
       "             ('woman', 79),\n",
       "             ('admit', 96),\n",
       "             ('point', 161),\n",
       "             ('failure', 18),\n",
       "             ('began', 70),\n",
       "             ('curious', 77),\n",
       "             ('percieve', 2),\n",
       "             ('beneath', 8),\n",
       "             ('pride', 24),\n",
       "             ('why', 271),\n",
       "             ('regretful', 61),\n",
       "             ('horribly', 14),\n",
       "             ('butt', 10),\n",
       "             ('thank', 32),\n",
       "             ('gracious', 31),\n",
       "             ('punished', 83),\n",
       "             ('insulted', 76),\n",
       "             ('see', 440),\n",
       "             ('anyone', 157),\n",
       "             ('fashionable', 2),\n",
       "             ('shoe', 3),\n",
       "             ('icon', 2),\n",
       "             ('b', 28),\n",
       "             ('casual', 48),\n",
       "             ('every', 311),\n",
       "             ('other', 423),\n",
       "             ('night', 173),\n",
       "             ('when', 1689),\n",
       "             ('pretending', 6),\n",
       "             ('deserve', 29),\n",
       "             ('broke', 63),\n",
       "             ('how', 957),\n",
       "             ('proud', 104),\n",
       "             ('carried', 10),\n",
       "             ('out', 1024),\n",
       "             ('struggle', 29),\n",
       "             ('real', 128),\n",
       "             ('cant', 376),\n",
       "             ('help', 334),\n",
       "             ('perhaps', 47),\n",
       "             ('perception', 6),\n",
       "             ('isnt', 55),\n",
       "             ('keen', 39),\n",
       "             ('once', 155),\n",
       "             ('thought', 235),\n",
       "             ('faithful', 70),\n",
       "             ('enough', 295),\n",
       "             ('terrible', 84),\n",
       "             ('mrs', 3),\n",
       "             ('house', 110),\n",
       "             ('must', 135),\n",
       "             ('say', 416),\n",
       "             ('depressed', 116),\n",
       "             ('completely', 150),\n",
       "             ('meaningless', 5),\n",
       "             ('weird', 167),\n",
       "             ('nothing', 180),\n",
       "             ('applied', 3),\n",
       "             ('job', 118),\n",
       "             ('they', 855),\n",
       "             ('assured', 69),\n",
       "             ('exams', 15),\n",
       "             ('few', 243),\n",
       "             ('later', 57),\n",
       "             ('week', 225),\n",
       "             ('went', 149),\n",
       "             ('obtain', 7),\n",
       "             ('information', 30),\n",
       "             ('told', 125),\n",
       "             ('already', 196),\n",
       "             ('taken', 56),\n",
       "             ('pick', 37),\n",
       "             ('them', 801),\n",
       "             ('try', 208),\n",
       "             ('adventurous', 55),\n",
       "             ('sadness', 36),\n",
       "             ('phrases', 4),\n",
       "             ('sentences', 3),\n",
       "             ('themselves', 41),\n",
       "             ('wonderful', 114),\n",
       "             ('story', 87),\n",
       "             ('their', 452),\n",
       "             ('own', 251),\n",
       "             ('lively', 28),\n",
       "             ('compared', 11),\n",
       "             ('noisy', 3),\n",
       "             ('dead', 25),\n",
       "             ('atmosphere', 7),\n",
       "             ('down', 322),\n",
       "             ('hill', 9),\n",
       "             ('need', 477),\n",
       "             ('thoughts', 100),\n",
       "             ('feelings', 419),\n",
       "             ('play', 54),\n",
       "             ('anymore', 91),\n",
       "             ('anyway', 38),\n",
       "             ('irritable', 89),\n",
       "             ('too', 534),\n",
       "             ('rotten', 59),\n",
       "             ('put', 167),\n",
       "             ('happy', 311),\n",
       "             ('face', 137),\n",
       "             ('annoyed', 83),\n",
       "             ('lot', 287),\n",
       "             ('positive', 99),\n",
       "             ('future', 91),\n",
       "             ('virtual', 5),\n",
       "             ('birth', 19),\n",
       "             ('unit', 5),\n",
       "             ('education', 16),\n",
       "             ('message', 23),\n",
       "             ('lame', 58),\n",
       "             ('something', 630),\n",
       "             ('monday', 22),\n",
       "             ('friday', 24),\n",
       "             ('getting', 253),\n",
       "             ('decent', 10),\n",
       "             ('keep', 197),\n",
       "             ('starting', 128),\n",
       "             ('abused', 50),\n",
       "             ('coffee', 23),\n",
       "             ('machine', 9),\n",
       "             ('office', 27),\n",
       "             ('gonna', 34),\n",
       "             ('go', 493),\n",
       "             ('somewhere', 30),\n",
       "             ('cozy', 4),\n",
       "             ('get', 926),\n",
       "             ('lover', 8),\n",
       "             ('ecstatic', 50),\n",
       "             ('no', 561),\n",
       "             ('homework', 13),\n",
       "             ('honored', 67),\n",
       "             ('chosen', 18),\n",
       "             ('stand', 53),\n",
       "             ('sidelines', 3),\n",
       "             ('journey', 25),\n",
       "             ('his', 459),\n",
       "             ('cheering', 4),\n",
       "             ('him', 718),\n",
       "             ('watching', 73),\n",
       "             ('excel', 2),\n",
       "             ('grow', 25),\n",
       "             ('into', 477),\n",
       "             ('incredible', 13),\n",
       "             ('doctor', 16),\n",
       "             ('overwhelming', 15),\n",
       "             ('truly', 100),\n",
       "             ('blessed', 149),\n",
       "             ('understand', 132),\n",
       "             ('musicians', 3),\n",
       "             ('sometimes', 250),\n",
       "             ('inhibited', 34),\n",
       "             ('promotion', 4),\n",
       "             ('than', 557),\n",
       "             ('caring', 91),\n",
       "             ('greater', 16),\n",
       "             ('good', 481),\n",
       "             ('news', 41),\n",
       "             ('melancholy', 73),\n",
       "             ('were', 369),\n",
       "             ('always', 453),\n",
       "             ('entertained', 34),\n",
       "             ('simply', 70),\n",
       "             ('content', 89),\n",
       "             ('each', 156),\n",
       "             ('longer', 83),\n",
       "             ('angst', 2),\n",
       "             ('inside', 125),\n",
       "             ('passion', 16),\n",
       "             ('wronged', 59),\n",
       "             ('drove', 13),\n",
       "             ('initial', 10),\n",
       "             ('connection', 37),\n",
       "             ('emo', 16),\n",
       "             ('awkwardness', 4),\n",
       "             ('whenever', 58),\n",
       "             ('acceptable', 61),\n",
       "             ('before', 261),\n",
       "             ('lucky', 89),\n",
       "             ('guilty', 113),\n",
       "             ('having', 307),\n",
       "             ('got', 337),\n",
       "             ('without', 264),\n",
       "             ('serious', 19),\n",
       "             ('damage', 9),\n",
       "             ('disability', 3),\n",
       "             ('bad', 211),\n",
       "             ('people', 839),\n",
       "             ('drugs', 10),\n",
       "             ('trying', 233),\n",
       "             ('fill', 20),\n",
       "             ('void', 3),\n",
       "             ('hurt', 151),\n",
       "             ('past', 136),\n",
       "             ('drug', 5),\n",
       "             ('temporary', 5),\n",
       "             ('happiness', 34),\n",
       "             ('lost', 155),\n",
       "             ('fitness', 9),\n",
       "             ('during', 104),\n",
       "             ('weeks', 90),\n",
       "             ('either', 75),\n",
       "             ('awkward', 91),\n",
       "             ('valued', 74),\n",
       "             ('under', 66),\n",
       "             ('paid', 10),\n",
       "             ('worked', 43),\n",
       "             ('slave', 4),\n",
       "             ('unfortunately', 7),\n",
       "             ('personal', 43),\n",
       "             ('couldn', 35),\n",
       "             ('lock', 8),\n",
       "             ('deal', 57),\n",
       "             ('ways', 70),\n",
       "             ('may', 173),\n",
       "             ('passionate', 143),\n",
       "             ('taking', 114),\n",
       "             ('photos', 36),\n",
       "             ('pleased', 67),\n",
       "             ('addition', 7),\n",
       "             ('year', 227),\n",
       "             ('birds', 7),\n",
       "             ('decided', 90),\n",
       "             ('walk', 93),\n",
       "             ('around', 382),\n",
       "             ('fire', 10),\n",
       "             ('station', 4),\n",
       "             ('area', 36),\n",
       "             ('which', 468),\n",
       "             ('produced', 2),\n",
       "             ('love', 617),\n",
       "             ('aching', 74),\n",
       "             ('oh', 59),\n",
       "             ('things', 607),\n",
       "             ('front', 67),\n",
       "             ('sides', 11),\n",
       "             ('calves', 3),\n",
       "             ('muscles', 20),\n",
       "             ('fantasy', 5),\n",
       "             ('day', 540),\n",
       "             ('soon', 76),\n",
       "             ('featured', 2),\n",
       "             ('sports', 4),\n",
       "             ('swimsuit', 2),\n",
       "             ('model', 7),\n",
       "             ('maybe', 147),\n",
       "             ('special', 110),\n",
       "             ('issue', 31),\n",
       "             ('baby', 87),\n",
       "             ('he', 834),\n",
       "             ('needs', 65),\n",
       "             ('accepted', 146),\n",
       "             ('appreciated', 23),\n",
       "             ('adore', 7),\n",
       "             ('watches', 5),\n",
       "             ('gift', 31),\n",
       "             ('list', 56),\n",
       "             ('knows', 24),\n",
       "             ('unloved', 49),\n",
       "             ('surprises', 3),\n",
       "             ('kinda', 77),\n",
       "             ('cannot', 98),\n",
       "             ('series', 30),\n",
       "             ('unpleasant', 44),\n",
       "             ('stumbling', 2),\n",
       "             ('laid', 11),\n",
       "             ('bed', 95),\n",
       "             ('hide', 26),\n",
       "             ('girl', 120),\n",
       "             ('onto', 32),\n",
       "             ('top', 47),\n",
       "             ('gently', 4),\n",
       "             ('mommy', 10),\n",
       "             ('whats', 32),\n",
       "             ('bothering', 8),\n",
       "             ('sympathetic', 73),\n",
       "             ('narrator', 3),\n",
       "             ('struggled', 16),\n",
       "             ('through', 322),\n",
       "             ('low', 106),\n",
       "             ('income', 6),\n",
       "             ('think', 726),\n",
       "             ('work', 407),\n",
       "             ('there', 652),\n",
       "             ('mistake', 18),\n",
       "             ('doomed', 56),\n",
       "             ('garden', 14),\n",
       "             ('fabulous', 56),\n",
       "             ('immediately', 24),\n",
       "             ('guilt', 34),\n",
       "             ('selfish', 82),\n",
       "             ('practical', 6),\n",
       "             ('side', 76),\n",
       "             ('appears', 5),\n",
       "             ('care', 129),\n",
       "             ('kids', 102),\n",
       "             ('parents', 70),\n",
       "             ('disabilities', 2),\n",
       "             ('targeted', 4),\n",
       "             ('media', 31),\n",
       "             ('reports', 2),\n",
       "             ('sorrow', 11),\n",
       "             ('family', 220),\n",
       "             ('members', 28),\n",
       "             ('community', 42),\n",
       "             ('newtown', 2),\n",
       "             ('stunned', 25),\n",
       "             ('events', 24),\n",
       "             ('challenge', 26),\n",
       "             ('fun', 81),\n",
       "             ('way', 571),\n",
       "             ('knock', 3),\n",
       "             ('games', 21),\n",
       "             ('our', 344),\n",
       "             ('pressured', 69),\n",
       "             ('reach', 36),\n",
       "             ('any', 326),\n",
       "             ('certain', 68),\n",
       "             ('hand', 78),\n",
       "             ('its', 657),\n",
       "             ('warmth', 16),\n",
       "             ('sense', 127),\n",
       "             ('strange', 172),\n",
       "             ('sea', 15),\n",
       "             ('lives', 64),\n",
       "             ('shared', 20),\n",
       "             ('wave', 14),\n",
       "             ('hope', 172),\n",
       "             ('joy', 63),\n",
       "             ('surrender', 2),\n",
       "             ('surge', 2),\n",
       "             ('letting', 33),\n",
       "             ('wherever', 4),\n",
       "             ('breathing', 17),\n",
       "             ('delicate', 48),\n",
       "             ('dried', 4),\n",
       "             ('rose', 3),\n",
       "             ('inspired', 88),\n",
       "             ('motivation', 13),\n",
       "             ('needy', 57),\n",
       "             ('comfortable', 105),\n",
       "             ('vulnerable', 79),\n",
       "             ('secure', 12),\n",
       "             ('urge', 15),\n",
       "             ('cum', 2),\n",
       "             ('hard', 159),\n",
       "             ('relief', 16),\n",
       "             ('grumpy', 57),\n",
       "             ('hadnt', 18),\n",
       "             ('throughout', 28),\n",
       "             ('lungs', 8),\n",
       "             ('deciding', 5),\n",
       "             ('wasnt', 119),\n",
       "             ('unwell', 2),\n",
       "             ('felt', 326),\n",
       "             ('sitting', 82),\n",
       "             ('chest', 31),\n",
       "             ('flattened', 2),\n",
       "             ('wind', 18),\n",
       "             ('blow', 9),\n",
       "             ('presence', 38),\n",
       "             ('rest', 86),\n",
       "             ('honestly', 68),\n",
       "             ('victimized', 17),\n",
       "             ('rather', 204),\n",
       "             ('suggested', 5),\n",
       "             ('flower', 11),\n",
       "             ('distribution', 2),\n",
       "             ('esp', 3),\n",
       "             ('bought', 24),\n",
       "             ('flowers', 13),\n",
       "             ('didnt', 334),\n",
       "             ('bank', 11),\n",
       "             ('card', 19),\n",
       "             ('harder', 26),\n",
       "             ('careful', 5),\n",
       "             ('money', 79),\n",
       "             ('wondering', 38),\n",
       "             ('lesson', 15),\n",
       "             ('losing', 36),\n",
       "             ('paranoid', 69),\n",
       "             ('fuck', 28),\n",
       "             ('thinking', 159),\n",
       "             ('looking', 162),\n",
       "             ('un', 10),\n",
       "             ('mood', 52),\n",
       "             ('re', 112),\n",
       "             ('reading', 107),\n",
       "             ('post', 138),\n",
       "             ('reacting', 7),\n",
       "             ('find', 283),\n",
       "             ('shaking', 5),\n",
       "             ('imagine', 45),\n",
       "             ('someone', 324),\n",
       "             ('jealous', 73),\n",
       "             ('lonely', 109),\n",
       "             ('scared', 108),\n",
       "             ('protect', 14),\n",
       "             ('someones', 11),\n",
       "             ('lips', 22),\n",
       "             ('burning', 2),\n",
       "             ('havent', 92),\n",
       "             ('talked', 31),\n",
       "             ('days', 311),\n",
       "             ('bit', 642),\n",
       "             ('overwhelmed', 171),\n",
       "             ('different', 74),\n",
       "             ('we', 633),\n",
       "             ('mountain', 11),\n",
       "             ('whore', 3),\n",
       "             ('ashamed', 96),\n",
       "             ('bigger', 14),\n",
       "             ('dont', 596),\n",
       "             ('granted', 13),\n",
       "             ('shell', 8),\n",
       "             ('smarter', 6),\n",
       "             ('average', 12),\n",
       "             ('kid', 39),\n",
       "             ('shes', 66),\n",
       "             ('smart', 69),\n",
       "             ('satisfied', 84),\n",
       "             ('wish', 111),\n",
       "             ('possibly', 41),\n",
       "             ('forgotten', 13),\n",
       "             ('idiotic', 39),\n",
       "             ('last', 267),\n",
       "             ('years', 181),\n",
       "             ('whole', 158),\n",
       "             ('forgot', 14),\n",
       "             ('pack', 4),\n",
       "             ('shirts', 4),\n",
       "             ('joyful', 70),\n",
       "             ('sorry', 118),\n",
       "             ('benefit', 13),\n",
       "             ('strong', 115),\n",
       "             ('several', 42),\n",
       "             ('hours', 91),\n",
       "             ('playful', 40),\n",
       "             ('open', 74),\n",
       "             ('great', 136),\n",
       "             ('learned', 50),\n",
       "             ('month', 54),\n",
       "             ('us', 188),\n",
       "             ('manage', 21),\n",
       "             ('another', 164),\n",
       "             ('company', 33),\n",
       "             ('peaceful', 67),\n",
       "             ('boss', 12),\n",
       "             ('drunk', 11),\n",
       "             ('yell', 9),\n",
       "             ('unimportant', 66),\n",
       "             ('shit', 48),\n",
       "             ('together', 94),\n",
       "             ('stepped', 7),\n",
       "             ('private', 9),\n",
       "             ('club', 17),\n",
       "             ('standing', 22),\n",
       "             ('suit', 4),\n",
       "             ('convention', 4),\n",
       "             ('full', 92),\n",
       "             ('lethargic', 79),\n",
       "             ('incredibly', 66),\n",
       "             ('listless', 55),\n",
       "             ('least', 133),\n",
       "             ('weather', 36),\n",
       "             ('improving', 5),\n",
       "             ('tackling', 4),\n",
       "             ('exercise', 26),\n",
       "             ('backyard', 4),\n",
       "             ('shed', 13),\n",
       "             ('late', 42),\n",
       "             ('burden', 20),\n",
       "             ('system', 27),\n",
       "             ('intended', 12),\n",
       "             ('shopping', 21),\n",
       "             ('second', 64),\n",
       "             ('consecutive', 2),\n",
       "             ('safe', 103),\n",
       "             ('ourselves', 15),\n",
       "             ('trust', 66),\n",
       "             ('lingering', 2),\n",
       "             ('nor', 33),\n",
       "             ('becoming', 28),\n",
       "             ('apart', 22),\n",
       "             ('afraid', 134),\n",
       "             ('associate', 4),\n",
       "             ('regular', 16),\n",
       "             ('forget', 38),\n",
       "             ('important', 140),\n",
       "             ('ill', 192),\n",
       "             ('transfer', 3),\n",
       "             ('useful', 78),\n",
       "             ('next', 148),\n",
       "             ('class', 112),\n",
       "             ('website', 11),\n",
       "             ('specific', 18),\n",
       "             ('blogs', 20),\n",
       "             ('sites', 8),\n",
       "             ('rebellious', 54),\n",
       "             ('older', 31),\n",
       "             ('look', 272),\n",
       "             ('pop', 18),\n",
       "             ('music', 76),\n",
       "             ('childhood', 18),\n",
       "             ('fake', 63),\n",
       "             ('firmly', 5),\n",
       "             ('shouldnt', 32),\n",
       "             ('spend', 61),\n",
       "             ('fantastic', 55),\n",
       "             ('mixing', 2),\n",
       "             ('style', 56),\n",
       "             ('higher', 13),\n",
       "             ('end', 185),\n",
       "             ('items', 14),\n",
       "             ('convinced', 78),\n",
       "             ('twins', 2),\n",
       "             ('declare', 4),\n",
       "             ('upset', 63),\n",
       "             ('wont', 97),\n",
       "             ('greedy', 79),\n",
       "             ('sure', 302),\n",
       "             ('advantage', 9),\n",
       "             ('psychological', 3),\n",
       "             ('competition', 8),\n",
       "             ('hopelessly', 4),\n",
       "             ('burdened', 72),\n",
       "             ('big', 98),\n",
       "             ('jump', 11),\n",
       "             ('first', 226),\n",
       "             ('fight', 33),\n",
       "             ('saw', 53),\n",
       "             ('working', 110),\n",
       "             ('expecting', 10),\n",
       "             ('better', 268),\n",
       "             ('whack', 3),\n",
       "             ('messed', 7),\n",
       "             ('psychologically', 2),\n",
       "             ('fucked', 72),\n",
       "             ('underappreciated', 2),\n",
       "             ('stop', 157),\n",
       "             ('talking', 81),\n",
       "             ('uncomfortable', 84),\n",
       "             ('swarming', 2),\n",
       "             ('mouth', 23),\n",
       "             ('keeps', 25),\n",
       "             ('saying', 107),\n",
       "             ('unnecessary', 13),\n",
       "             ('word', 56),\n",
       "             ('thankful', 120),\n",
       "             ('everyday', 39),\n",
       "             ('burns', 2),\n",
       "             ('darkness', 6),\n",
       "             ('led', 11),\n",
       "             ('risen', 2),\n",
       "             ('show', 109),\n",
       "             ('wrong', 91),\n",
       "             ('kept', 43),\n",
       "             ('staring', 7),\n",
       "             ('violent', 75),\n",
       "             ('lapse', 4),\n",
       "             ('photography', 11),\n",
       "             ('vigorous', 8),\n",
       "             ('sun', 36),\n",
       "             ('racing', 4),\n",
       "             ('sky', 18),\n",
       "             ('relationship', 73),\n",
       "             ('opposite', 10),\n",
       "             ('based', 22),\n",
       "             ('drinking', 12),\n",
       "             ('socializing', 3),\n",
       "             ('personality', 16),\n",
       "             ('boring', 64),\n",
       "             ('obnoxious', 27),\n",
       "             ('after', 398),\n",
       "             ('workout', 20),\n",
       "             ('anything', 276),\n",
       "             ('handing', 4),\n",
       "             ('mormon', 2),\n",
       "             ('impressed', 75),\n",
       "             ('descriptions', 3),\n",
       "             ('seem', 88),\n",
       "             ('probably', 112),\n",
       "             ('defeated', 67),\n",
       "             ('nervous', 113),\n",
       "             ('planned', 7),\n",
       "             ('feed', 14),\n",
       "             ('younger', 17),\n",
       "             ('teens', 3),\n",
       "             ('bursting', 3),\n",
       "             ('delicious', 60),\n",
       "             ('again', 388),\n",
       "             ('four', 43),\n",
       "             ('sticking', 6),\n",
       "             ('sleeping', 38),\n",
       "             ('pattern', 11),\n",
       "             ('best', 124),\n",
       "             ('normal', 54),\n",
       "             ('perfect', 110),\n",
       "             ('fit', 35),\n",
       "             ('audiences', 5),\n",
       "             ('gorgeous', 73),\n",
       "             ('creativity', 12),\n",
       "             ('online', 24),\n",
       "             ('entertainment', 5),\n",
       "             ('hands', 56),\n",
       "             ('stupid', 133),\n",
       "             ('yelled', 4),\n",
       "             ('guess', 160),\n",
       "             ('making', 202),\n",
       "             ('definitive', 2),\n",
       "             ('decisions', 21),\n",
       "             ('truths', 6),\n",
       "             ('fearful', 57),\n",
       "             ('concerned', 19),\n",
       "             ('worried', 47),\n",
       "             ('loved', 153),\n",
       "             ('kicked', 11),\n",
       "             ('shoved', 2),\n",
       "             ('crappy', 69),\n",
       "             ('nowhere', 10),\n",
       "             ('near', 32),\n",
       "             ('closing', 4),\n",
       "             ('fan', 20),\n",
       "             ('london', 14),\n",
       "             ('grammar', 4),\n",
       "             ('collaboration', 2),\n",
       "             ('definitely', 69),\n",
       "             ('helps', 23),\n",
       "             ('creative', 88),\n",
       "             ('aware', 25),\n",
       "             ('indulge', 6),\n",
       "             ('wounded', 3),\n",
       "             ('loving', 112),\n",
       "             ('adult', 13),\n",
       "             ('charge', 4),\n",
       "             ('sudden', 15),\n",
       "             ('arrived', 15),\n",
       "             ('home', 270),\n",
       "             ('hot', 98),\n",
       "             ('sweaty', 5),\n",
       "             ('chinese', 10),\n",
       "             ('food', 81),\n",
       "             ('d', 64),\n",
       "             ('aside', 14),\n",
       "             ('quiet', 29),\n",
       "             ('person', 265),\n",
       "             ('loyal', 57),\n",
       "             ('clever', 63),\n",
       "             ('gt', 17),\n",
       "             ('avoided', 7),\n",
       "             ('gosh', 3),\n",
       "             ('honest', 40),\n",
       "             ('putting', 50),\n",
       "             ('splendid', 14),\n",
       "             ('naughty', 63),\n",
       "             ('intentions', 7),\n",
       "             ('ought', 13),\n",
       "             ('far', 114),\n",
       "             ('extent', 15),\n",
       "             ('currently', 26),\n",
       "             ('body', 143),\n",
       "             ('email', 15),\n",
       "             ('usually', 88),\n",
       "             ('contains', 3),\n",
       "             ('locate', 2),\n",
       "             ('jeff', 2),\n",
       "             ('therapeutic', 2),\n",
       "             ('helpful', 10),\n",
       "             ('keeping', 40),\n",
       "             ('blog', 173),\n",
       "             ('reluctant', 67),\n",
       "             ('whether', 74),\n",
       "             ('should', 405),\n",
       "             ('boyfriend', 34),\n",
       "             ('remind', 31),\n",
       "             ('fruit', 8),\n",
       "             ('won', 43),\n",
       "             ('disliked', 5),\n",
       "             ('most', 360),\n",
       "             ('lately', 125),\n",
       "             ('practice', 26),\n",
       "             ('present', 27),\n",
       "             ('living', 87),\n",
       "             ('appreciative', 47),\n",
       "             ('relaxed', 76),\n",
       "             ('benefits', 5),\n",
       "             ('budget', 6),\n",
       "             ('exotic', 2),\n",
       "             ('sets', 5),\n",
       "             ('paintings', 6),\n",
       "             ('running', 84),\n",
       "             ('loss', 45),\n",
       "             ('ever', 260),\n",
       "             ('dull', 79),\n",
       "             ('nostalgia', 8),\n",
       "             ('dad', 36),\n",
       "             ('luck', 11),\n",
       "             ('add', 43),\n",
       "             ('input', 7),\n",
       "             ('advice', 16),\n",
       "             ('guidance', 7),\n",
       "             ('enjoy', 92),\n",
       "             ('hearing', 26),\n",
       "             ('faith', 28),\n",
       "             ('stories', 39),\n",
       "             ('believers', 2),\n",
       "             ('leave', 128),\n",
       "             ('inadequate', 65),\n",
       "             ('worthwhile', 65),\n",
       "             ('depth', 14),\n",
       "             ('city', 29),\n",
       "             ('sized', 4),\n",
       "             ('escape', 17),\n",
       "             ('tia', 2),\n",
       "             ('held', 18),\n",
       "             ('reaching', 10),\n",
       "             ('potential', 17),\n",
       "             ('decide', 37),\n",
       "             ('pray', 28),\n",
       "             ('reason', 119),\n",
       "             ('lol', 27),\n",
       "             ('amvassago', 2),\n",
       "             ('laughing', 16),\n",
       "             ('beefy', 2),\n",
       "             ('epic', 5),\n",
       "             ('beef', 3),\n",
       "             ('cake', 10),\n",
       "             ('ahead', 34),\n",
       "             ('hopeful', 74),\n",
       "             ('long', 206),\n",
       "             ('sticks', 3),\n",
       "             ('useless', 83),\n",
       "             ('pointless', 5),\n",
       "             ('mirror', 9),\n",
       "             ('partly', 14),\n",
       "             ('worry', 40),\n",
       "             ('reputation', 6),\n",
       "             ('positivity', 2),\n",
       "             ('doing', 312),\n",
       "             ('slightly', 116),\n",
       "             ('productive', 68),\n",
       "             ('zero', 7),\n",
       "             ('sending', 8),\n",
       "             ...])"
      ]
     },
     "execution_count": 28,
     "metadata": {},
     "output_type": "execute_result"
    }
   ],
   "source": [
    "tokenizer.word_counts"
   ]
  },
  {
   "cell_type": "markdown",
   "metadata": {},
   "source": [
    "## Model Architecture"
   ]
  },
  {
   "cell_type": "code",
   "execution_count": 29,
   "metadata": {},
   "outputs": [
    {
     "data": {
      "text/plain": [
       "8404"
      ]
     },
     "execution_count": 29,
     "metadata": {},
     "output_type": "execute_result"
    }
   ],
   "source": [
    "input_dim = len(tokenizer.word_index) + 1\n",
    "input_dim"
   ]
  },
  {
   "cell_type": "code",
   "execution_count": 30,
   "metadata": {},
   "outputs": [
    {
     "data": {
      "text/plain": [
       "51"
      ]
     },
     "execution_count": 30,
     "metadata": {},
     "output_type": "execute_result"
    }
   ],
   "source": [
    "input_length = max(len(sequence) for sequence in tokenizer.texts_to_sequences(df['text_clean']))\n",
    "input_length"
   ]
  },
  {
   "cell_type": "code",
   "execution_count": 31,
   "metadata": {},
   "outputs": [
    {
     "name": "stdout",
     "output_type": "stream",
     "text": [
      "Model: \"sequential\"\n",
      "_________________________________________________________________\n",
      " Layer (type)                Output Shape              Param #   \n",
      "=================================================================\n",
      " embedding (Embedding)       (None, 51, 128)           1075712   \n",
      "                                                                 \n",
      " gru (GRU)                   (None, 64)                37248     \n",
      "                                                                 \n",
      " dense (Dense)               (None, 6)                 390       \n",
      "                                                                 \n",
      "=================================================================\n",
      "Total params: 1113350 (4.25 MB)\n",
      "Trainable params: 1113350 (4.25 MB)\n",
      "Non-trainable params: 0 (0.00 Byte)\n",
      "_________________________________________________________________\n"
     ]
    }
   ],
   "source": [
    "from keras.models import Sequential\n",
    "from keras.layers import Embedding, GRU, Dense\n",
    "from keras.optimizers import Adam\n",
    "\n",
    "model = Sequential()\n",
    "model.add(Embedding(input_dim=input_dim, output_dim=128, input_length=input_length))\n",
    "model.add(GRU(64, dropout=0.2, recurrent_dropout=0.2))\n",
    "model.add(Dense(6, activation='softmax'))\n",
    "model.compile(optimizer=Adam(), loss='categorical_crossentropy', metrics=['accuracy'])\n",
    "model.summary()"
   ]
  },
  {
   "cell_type": "markdown",
   "metadata": {},
   "source": [
    "The model consists of three layers:\n",
    "\n",
    "- Embedding Layer: Maps the input sequences to dense vectors of fixed size (128).\n",
    "- GRU (Gated Recurrent Unit) Layer: A type of recurrent layer with 64 units and dropout of 0.2 for regularization.\n",
    "- Dense Layer: The output layer with 6 units (for each emotion category) and softmax activation.\n",
    "\n",
    "The model is compiled using the Adam optimizer and categorical cross-entropy loss, with accuracy as the evaluation metric."
   ]
  },
  {
   "cell_type": "markdown",
   "metadata": {},
   "source": [
    "## Training the Model\n",
    "\n",
    "To train the text classification model, the preprocessed data is converted into sequences and padded/truncated to a fixed length. The training process is then executed using the Keras `fit` method.\n",
    "\n",
    "The model undergoes training for 10 epochs, with a batch size of 32. The training progress is displayed in terms of loss and accuracy."
   ]
  },
  {
   "cell_type": "code",
   "execution_count": 32,
   "metadata": {},
   "outputs": [],
   "source": [
    "from sklearn.model_selection import train_test_split\n",
    "from tensorflow.keras.preprocessing.sequence import pad_sequences\n",
    "\n",
    "sequences = tokenizer.texts_to_sequences(df['text_clean'])\n",
    "X = pad_sequences(sequences, maxlen=input_length, padding='post', truncating='post')\n",
    "\n",
    "X_train, X_test, y_train, y_test = train_test_split(X, one_hot_labels, test_size=0.01, random_state=42) # 200 samples for testing"
   ]
  },
  {
   "cell_type": "code",
   "execution_count": 33,
   "metadata": {},
   "outputs": [
    {
     "data": {
      "text/plain": [
       "(19800, 51)"
      ]
     },
     "execution_count": 33,
     "metadata": {},
     "output_type": "execute_result"
    }
   ],
   "source": [
    "X_train.shape"
   ]
  },
  {
   "cell_type": "code",
   "execution_count": 34,
   "metadata": {},
   "outputs": [
    {
     "data": {
      "text/plain": [
       "3960.0"
      ]
     },
     "execution_count": 34,
     "metadata": {},
     "output_type": "execute_result"
    }
   ],
   "source": [
    "X_train.shape[0] * 0.2"
   ]
  },
  {
   "cell_type": "code",
   "execution_count": 35,
   "metadata": {},
   "outputs": [
    {
     "name": "stdout",
     "output_type": "stream",
     "text": [
      "Epoch 1/10\n"
     ]
    },
    {
     "name": "stdout",
     "output_type": "stream",
     "text": [
      "495/495 [==============================] - 19s 33ms/step - loss: 1.5812 - accuracy: 0.3316 - val_loss: 1.5929 - val_accuracy: 0.3386\n",
      "Epoch 2/10\n",
      "495/495 [==============================] - 17s 35ms/step - loss: 1.5751 - accuracy: 0.3372 - val_loss: 1.5877 - val_accuracy: 0.3386\n",
      "Epoch 3/10\n",
      "495/495 [==============================] - 17s 34ms/step - loss: 1.5736 - accuracy: 0.3336 - val_loss: 1.5958 - val_accuracy: 0.3386\n",
      "Epoch 4/10\n",
      "495/495 [==============================] - 17s 34ms/step - loss: 1.5453 - accuracy: 0.3473 - val_loss: 1.2687 - val_accuracy: 0.3889\n",
      "Epoch 5/10\n",
      "495/495 [==============================] - 16s 32ms/step - loss: 0.6266 - accuracy: 0.7677 - val_loss: 0.2941 - val_accuracy: 0.8970\n",
      "Epoch 6/10\n",
      "495/495 [==============================] - 18s 36ms/step - loss: 0.2065 - accuracy: 0.9230 - val_loss: 0.2567 - val_accuracy: 0.9058\n",
      "Epoch 7/10\n",
      "495/495 [==============================] - 17s 34ms/step - loss: 0.1326 - accuracy: 0.9496 - val_loss: 0.2769 - val_accuracy: 0.9023\n",
      "Epoch 8/10\n",
      "495/495 [==============================] - 17s 35ms/step - loss: 0.0957 - accuracy: 0.9621 - val_loss: 0.3314 - val_accuracy: 0.8922\n",
      "Epoch 9/10\n",
      "495/495 [==============================] - 17s 34ms/step - loss: 0.0747 - accuracy: 0.9708 - val_loss: 0.3437 - val_accuracy: 0.8957\n",
      "Epoch 10/10\n",
      "495/495 [==============================] - 17s 34ms/step - loss: 0.0601 - accuracy: 0.9747 - val_loss: 0.3732 - val_accuracy: 0.8952\n"
     ]
    }
   ],
   "source": [
    "epochs = 10\n",
    "batch_size = 32\n",
    "\n",
    "history = model.fit(X_train, y_train, epochs=epochs, batch_size=batch_size, validation_split=0.2)"
   ]
  },
  {
   "cell_type": "markdown",
   "metadata": {},
   "source": [
    "The training results provide insights into the model's convergence, with both training and validation accuracies and losses over each epoch.\n",
    "The first three epochs are fairly slow, however the fourth epoch sends the accuracy flying."
   ]
  },
  {
   "cell_type": "markdown",
   "metadata": {},
   "source": [
    "## Training Evaluation"
   ]
  },
  {
   "cell_type": "code",
   "execution_count": 36,
   "metadata": {},
   "outputs": [
    {
     "data": {
      "application/vnd.plotly.v1+json": {
       "config": {
        "plotlyServerURL": "https://plot.ly"
       },
       "data": [
        {
         "mode": "lines",
         "name": "Training Loss",
         "type": "scatter",
         "x": [
          1,
          2,
          3,
          4,
          5,
          6,
          7,
          8,
          9,
          10
         ],
         "y": [
          1.5811575651168823,
          1.575120210647583,
          1.5736218690872192,
          1.5452518463134766,
          0.6266149878501892,
          0.20651063323020935,
          0.13260626792907715,
          0.09572696685791016,
          0.07466836273670197,
          0.06005539000034332
         ]
        },
        {
         "mode": "lines",
         "name": "Validation Loss",
         "type": "scatter",
         "x": [
          1,
          2,
          3,
          4,
          5,
          6,
          7,
          8,
          9,
          10
         ],
         "y": [
          1.5928889513015747,
          1.5876567363739014,
          1.5958492755889893,
          1.2687058448791504,
          0.29407599568367004,
          0.2566705346107483,
          0.2768794298171997,
          0.3314244747161865,
          0.343742698431015,
          0.3731885850429535
         ]
        }
       ],
       "layout": {
        "template": {
         "data": {
          "bar": [
           {
            "error_x": {
             "color": "#2a3f5f"
            },
            "error_y": {
             "color": "#2a3f5f"
            },
            "marker": {
             "line": {
              "color": "#E5ECF6",
              "width": 0.5
             },
             "pattern": {
              "fillmode": "overlay",
              "size": 10,
              "solidity": 0.2
             }
            },
            "type": "bar"
           }
          ],
          "barpolar": [
           {
            "marker": {
             "line": {
              "color": "#E5ECF6",
              "width": 0.5
             },
             "pattern": {
              "fillmode": "overlay",
              "size": 10,
              "solidity": 0.2
             }
            },
            "type": "barpolar"
           }
          ],
          "carpet": [
           {
            "aaxis": {
             "endlinecolor": "#2a3f5f",
             "gridcolor": "white",
             "linecolor": "white",
             "minorgridcolor": "white",
             "startlinecolor": "#2a3f5f"
            },
            "baxis": {
             "endlinecolor": "#2a3f5f",
             "gridcolor": "white",
             "linecolor": "white",
             "minorgridcolor": "white",
             "startlinecolor": "#2a3f5f"
            },
            "type": "carpet"
           }
          ],
          "choropleth": [
           {
            "colorbar": {
             "outlinewidth": 0,
             "ticks": ""
            },
            "type": "choropleth"
           }
          ],
          "contour": [
           {
            "colorbar": {
             "outlinewidth": 0,
             "ticks": ""
            },
            "colorscale": [
             [
              0,
              "#0d0887"
             ],
             [
              0.1111111111111111,
              "#46039f"
             ],
             [
              0.2222222222222222,
              "#7201a8"
             ],
             [
              0.3333333333333333,
              "#9c179e"
             ],
             [
              0.4444444444444444,
              "#bd3786"
             ],
             [
              0.5555555555555556,
              "#d8576b"
             ],
             [
              0.6666666666666666,
              "#ed7953"
             ],
             [
              0.7777777777777778,
              "#fb9f3a"
             ],
             [
              0.8888888888888888,
              "#fdca26"
             ],
             [
              1,
              "#f0f921"
             ]
            ],
            "type": "contour"
           }
          ],
          "contourcarpet": [
           {
            "colorbar": {
             "outlinewidth": 0,
             "ticks": ""
            },
            "type": "contourcarpet"
           }
          ],
          "heatmap": [
           {
            "colorbar": {
             "outlinewidth": 0,
             "ticks": ""
            },
            "colorscale": [
             [
              0,
              "#0d0887"
             ],
             [
              0.1111111111111111,
              "#46039f"
             ],
             [
              0.2222222222222222,
              "#7201a8"
             ],
             [
              0.3333333333333333,
              "#9c179e"
             ],
             [
              0.4444444444444444,
              "#bd3786"
             ],
             [
              0.5555555555555556,
              "#d8576b"
             ],
             [
              0.6666666666666666,
              "#ed7953"
             ],
             [
              0.7777777777777778,
              "#fb9f3a"
             ],
             [
              0.8888888888888888,
              "#fdca26"
             ],
             [
              1,
              "#f0f921"
             ]
            ],
            "type": "heatmap"
           }
          ],
          "heatmapgl": [
           {
            "colorbar": {
             "outlinewidth": 0,
             "ticks": ""
            },
            "colorscale": [
             [
              0,
              "#0d0887"
             ],
             [
              0.1111111111111111,
              "#46039f"
             ],
             [
              0.2222222222222222,
              "#7201a8"
             ],
             [
              0.3333333333333333,
              "#9c179e"
             ],
             [
              0.4444444444444444,
              "#bd3786"
             ],
             [
              0.5555555555555556,
              "#d8576b"
             ],
             [
              0.6666666666666666,
              "#ed7953"
             ],
             [
              0.7777777777777778,
              "#fb9f3a"
             ],
             [
              0.8888888888888888,
              "#fdca26"
             ],
             [
              1,
              "#f0f921"
             ]
            ],
            "type": "heatmapgl"
           }
          ],
          "histogram": [
           {
            "marker": {
             "pattern": {
              "fillmode": "overlay",
              "size": 10,
              "solidity": 0.2
             }
            },
            "type": "histogram"
           }
          ],
          "histogram2d": [
           {
            "colorbar": {
             "outlinewidth": 0,
             "ticks": ""
            },
            "colorscale": [
             [
              0,
              "#0d0887"
             ],
             [
              0.1111111111111111,
              "#46039f"
             ],
             [
              0.2222222222222222,
              "#7201a8"
             ],
             [
              0.3333333333333333,
              "#9c179e"
             ],
             [
              0.4444444444444444,
              "#bd3786"
             ],
             [
              0.5555555555555556,
              "#d8576b"
             ],
             [
              0.6666666666666666,
              "#ed7953"
             ],
             [
              0.7777777777777778,
              "#fb9f3a"
             ],
             [
              0.8888888888888888,
              "#fdca26"
             ],
             [
              1,
              "#f0f921"
             ]
            ],
            "type": "histogram2d"
           }
          ],
          "histogram2dcontour": [
           {
            "colorbar": {
             "outlinewidth": 0,
             "ticks": ""
            },
            "colorscale": [
             [
              0,
              "#0d0887"
             ],
             [
              0.1111111111111111,
              "#46039f"
             ],
             [
              0.2222222222222222,
              "#7201a8"
             ],
             [
              0.3333333333333333,
              "#9c179e"
             ],
             [
              0.4444444444444444,
              "#bd3786"
             ],
             [
              0.5555555555555556,
              "#d8576b"
             ],
             [
              0.6666666666666666,
              "#ed7953"
             ],
             [
              0.7777777777777778,
              "#fb9f3a"
             ],
             [
              0.8888888888888888,
              "#fdca26"
             ],
             [
              1,
              "#f0f921"
             ]
            ],
            "type": "histogram2dcontour"
           }
          ],
          "mesh3d": [
           {
            "colorbar": {
             "outlinewidth": 0,
             "ticks": ""
            },
            "type": "mesh3d"
           }
          ],
          "parcoords": [
           {
            "line": {
             "colorbar": {
              "outlinewidth": 0,
              "ticks": ""
             }
            },
            "type": "parcoords"
           }
          ],
          "pie": [
           {
            "automargin": true,
            "type": "pie"
           }
          ],
          "scatter": [
           {
            "fillpattern": {
             "fillmode": "overlay",
             "size": 10,
             "solidity": 0.2
            },
            "type": "scatter"
           }
          ],
          "scatter3d": [
           {
            "line": {
             "colorbar": {
              "outlinewidth": 0,
              "ticks": ""
             }
            },
            "marker": {
             "colorbar": {
              "outlinewidth": 0,
              "ticks": ""
             }
            },
            "type": "scatter3d"
           }
          ],
          "scattercarpet": [
           {
            "marker": {
             "colorbar": {
              "outlinewidth": 0,
              "ticks": ""
             }
            },
            "type": "scattercarpet"
           }
          ],
          "scattergeo": [
           {
            "marker": {
             "colorbar": {
              "outlinewidth": 0,
              "ticks": ""
             }
            },
            "type": "scattergeo"
           }
          ],
          "scattergl": [
           {
            "marker": {
             "colorbar": {
              "outlinewidth": 0,
              "ticks": ""
             }
            },
            "type": "scattergl"
           }
          ],
          "scattermapbox": [
           {
            "marker": {
             "colorbar": {
              "outlinewidth": 0,
              "ticks": ""
             }
            },
            "type": "scattermapbox"
           }
          ],
          "scatterpolar": [
           {
            "marker": {
             "colorbar": {
              "outlinewidth": 0,
              "ticks": ""
             }
            },
            "type": "scatterpolar"
           }
          ],
          "scatterpolargl": [
           {
            "marker": {
             "colorbar": {
              "outlinewidth": 0,
              "ticks": ""
             }
            },
            "type": "scatterpolargl"
           }
          ],
          "scatterternary": [
           {
            "marker": {
             "colorbar": {
              "outlinewidth": 0,
              "ticks": ""
             }
            },
            "type": "scatterternary"
           }
          ],
          "surface": [
           {
            "colorbar": {
             "outlinewidth": 0,
             "ticks": ""
            },
            "colorscale": [
             [
              0,
              "#0d0887"
             ],
             [
              0.1111111111111111,
              "#46039f"
             ],
             [
              0.2222222222222222,
              "#7201a8"
             ],
             [
              0.3333333333333333,
              "#9c179e"
             ],
             [
              0.4444444444444444,
              "#bd3786"
             ],
             [
              0.5555555555555556,
              "#d8576b"
             ],
             [
              0.6666666666666666,
              "#ed7953"
             ],
             [
              0.7777777777777778,
              "#fb9f3a"
             ],
             [
              0.8888888888888888,
              "#fdca26"
             ],
             [
              1,
              "#f0f921"
             ]
            ],
            "type": "surface"
           }
          ],
          "table": [
           {
            "cells": {
             "fill": {
              "color": "#EBF0F8"
             },
             "line": {
              "color": "white"
             }
            },
            "header": {
             "fill": {
              "color": "#C8D4E3"
             },
             "line": {
              "color": "white"
             }
            },
            "type": "table"
           }
          ]
         },
         "layout": {
          "annotationdefaults": {
           "arrowcolor": "#2a3f5f",
           "arrowhead": 0,
           "arrowwidth": 1
          },
          "autotypenumbers": "strict",
          "coloraxis": {
           "colorbar": {
            "outlinewidth": 0,
            "ticks": ""
           }
          },
          "colorscale": {
           "diverging": [
            [
             0,
             "#8e0152"
            ],
            [
             0.1,
             "#c51b7d"
            ],
            [
             0.2,
             "#de77ae"
            ],
            [
             0.3,
             "#f1b6da"
            ],
            [
             0.4,
             "#fde0ef"
            ],
            [
             0.5,
             "#f7f7f7"
            ],
            [
             0.6,
             "#e6f5d0"
            ],
            [
             0.7,
             "#b8e186"
            ],
            [
             0.8,
             "#7fbc41"
            ],
            [
             0.9,
             "#4d9221"
            ],
            [
             1,
             "#276419"
            ]
           ],
           "sequential": [
            [
             0,
             "#0d0887"
            ],
            [
             0.1111111111111111,
             "#46039f"
            ],
            [
             0.2222222222222222,
             "#7201a8"
            ],
            [
             0.3333333333333333,
             "#9c179e"
            ],
            [
             0.4444444444444444,
             "#bd3786"
            ],
            [
             0.5555555555555556,
             "#d8576b"
            ],
            [
             0.6666666666666666,
             "#ed7953"
            ],
            [
             0.7777777777777778,
             "#fb9f3a"
            ],
            [
             0.8888888888888888,
             "#fdca26"
            ],
            [
             1,
             "#f0f921"
            ]
           ],
           "sequentialminus": [
            [
             0,
             "#0d0887"
            ],
            [
             0.1111111111111111,
             "#46039f"
            ],
            [
             0.2222222222222222,
             "#7201a8"
            ],
            [
             0.3333333333333333,
             "#9c179e"
            ],
            [
             0.4444444444444444,
             "#bd3786"
            ],
            [
             0.5555555555555556,
             "#d8576b"
            ],
            [
             0.6666666666666666,
             "#ed7953"
            ],
            [
             0.7777777777777778,
             "#fb9f3a"
            ],
            [
             0.8888888888888888,
             "#fdca26"
            ],
            [
             1,
             "#f0f921"
            ]
           ]
          },
          "colorway": [
           "#636efa",
           "#EF553B",
           "#00cc96",
           "#ab63fa",
           "#FFA15A",
           "#19d3f3",
           "#FF6692",
           "#B6E880",
           "#FF97FF",
           "#FECB52"
          ],
          "font": {
           "color": "#2a3f5f"
          },
          "geo": {
           "bgcolor": "white",
           "lakecolor": "white",
           "landcolor": "#E5ECF6",
           "showlakes": true,
           "showland": true,
           "subunitcolor": "white"
          },
          "hoverlabel": {
           "align": "left"
          },
          "hovermode": "closest",
          "mapbox": {
           "style": "light"
          },
          "paper_bgcolor": "white",
          "plot_bgcolor": "#E5ECF6",
          "polar": {
           "angularaxis": {
            "gridcolor": "white",
            "linecolor": "white",
            "ticks": ""
           },
           "bgcolor": "#E5ECF6",
           "radialaxis": {
            "gridcolor": "white",
            "linecolor": "white",
            "ticks": ""
           }
          },
          "scene": {
           "xaxis": {
            "backgroundcolor": "#E5ECF6",
            "gridcolor": "white",
            "gridwidth": 2,
            "linecolor": "white",
            "showbackground": true,
            "ticks": "",
            "zerolinecolor": "white"
           },
           "yaxis": {
            "backgroundcolor": "#E5ECF6",
            "gridcolor": "white",
            "gridwidth": 2,
            "linecolor": "white",
            "showbackground": true,
            "ticks": "",
            "zerolinecolor": "white"
           },
           "zaxis": {
            "backgroundcolor": "#E5ECF6",
            "gridcolor": "white",
            "gridwidth": 2,
            "linecolor": "white",
            "showbackground": true,
            "ticks": "",
            "zerolinecolor": "white"
           }
          },
          "shapedefaults": {
           "line": {
            "color": "#2a3f5f"
           }
          },
          "ternary": {
           "aaxis": {
            "gridcolor": "white",
            "linecolor": "white",
            "ticks": ""
           },
           "baxis": {
            "gridcolor": "white",
            "linecolor": "white",
            "ticks": ""
           },
           "bgcolor": "#E5ECF6",
           "caxis": {
            "gridcolor": "white",
            "linecolor": "white",
            "ticks": ""
           }
          },
          "title": {
           "x": 0.05
          },
          "xaxis": {
           "automargin": true,
           "gridcolor": "white",
           "linecolor": "white",
           "ticks": "",
           "title": {
            "standoff": 15
           },
           "zerolinecolor": "white",
           "zerolinewidth": 2
          },
          "yaxis": {
           "automargin": true,
           "gridcolor": "white",
           "linecolor": "white",
           "ticks": "",
           "title": {
            "standoff": 15
           },
           "zerolinecolor": "white",
           "zerolinewidth": 2
          }
         }
        },
        "title": {
         "text": "Train and Val Loss"
        },
        "xaxis": {
         "title": {
          "text": "Epochs"
         }
        },
        "yaxis": {
         "title": {
          "text": "Loss"
         }
        }
       }
      }
     },
     "metadata": {},
     "output_type": "display_data"
    }
   ],
   "source": [
    "import plotly.graph_objects as go\n",
    "fig = go.Figure()\n",
    "fig.add_trace(go.Scatter(x=list(range(1, epochs + 1)), y=history.history['loss'], mode='lines', name='Training Loss'))\n",
    "fig.add_trace(go.Scatter(x=list(range(1, epochs + 1)), y=history.history['val_loss'], mode='lines', name='Validation Loss'))\n",
    "fig.update_layout(title='Train and Val Loss', xaxis=dict(title='Epochs'), yaxis=dict(title='Loss'))\n",
    "fig.show()"
   ]
  },
  {
   "cell_type": "markdown",
   "metadata": {},
   "source": [
    "![](Assets/gru_plots/loss_1.png)"
   ]
  },
  {
   "cell_type": "code",
   "execution_count": 37,
   "metadata": {},
   "outputs": [
    {
     "data": {
      "application/vnd.plotly.v1+json": {
       "config": {
        "plotlyServerURL": "https://plot.ly"
       },
       "data": [
        {
         "mode": "lines",
         "name": "Training Accuracy",
         "type": "scatter",
         "x": [
          1,
          2,
          3,
          4,
          5,
          6,
          7,
          8,
          9,
          10
         ],
         "y": [
          0.33162879943847656,
          0.33724746108055115,
          0.33358585834503174,
          0.34734848141670227,
          0.7677398920059204,
          0.9229797720909119,
          0.9496212005615234,
          0.9620580673217773,
          0.9708333611488342,
          0.9747474789619446
         ]
        },
        {
         "mode": "lines",
         "name": "Validation Accuracy",
         "type": "scatter",
         "x": [
          1,
          2,
          3,
          4,
          5,
          6,
          7,
          8,
          9,
          10
         ],
         "y": [
          0.3386363685131073,
          0.3386363685131073,
          0.3386363685131073,
          0.3888888955116272,
          0.8969696760177612,
          0.9058080911636353,
          0.9022727012634277,
          0.8921717405319214,
          0.8957070708274841,
          0.8952020406723022
         ]
        }
       ],
       "layout": {
        "template": {
         "data": {
          "bar": [
           {
            "error_x": {
             "color": "#2a3f5f"
            },
            "error_y": {
             "color": "#2a3f5f"
            },
            "marker": {
             "line": {
              "color": "#E5ECF6",
              "width": 0.5
             },
             "pattern": {
              "fillmode": "overlay",
              "size": 10,
              "solidity": 0.2
             }
            },
            "type": "bar"
           }
          ],
          "barpolar": [
           {
            "marker": {
             "line": {
              "color": "#E5ECF6",
              "width": 0.5
             },
             "pattern": {
              "fillmode": "overlay",
              "size": 10,
              "solidity": 0.2
             }
            },
            "type": "barpolar"
           }
          ],
          "carpet": [
           {
            "aaxis": {
             "endlinecolor": "#2a3f5f",
             "gridcolor": "white",
             "linecolor": "white",
             "minorgridcolor": "white",
             "startlinecolor": "#2a3f5f"
            },
            "baxis": {
             "endlinecolor": "#2a3f5f",
             "gridcolor": "white",
             "linecolor": "white",
             "minorgridcolor": "white",
             "startlinecolor": "#2a3f5f"
            },
            "type": "carpet"
           }
          ],
          "choropleth": [
           {
            "colorbar": {
             "outlinewidth": 0,
             "ticks": ""
            },
            "type": "choropleth"
           }
          ],
          "contour": [
           {
            "colorbar": {
             "outlinewidth": 0,
             "ticks": ""
            },
            "colorscale": [
             [
              0,
              "#0d0887"
             ],
             [
              0.1111111111111111,
              "#46039f"
             ],
             [
              0.2222222222222222,
              "#7201a8"
             ],
             [
              0.3333333333333333,
              "#9c179e"
             ],
             [
              0.4444444444444444,
              "#bd3786"
             ],
             [
              0.5555555555555556,
              "#d8576b"
             ],
             [
              0.6666666666666666,
              "#ed7953"
             ],
             [
              0.7777777777777778,
              "#fb9f3a"
             ],
             [
              0.8888888888888888,
              "#fdca26"
             ],
             [
              1,
              "#f0f921"
             ]
            ],
            "type": "contour"
           }
          ],
          "contourcarpet": [
           {
            "colorbar": {
             "outlinewidth": 0,
             "ticks": ""
            },
            "type": "contourcarpet"
           }
          ],
          "heatmap": [
           {
            "colorbar": {
             "outlinewidth": 0,
             "ticks": ""
            },
            "colorscale": [
             [
              0,
              "#0d0887"
             ],
             [
              0.1111111111111111,
              "#46039f"
             ],
             [
              0.2222222222222222,
              "#7201a8"
             ],
             [
              0.3333333333333333,
              "#9c179e"
             ],
             [
              0.4444444444444444,
              "#bd3786"
             ],
             [
              0.5555555555555556,
              "#d8576b"
             ],
             [
              0.6666666666666666,
              "#ed7953"
             ],
             [
              0.7777777777777778,
              "#fb9f3a"
             ],
             [
              0.8888888888888888,
              "#fdca26"
             ],
             [
              1,
              "#f0f921"
             ]
            ],
            "type": "heatmap"
           }
          ],
          "heatmapgl": [
           {
            "colorbar": {
             "outlinewidth": 0,
             "ticks": ""
            },
            "colorscale": [
             [
              0,
              "#0d0887"
             ],
             [
              0.1111111111111111,
              "#46039f"
             ],
             [
              0.2222222222222222,
              "#7201a8"
             ],
             [
              0.3333333333333333,
              "#9c179e"
             ],
             [
              0.4444444444444444,
              "#bd3786"
             ],
             [
              0.5555555555555556,
              "#d8576b"
             ],
             [
              0.6666666666666666,
              "#ed7953"
             ],
             [
              0.7777777777777778,
              "#fb9f3a"
             ],
             [
              0.8888888888888888,
              "#fdca26"
             ],
             [
              1,
              "#f0f921"
             ]
            ],
            "type": "heatmapgl"
           }
          ],
          "histogram": [
           {
            "marker": {
             "pattern": {
              "fillmode": "overlay",
              "size": 10,
              "solidity": 0.2
             }
            },
            "type": "histogram"
           }
          ],
          "histogram2d": [
           {
            "colorbar": {
             "outlinewidth": 0,
             "ticks": ""
            },
            "colorscale": [
             [
              0,
              "#0d0887"
             ],
             [
              0.1111111111111111,
              "#46039f"
             ],
             [
              0.2222222222222222,
              "#7201a8"
             ],
             [
              0.3333333333333333,
              "#9c179e"
             ],
             [
              0.4444444444444444,
              "#bd3786"
             ],
             [
              0.5555555555555556,
              "#d8576b"
             ],
             [
              0.6666666666666666,
              "#ed7953"
             ],
             [
              0.7777777777777778,
              "#fb9f3a"
             ],
             [
              0.8888888888888888,
              "#fdca26"
             ],
             [
              1,
              "#f0f921"
             ]
            ],
            "type": "histogram2d"
           }
          ],
          "histogram2dcontour": [
           {
            "colorbar": {
             "outlinewidth": 0,
             "ticks": ""
            },
            "colorscale": [
             [
              0,
              "#0d0887"
             ],
             [
              0.1111111111111111,
              "#46039f"
             ],
             [
              0.2222222222222222,
              "#7201a8"
             ],
             [
              0.3333333333333333,
              "#9c179e"
             ],
             [
              0.4444444444444444,
              "#bd3786"
             ],
             [
              0.5555555555555556,
              "#d8576b"
             ],
             [
              0.6666666666666666,
              "#ed7953"
             ],
             [
              0.7777777777777778,
              "#fb9f3a"
             ],
             [
              0.8888888888888888,
              "#fdca26"
             ],
             [
              1,
              "#f0f921"
             ]
            ],
            "type": "histogram2dcontour"
           }
          ],
          "mesh3d": [
           {
            "colorbar": {
             "outlinewidth": 0,
             "ticks": ""
            },
            "type": "mesh3d"
           }
          ],
          "parcoords": [
           {
            "line": {
             "colorbar": {
              "outlinewidth": 0,
              "ticks": ""
             }
            },
            "type": "parcoords"
           }
          ],
          "pie": [
           {
            "automargin": true,
            "type": "pie"
           }
          ],
          "scatter": [
           {
            "fillpattern": {
             "fillmode": "overlay",
             "size": 10,
             "solidity": 0.2
            },
            "type": "scatter"
           }
          ],
          "scatter3d": [
           {
            "line": {
             "colorbar": {
              "outlinewidth": 0,
              "ticks": ""
             }
            },
            "marker": {
             "colorbar": {
              "outlinewidth": 0,
              "ticks": ""
             }
            },
            "type": "scatter3d"
           }
          ],
          "scattercarpet": [
           {
            "marker": {
             "colorbar": {
              "outlinewidth": 0,
              "ticks": ""
             }
            },
            "type": "scattercarpet"
           }
          ],
          "scattergeo": [
           {
            "marker": {
             "colorbar": {
              "outlinewidth": 0,
              "ticks": ""
             }
            },
            "type": "scattergeo"
           }
          ],
          "scattergl": [
           {
            "marker": {
             "colorbar": {
              "outlinewidth": 0,
              "ticks": ""
             }
            },
            "type": "scattergl"
           }
          ],
          "scattermapbox": [
           {
            "marker": {
             "colorbar": {
              "outlinewidth": 0,
              "ticks": ""
             }
            },
            "type": "scattermapbox"
           }
          ],
          "scatterpolar": [
           {
            "marker": {
             "colorbar": {
              "outlinewidth": 0,
              "ticks": ""
             }
            },
            "type": "scatterpolar"
           }
          ],
          "scatterpolargl": [
           {
            "marker": {
             "colorbar": {
              "outlinewidth": 0,
              "ticks": ""
             }
            },
            "type": "scatterpolargl"
           }
          ],
          "scatterternary": [
           {
            "marker": {
             "colorbar": {
              "outlinewidth": 0,
              "ticks": ""
             }
            },
            "type": "scatterternary"
           }
          ],
          "surface": [
           {
            "colorbar": {
             "outlinewidth": 0,
             "ticks": ""
            },
            "colorscale": [
             [
              0,
              "#0d0887"
             ],
             [
              0.1111111111111111,
              "#46039f"
             ],
             [
              0.2222222222222222,
              "#7201a8"
             ],
             [
              0.3333333333333333,
              "#9c179e"
             ],
             [
              0.4444444444444444,
              "#bd3786"
             ],
             [
              0.5555555555555556,
              "#d8576b"
             ],
             [
              0.6666666666666666,
              "#ed7953"
             ],
             [
              0.7777777777777778,
              "#fb9f3a"
             ],
             [
              0.8888888888888888,
              "#fdca26"
             ],
             [
              1,
              "#f0f921"
             ]
            ],
            "type": "surface"
           }
          ],
          "table": [
           {
            "cells": {
             "fill": {
              "color": "#EBF0F8"
             },
             "line": {
              "color": "white"
             }
            },
            "header": {
             "fill": {
              "color": "#C8D4E3"
             },
             "line": {
              "color": "white"
             }
            },
            "type": "table"
           }
          ]
         },
         "layout": {
          "annotationdefaults": {
           "arrowcolor": "#2a3f5f",
           "arrowhead": 0,
           "arrowwidth": 1
          },
          "autotypenumbers": "strict",
          "coloraxis": {
           "colorbar": {
            "outlinewidth": 0,
            "ticks": ""
           }
          },
          "colorscale": {
           "diverging": [
            [
             0,
             "#8e0152"
            ],
            [
             0.1,
             "#c51b7d"
            ],
            [
             0.2,
             "#de77ae"
            ],
            [
             0.3,
             "#f1b6da"
            ],
            [
             0.4,
             "#fde0ef"
            ],
            [
             0.5,
             "#f7f7f7"
            ],
            [
             0.6,
             "#e6f5d0"
            ],
            [
             0.7,
             "#b8e186"
            ],
            [
             0.8,
             "#7fbc41"
            ],
            [
             0.9,
             "#4d9221"
            ],
            [
             1,
             "#276419"
            ]
           ],
           "sequential": [
            [
             0,
             "#0d0887"
            ],
            [
             0.1111111111111111,
             "#46039f"
            ],
            [
             0.2222222222222222,
             "#7201a8"
            ],
            [
             0.3333333333333333,
             "#9c179e"
            ],
            [
             0.4444444444444444,
             "#bd3786"
            ],
            [
             0.5555555555555556,
             "#d8576b"
            ],
            [
             0.6666666666666666,
             "#ed7953"
            ],
            [
             0.7777777777777778,
             "#fb9f3a"
            ],
            [
             0.8888888888888888,
             "#fdca26"
            ],
            [
             1,
             "#f0f921"
            ]
           ],
           "sequentialminus": [
            [
             0,
             "#0d0887"
            ],
            [
             0.1111111111111111,
             "#46039f"
            ],
            [
             0.2222222222222222,
             "#7201a8"
            ],
            [
             0.3333333333333333,
             "#9c179e"
            ],
            [
             0.4444444444444444,
             "#bd3786"
            ],
            [
             0.5555555555555556,
             "#d8576b"
            ],
            [
             0.6666666666666666,
             "#ed7953"
            ],
            [
             0.7777777777777778,
             "#fb9f3a"
            ],
            [
             0.8888888888888888,
             "#fdca26"
            ],
            [
             1,
             "#f0f921"
            ]
           ]
          },
          "colorway": [
           "#636efa",
           "#EF553B",
           "#00cc96",
           "#ab63fa",
           "#FFA15A",
           "#19d3f3",
           "#FF6692",
           "#B6E880",
           "#FF97FF",
           "#FECB52"
          ],
          "font": {
           "color": "#2a3f5f"
          },
          "geo": {
           "bgcolor": "white",
           "lakecolor": "white",
           "landcolor": "#E5ECF6",
           "showlakes": true,
           "showland": true,
           "subunitcolor": "white"
          },
          "hoverlabel": {
           "align": "left"
          },
          "hovermode": "closest",
          "mapbox": {
           "style": "light"
          },
          "paper_bgcolor": "white",
          "plot_bgcolor": "#E5ECF6",
          "polar": {
           "angularaxis": {
            "gridcolor": "white",
            "linecolor": "white",
            "ticks": ""
           },
           "bgcolor": "#E5ECF6",
           "radialaxis": {
            "gridcolor": "white",
            "linecolor": "white",
            "ticks": ""
           }
          },
          "scene": {
           "xaxis": {
            "backgroundcolor": "#E5ECF6",
            "gridcolor": "white",
            "gridwidth": 2,
            "linecolor": "white",
            "showbackground": true,
            "ticks": "",
            "zerolinecolor": "white"
           },
           "yaxis": {
            "backgroundcolor": "#E5ECF6",
            "gridcolor": "white",
            "gridwidth": 2,
            "linecolor": "white",
            "showbackground": true,
            "ticks": "",
            "zerolinecolor": "white"
           },
           "zaxis": {
            "backgroundcolor": "#E5ECF6",
            "gridcolor": "white",
            "gridwidth": 2,
            "linecolor": "white",
            "showbackground": true,
            "ticks": "",
            "zerolinecolor": "white"
           }
          },
          "shapedefaults": {
           "line": {
            "color": "#2a3f5f"
           }
          },
          "ternary": {
           "aaxis": {
            "gridcolor": "white",
            "linecolor": "white",
            "ticks": ""
           },
           "baxis": {
            "gridcolor": "white",
            "linecolor": "white",
            "ticks": ""
           },
           "bgcolor": "#E5ECF6",
           "caxis": {
            "gridcolor": "white",
            "linecolor": "white",
            "ticks": ""
           }
          },
          "title": {
           "x": 0.05
          },
          "xaxis": {
           "automargin": true,
           "gridcolor": "white",
           "linecolor": "white",
           "ticks": "",
           "title": {
            "standoff": 15
           },
           "zerolinecolor": "white",
           "zerolinewidth": 2
          },
          "yaxis": {
           "automargin": true,
           "gridcolor": "white",
           "linecolor": "white",
           "ticks": "",
           "title": {
            "standoff": 15
           },
           "zerolinecolor": "white",
           "zerolinewidth": 2
          }
         }
        },
        "title": {
         "text": "Training and Val Acc"
        },
        "xaxis": {
         "title": {
          "text": "Epochs"
         }
        },
        "yaxis": {
         "title": {
          "text": "Accuracy"
         }
        }
       }
      }
     },
     "metadata": {},
     "output_type": "display_data"
    }
   ],
   "source": [
    "fig = go.Figure()\n",
    "fig.add_trace(go.Scatter(x=list(range(1, epochs + 1)), y=history.history['accuracy'], mode='lines', name='Training Accuracy'))\n",
    "fig.add_trace(go.Scatter(x=list(range(1, epochs + 1)), y=history.history['val_accuracy'], mode='lines', name='Validation Accuracy'))\n",
    "fig.update_layout(title='Training and Val Acc', xaxis=dict(title='Epochs'), yaxis=dict(title='Accuracy'))\n",
    "fig.show()"
   ]
  },
  {
   "cell_type": "markdown",
   "metadata": {},
   "source": [
    "![](Assets/gru_plots/acc_1.png)"
   ]
  },
  {
   "cell_type": "code",
   "execution_count": 38,
   "metadata": {},
   "outputs": [
    {
     "name": "stdout",
     "output_type": "stream",
     "text": [
      "7/7 [==============================] - 0s 8ms/step - loss: 0.2977 - accuracy: 0.9050\n",
      "Test Loss: 0.2977\n",
      "Test Accuracy: 90.50%\n"
     ]
    }
   ],
   "source": [
    "def evaluate_model(model, X_test, y_test):\n",
    "    loss, accuracy = model.evaluate(X_test, y_test)\n",
    "\n",
    "    print(f'Test Loss: {loss:.4f}')\n",
    "    print(f'Test Accuracy: {accuracy * 100:.2f}%')\n",
    "\n",
    "evaluate_model(model, X_test, y_test)"
   ]
  },
  {
   "cell_type": "markdown",
   "metadata": {},
   "source": [
    "## Inference"
   ]
  },
  {
   "cell_type": "code",
   "execution_count": 39,
   "metadata": {},
   "outputs": [
    {
     "name": "stdout",
     "output_type": "stream",
     "text": [
      "1/1 [==============================] - 0s 439ms/step\n",
      "Predicted Label: joy\n",
      "1/1 [==============================] - 0s 27ms/step\n",
      "Predicted Label: joy\n",
      "1/1 [==============================] - 0s 28ms/step\n",
      "Predicted Label: joy\n",
      "1/1 [==============================] - 0s 28ms/step\n",
      "Predicted Label: joy\n",
      "1/1 [==============================] - 0s 28ms/step\n",
      "Predicted Label: joy\n"
     ]
    }
   ],
   "source": [
    "import numpy as np\n",
    "\n",
    "def predict_label(model, tokenizer, input_text, input_length):\n",
    "    sequence = tokenizer.texts_to_sequences([input_text])\n",
    "    padded_sequence = pad_sequences(sequence, maxlen=input_length, padding='post', truncating='post')\n",
    "    predicted_probabilities = model.predict(padded_sequence)\n",
    "    predicted_label = label_encoder.inverse_transform([np.argmax(predicted_probabilities)])\n",
    "\n",
    "    return predicted_label[0]\n",
    "\n",
    "a = [\"I\", \"You\", \"He\", \"She\", \"They\"]\n",
    "\n",
    "for i in a:\n",
    "    predicted_label = predict_label(model, tokenizer, i.lower() + \"very happy\", input_length) # Kind of baseline test thingy to make sure it's all good in the hood\n",
    "    print(f\"Predicted Label: {predicted_label}\")"
   ]
  },
  {
   "cell_type": "code",
   "execution_count": 40,
   "metadata": {},
   "outputs": [
    {
     "name": "stdout",
     "output_type": "stream",
     "text": [
      "1/1 [==============================] - 0s 29ms/step\n"
     ]
    },
    {
     "name": "stdout",
     "output_type": "stream",
     "text": [
      "Predicted Label: anger\n",
      "1/1 [==============================] - 0s 28ms/step\n",
      "Predicted Label: anger\n",
      "1/1 [==============================] - 0s 28ms/step\n",
      "Predicted Label: joy\n",
      "1/1 [==============================] - 0s 29ms/step\n",
      "Predicted Label: joy\n",
      "1/1 [==============================] - 0s 29ms/step\n",
      "Predicted Label: joy\n",
      "1/1 [==============================] - 0s 43ms/step\n",
      "Predicted Label: sadness\n"
     ]
    }
   ],
   "source": [
    "sentences = [\n",
    "\"Beneath the fiery surface, frustration simmers like a rebellious volcano.\",\n",
    "\"Raindrops trace silent pathways on the window, mirroring the quiet ache within.\",\n",
    "\"Laughter weaves through the air, a vibrant tapestry of shared moments.\",\n",
    "\"Hearts entwined, a cosmic dance of affection under the moonlit sky.\",\n",
    "\"In the shadowy corners, apprehension whispers its cautionary tale.\",\n",
    "\"Unexpected ripples in the routine, a serendipitous waltz with the unknown.\"\n",
    "]\n",
    "\n",
    "for i in sentences:\n",
    "    predicted_label = predict_label(model, tokenizer, i.lower(), input_length)\n",
    "    print(f\"Predicted Label: {predicted_label}\")"
   ]
  },
  {
   "cell_type": "markdown",
   "metadata": {},
   "source": [
    "As mentioned earlier, the label 'joy' is overrepresented. This reflects on performance."
   ]
  },
  {
   "cell_type": "code",
   "execution_count": 41,
   "metadata": {},
   "outputs": [
    {
     "data": {
      "text/plain": [
       "<Axes: xlabel='label'>"
      ]
     },
     "execution_count": 41,
     "metadata": {},
     "output_type": "execute_result"
    },
    {
     "data": {
      "image/png": "[encoded data removed]",
      "text/plain": [
       "<Figure size 640x480 with 1 Axes>"
      ]
     },
     "metadata": {},
     "output_type": "display_data"
    }
   ],
   "source": [
    "import matplotlib.pyplot as plt\n",
    "df['label'].value_counts().plot(kind='bar')"
   ]
  },
  {
   "cell_type": "markdown",
   "metadata": {},
   "source": [
    "Too solve this, we could create a balanced model by adding more data (augmenting) or reduce the overrepresented samples (equalization).\n",
    "\n",
    "---"
   ]
  },
  {
   "cell_type": "markdown",
   "metadata": {},
   "source": [
    "# Model #2 - Equalized Dataset\n",
    "\n",
    "To balance the model and reduce skewness, we slice the dataset."
   ]
  },
  {
   "cell_type": "code",
   "execution_count": 42,
   "metadata": {},
   "outputs": [
    {
     "data": {
      "text/plain": [
       "(8924, 3)"
      ]
     },
     "execution_count": 42,
     "metadata": {},
     "output_type": "execute_result"
    }
   ],
   "source": [
    "min_samples = 1641\n",
    "\n",
    "label_counts = df['label'].value_counts()\n",
    "df2 = pd.DataFrame(columns=df.columns)\n",
    "\n",
    "for label in label_counts.index:\n",
    "    label_data = df[df['label'] == label]\n",
    "\n",
    "    if len(label_data) > min_samples:\n",
    "        label_data = label_data.sample(min_samples, random_state=42)\n",
    "\n",
    "    df2 = pd.concat([df2, label_data])\n",
    "\n",
    "df2 = df2.reset_index(drop=True)\n",
    "\n",
    "df2.shape"
   ]
  },
  {
   "cell_type": "code",
   "execution_count": 43,
   "metadata": {},
   "outputs": [
    {
     "data": {
      "text/plain": [
       "<Axes: xlabel='label'>"
      ]
     },
     "execution_count": 43,
     "metadata": {},
     "output_type": "execute_result"
    },
    {
     "data": {
      "image/png": "[encoded data removed]",
      "text/plain": [
       "<Figure size 640x480 with 1 Axes>"
      ]
     },
     "metadata": {},
     "output_type": "display_data"
    }
   ],
   "source": [
    "df2['label'].value_counts().plot(kind='bar')"
   ]
  },
  {
   "cell_type": "markdown",
   "metadata": {},
   "source": [
    "Pros of this method: It's fast.<br>\n",
    "Cons of this method: It's random. We might remove good accurate data and keep bad. For reproducibility a random_state is added to the `sample()`. We might want to change the random state if the model performs bad, rather than manually selecting rows.\n",
    "\n",
    "'surprise' is still underrepresented, but I reducing all categories to just 719 samples would make more harm than good."
   ]
  },
  {
   "cell_type": "code",
   "execution_count": 44,
   "metadata": {},
   "outputs": [],
   "source": [
    "df2['text_clean'] = df2['text'].apply(lambda x: remove_words(x, common_words + url_elements))"
   ]
  },
  {
   "cell_type": "code",
   "execution_count": 45,
   "metadata": {},
   "outputs": [],
   "source": [
    "df2['text_clean'] = df2['text_clean'].apply(lambda x:remove_words(x, stop_words+new_stop_words))"
   ]
  },
  {
   "cell_type": "code",
   "execution_count": 46,
   "metadata": {},
   "outputs": [],
   "source": [
    "label_encoder = LabelEncoder()\n",
    "\n",
    "integer_labels = label_encoder.fit_transform(df2['label'])\n",
    "one_hot_labels = to_categorical(integer_labels)\n",
    "\n",
    "assert len(one_hot_labels) == df2.shape[0]"
   ]
  },
  {
   "cell_type": "code",
   "execution_count": 47,
   "metadata": {},
   "outputs": [
    {
     "data": {
      "text/plain": [
       "7287"
      ]
     },
     "execution_count": 47,
     "metadata": {},
     "output_type": "execute_result"
    }
   ],
   "source": [
    "tokenizer = Tokenizer()\n",
    "tokenizer.fit_on_texts(df2['text_clean'])\n",
    "input_dim = len(tokenizer.word_index) + 1\n",
    "input_dim"
   ]
  },
  {
   "cell_type": "code",
   "execution_count": 48,
   "metadata": {},
   "outputs": [
    {
     "data": {
      "text/plain": [
       "51"
      ]
     },
     "execution_count": 48,
     "metadata": {},
     "output_type": "execute_result"
    }
   ],
   "source": [
    "input_length = max(len(sequence) for sequence in tokenizer.texts_to_sequences(df2['text_clean']))\n",
    "input_length"
   ]
  },
  {
   "cell_type": "code",
   "execution_count": 49,
   "metadata": {},
   "outputs": [],
   "source": [
    "model_1 = Sequential()\n",
    "model_1.add(Embedding(input_dim=input_dim, output_dim=128, input_length=input_length))\n",
    "model_1.add(GRU(64, dropout=0.2, recurrent_dropout=0.2))\n",
    "model_1.add(Dense(6, activation='softmax'))\n",
    "model_1.compile(optimizer=Adam(), loss='categorical_crossentropy', metrics=['accuracy'])"
   ]
  },
  {
   "cell_type": "code",
   "execution_count": 50,
   "metadata": {},
   "outputs": [
    {
     "data": {
      "text/plain": [
       "1744.8000000000002"
      ]
     },
     "execution_count": 50,
     "metadata": {},
     "output_type": "execute_result"
    }
   ],
   "source": [
    "sequences = tokenizer.texts_to_sequences(df2['text_clean'])\n",
    "X = pad_sequences(sequences, maxlen=input_length, padding='post', truncating='post')\n",
    "\n",
    "X_train, X_test, y_train, y_test = train_test_split(X, one_hot_labels, test_size=0.0224, random_state=42, ) # 200 samples for testing\n",
    "\n",
    "X_train.shape[0]*.2"
   ]
  },
  {
   "cell_type": "code",
   "execution_count": 51,
   "metadata": {},
   "outputs": [
    {
     "name": "stdout",
     "output_type": "stream",
     "text": [
      "Epoch 1/24\n"
     ]
    },
    {
     "name": "stdout",
     "output_type": "stream",
     "text": [
      "437/437 [==============================] - 20s 37ms/step - loss: 1.7657 - accuracy: 0.1823 - val_loss: 1.7620 - val_accuracy: 0.1759\n",
      "Epoch 2/24\n",
      "437/437 [==============================] - 16s 36ms/step - loss: 1.7638 - accuracy: 0.1890 - val_loss: 1.7596 - val_accuracy: 0.1759\n",
      "Epoch 3/24\n",
      "437/437 [==============================] - 16s 36ms/step - loss: 1.7631 - accuracy: 0.1775 - val_loss: 1.7567 - val_accuracy: 0.1908\n",
      "Epoch 4/24\n",
      "437/437 [==============================] - 16s 36ms/step - loss: 1.7633 - accuracy: 0.1735 - val_loss: 1.7573 - val_accuracy: 0.1874\n",
      "Epoch 5/24\n",
      "437/437 [==============================] - 16s 37ms/step - loss: 1.7623 - accuracy: 0.1853 - val_loss: 1.7607 - val_accuracy: 0.1759\n",
      "Epoch 6/24\n",
      "437/437 [==============================] - 16s 38ms/step - loss: 1.7627 - accuracy: 0.1803 - val_loss: 1.7585 - val_accuracy: 0.1771\n",
      "Epoch 7/24\n",
      "437/437 [==============================] - 17s 38ms/step - loss: 1.7626 - accuracy: 0.1820 - val_loss: 1.7579 - val_accuracy: 0.1759\n",
      "Epoch 8/24\n",
      "437/437 [==============================] - 16s 36ms/step - loss: 1.7625 - accuracy: 0.1777 - val_loss: 1.7581 - val_accuracy: 0.1759\n",
      "Epoch 9/24\n",
      "437/437 [==============================] - 16s 36ms/step - loss: 1.7622 - accuracy: 0.1858 - val_loss: 1.7568 - val_accuracy: 0.1771\n",
      "Epoch 10/24\n",
      "437/437 [==============================] - 17s 39ms/step - loss: 1.7626 - accuracy: 0.1762 - val_loss: 1.7586 - val_accuracy: 0.1874\n",
      "Epoch 11/24\n",
      "437/437 [==============================] - 17s 39ms/step - loss: 1.7615 - accuracy: 0.1823 - val_loss: 1.7568 - val_accuracy: 0.1920\n",
      "Epoch 12/24\n",
      "437/437 [==============================] - 16s 37ms/step - loss: 1.7623 - accuracy: 0.1823 - val_loss: 1.7579 - val_accuracy: 0.1759\n",
      "Epoch 13/24\n",
      "437/437 [==============================] - 16s 36ms/step - loss: 1.7617 - accuracy: 0.1853 - val_loss: 1.7579 - val_accuracy: 0.1754\n",
      "Epoch 14/24\n",
      "437/437 [==============================] - 16s 37ms/step - loss: 1.7615 - accuracy: 0.1856 - val_loss: 1.7580 - val_accuracy: 0.1880\n",
      "Epoch 15/24\n",
      "437/437 [==============================] - 16s 37ms/step - loss: 1.4982 - accuracy: 0.3190 - val_loss: 1.0729 - val_accuracy: 0.5822\n",
      "Epoch 16/24\n",
      "437/437 [==============================] - 16s 37ms/step - loss: 0.7105 - accuracy: 0.7587 - val_loss: 0.4970 - val_accuracy: 0.8493\n",
      "Epoch 17/24\n",
      "437/437 [==============================] - 16s 37ms/step - loss: 0.3883 - accuracy: 0.8848 - val_loss: 0.3957 - val_accuracy: 0.8797\n",
      "Epoch 18/24\n",
      "437/437 [==============================] - 16s 38ms/step - loss: 0.2722 - accuracy: 0.9163 - val_loss: 0.3909 - val_accuracy: 0.8819\n",
      "Epoch 19/24\n",
      "437/437 [==============================] - 16s 37ms/step - loss: 0.2049 - accuracy: 0.9364 - val_loss: 0.3739 - val_accuracy: 0.8797\n",
      "Epoch 20/24\n",
      "437/437 [==============================] - 18s 41ms/step - loss: 0.1459 - accuracy: 0.9490 - val_loss: 0.3965 - val_accuracy: 0.8779\n",
      "Epoch 21/24\n",
      "437/437 [==============================] - 17s 38ms/step - loss: 0.1128 - accuracy: 0.9626 - val_loss: 0.4294 - val_accuracy: 0.8745\n",
      "Epoch 22/24\n",
      "437/437 [==============================] - 17s 38ms/step - loss: 0.0886 - accuracy: 0.9711 - val_loss: 0.4740 - val_accuracy: 0.8808\n",
      "Epoch 23/24\n",
      "437/437 [==============================] - 17s 40ms/step - loss: 0.0674 - accuracy: 0.9787 - val_loss: 0.4707 - val_accuracy: 0.8688\n",
      "Epoch 24/24\n",
      "437/437 [==============================] - 17s 38ms/step - loss: 0.0579 - accuracy: 0.9805 - val_loss: 0.5161 - val_accuracy: 0.8648\n"
     ]
    }
   ],
   "source": [
    "epochs = 24\n",
    "batch_size = 16\n",
    "\n",
    "history_eq = model_1.fit(X_train, y_train, epochs=epochs, batch_size=batch_size, validation_split=0.2)"
   ]
  },
  {
   "cell_type": "markdown",
   "metadata": {},
   "source": [
    "Yeah it's a bit overfit but that's ok."
   ]
  },
  {
   "cell_type": "code",
   "execution_count": 52,
   "metadata": {},
   "outputs": [
    {
     "data": {
      "application/vnd.plotly.v1+json": {
       "config": {
        "plotlyServerURL": "https://plot.ly"
       },
       "data": [
        {
         "mode": "lines",
         "name": "Training Loss",
         "type": "scatter",
         "x": [
          1,
          2,
          3,
          4,
          5,
          6,
          7,
          8,
          9,
          10,
          11,
          12,
          13,
          14,
          15,
          16,
          17,
          18,
          19,
          20,
          21,
          22,
          23,
          24
         ],
         "y": [
          1.7656580209732056,
          1.7638062238693237,
          1.76314377784729,
          1.7632659673690796,
          1.762258768081665,
          1.7627216577529907,
          1.7626489400863647,
          1.76253080368042,
          1.7621656656265259,
          1.7625819444656372,
          1.7615046501159668,
          1.7622989416122437,
          1.7616838216781616,
          1.7614657878875732,
          1.4981820583343506,
          0.7105322480201721,
          0.3882725238800049,
          0.2722393870353699,
          0.20492123067378998,
          0.14589785039424896,
          0.11283498257398605,
          0.08858925104141235,
          0.0674421489238739,
          0.057930219918489456
         ]
        },
        {
         "mode": "lines",
         "name": "Validation Loss",
         "type": "scatter",
         "x": [
          1,
          2,
          3,
          4,
          5,
          6,
          7,
          8,
          9,
          10,
          11,
          12,
          13,
          14,
          15,
          16,
          17,
          18,
          19,
          20,
          21,
          22,
          23,
          24
         ],
         "y": [
          1.7619880437850952,
          1.7595733404159546,
          1.7567228078842163,
          1.7573328018188477,
          1.7606782913208008,
          1.7585415840148926,
          1.7579131126403809,
          1.7580761909484863,
          1.7567965984344482,
          1.7586196660995483,
          1.75684654712677,
          1.7579082250595093,
          1.7578567266464233,
          1.757964015007019,
          1.072942852973938,
          0.4969787895679474,
          0.39572012424468994,
          0.3908892869949341,
          0.3738676905632019,
          0.3964664936065674,
          0.4293665587902069,
          0.473966509103775,
          0.47074514627456665,
          0.5161187648773193
         ]
        }
       ],
       "layout": {
        "template": {
         "data": {
          "bar": [
           {
            "error_x": {
             "color": "#2a3f5f"
            },
            "error_y": {
             "color": "#2a3f5f"
            },
            "marker": {
             "line": {
              "color": "#E5ECF6",
              "width": 0.5
             },
             "pattern": {
              "fillmode": "overlay",
              "size": 10,
              "solidity": 0.2
             }
            },
            "type": "bar"
           }
          ],
          "barpolar": [
           {
            "marker": {
             "line": {
              "color": "#E5ECF6",
              "width": 0.5
             },
             "pattern": {
              "fillmode": "overlay",
              "size": 10,
              "solidity": 0.2
             }
            },
            "type": "barpolar"
           }
          ],
          "carpet": [
           {
            "aaxis": {
             "endlinecolor": "#2a3f5f",
             "gridcolor": "white",
             "linecolor": "white",
             "minorgridcolor": "white",
             "startlinecolor": "#2a3f5f"
            },
            "baxis": {
             "endlinecolor": "#2a3f5f",
             "gridcolor": "white",
             "linecolor": "white",
             "minorgridcolor": "white",
             "startlinecolor": "#2a3f5f"
            },
            "type": "carpet"
           }
          ],
          "choropleth": [
           {
            "colorbar": {
             "outlinewidth": 0,
             "ticks": ""
            },
            "type": "choropleth"
           }
          ],
          "contour": [
           {
            "colorbar": {
             "outlinewidth": 0,
             "ticks": ""
            },
            "colorscale": [
             [
              0,
              "#0d0887"
             ],
             [
              0.1111111111111111,
              "#46039f"
             ],
             [
              0.2222222222222222,
              "#7201a8"
             ],
             [
              0.3333333333333333,
              "#9c179e"
             ],
             [
              0.4444444444444444,
              "#bd3786"
             ],
             [
              0.5555555555555556,
              "#d8576b"
             ],
             [
              0.6666666666666666,
              "#ed7953"
             ],
             [
              0.7777777777777778,
              "#fb9f3a"
             ],
             [
              0.8888888888888888,
              "#fdca26"
             ],
             [
              1,
              "#f0f921"
             ]
            ],
            "type": "contour"
           }
          ],
          "contourcarpet": [
           {
            "colorbar": {
             "outlinewidth": 0,
             "ticks": ""
            },
            "type": "contourcarpet"
           }
          ],
          "heatmap": [
           {
            "colorbar": {
             "outlinewidth": 0,
             "ticks": ""
            },
            "colorscale": [
             [
              0,
              "#0d0887"
             ],
             [
              0.1111111111111111,
              "#46039f"
             ],
             [
              0.2222222222222222,
              "#7201a8"
             ],
             [
              0.3333333333333333,
              "#9c179e"
             ],
             [
              0.4444444444444444,
              "#bd3786"
             ],
             [
              0.5555555555555556,
              "#d8576b"
             ],
             [
              0.6666666666666666,
              "#ed7953"
             ],
             [
              0.7777777777777778,
              "#fb9f3a"
             ],
             [
              0.8888888888888888,
              "#fdca26"
             ],
             [
              1,
              "#f0f921"
             ]
            ],
            "type": "heatmap"
           }
          ],
          "heatmapgl": [
           {
            "colorbar": {
             "outlinewidth": 0,
             "ticks": ""
            },
            "colorscale": [
             [
              0,
              "#0d0887"
             ],
             [
              0.1111111111111111,
              "#46039f"
             ],
             [
              0.2222222222222222,
              "#7201a8"
             ],
             [
              0.3333333333333333,
              "#9c179e"
             ],
             [
              0.4444444444444444,
              "#bd3786"
             ],
             [
              0.5555555555555556,
              "#d8576b"
             ],
             [
              0.6666666666666666,
              "#ed7953"
             ],
             [
              0.7777777777777778,
              "#fb9f3a"
             ],
             [
              0.8888888888888888,
              "#fdca26"
             ],
             [
              1,
              "#f0f921"
             ]
            ],
            "type": "heatmapgl"
           }
          ],
          "histogram": [
           {
            "marker": {
             "pattern": {
              "fillmode": "overlay",
              "size": 10,
              "solidity": 0.2
             }
            },
            "type": "histogram"
           }
          ],
          "histogram2d": [
           {
            "colorbar": {
             "outlinewidth": 0,
             "ticks": ""
            },
            "colorscale": [
             [
              0,
              "#0d0887"
             ],
             [
              0.1111111111111111,
              "#46039f"
             ],
             [
              0.2222222222222222,
              "#7201a8"
             ],
             [
              0.3333333333333333,
              "#9c179e"
             ],
             [
              0.4444444444444444,
              "#bd3786"
             ],
             [
              0.5555555555555556,
              "#d8576b"
             ],
             [
              0.6666666666666666,
              "#ed7953"
             ],
             [
              0.7777777777777778,
              "#fb9f3a"
             ],
             [
              0.8888888888888888,
              "#fdca26"
             ],
             [
              1,
              "#f0f921"
             ]
            ],
            "type": "histogram2d"
           }
          ],
          "histogram2dcontour": [
           {
            "colorbar": {
             "outlinewidth": 0,
             "ticks": ""
            },
            "colorscale": [
             [
              0,
              "#0d0887"
             ],
             [
              0.1111111111111111,
              "#46039f"
             ],
             [
              0.2222222222222222,
              "#7201a8"
             ],
             [
              0.3333333333333333,
              "#9c179e"
             ],
             [
              0.4444444444444444,
              "#bd3786"
             ],
             [
              0.5555555555555556,
              "#d8576b"
             ],
             [
              0.6666666666666666,
              "#ed7953"
             ],
             [
              0.7777777777777778,
              "#fb9f3a"
             ],
             [
              0.8888888888888888,
              "#fdca26"
             ],
             [
              1,
              "#f0f921"
             ]
            ],
            "type": "histogram2dcontour"
           }
          ],
          "mesh3d": [
           {
            "colorbar": {
             "outlinewidth": 0,
             "ticks": ""
            },
            "type": "mesh3d"
           }
          ],
          "parcoords": [
           {
            "line": {
             "colorbar": {
              "outlinewidth": 0,
              "ticks": ""
             }
            },
            "type": "parcoords"
           }
          ],
          "pie": [
           {
            "automargin": true,
            "type": "pie"
           }
          ],
          "scatter": [
           {
            "fillpattern": {
             "fillmode": "overlay",
             "size": 10,
             "solidity": 0.2
            },
            "type": "scatter"
           }
          ],
          "scatter3d": [
           {
            "line": {
             "colorbar": {
              "outlinewidth": 0,
              "ticks": ""
             }
            },
            "marker": {
             "colorbar": {
              "outlinewidth": 0,
              "ticks": ""
             }
            },
            "type": "scatter3d"
           }
          ],
          "scattercarpet": [
           {
            "marker": {
             "colorbar": {
              "outlinewidth": 0,
              "ticks": ""
             }
            },
            "type": "scattercarpet"
           }
          ],
          "scattergeo": [
           {
            "marker": {
             "colorbar": {
              "outlinewidth": 0,
              "ticks": ""
             }
            },
            "type": "scattergeo"
           }
          ],
          "scattergl": [
           {
            "marker": {
             "colorbar": {
              "outlinewidth": 0,
              "ticks": ""
             }
            },
            "type": "scattergl"
           }
          ],
          "scattermapbox": [
           {
            "marker": {
             "colorbar": {
              "outlinewidth": 0,
              "ticks": ""
             }
            },
            "type": "scattermapbox"
           }
          ],
          "scatterpolar": [
           {
            "marker": {
             "colorbar": {
              "outlinewidth": 0,
              "ticks": ""
             }
            },
            "type": "scatterpolar"
           }
          ],
          "scatterpolargl": [
           {
            "marker": {
             "colorbar": {
              "outlinewidth": 0,
              "ticks": ""
             }
            },
            "type": "scatterpolargl"
           }
          ],
          "scatterternary": [
           {
            "marker": {
             "colorbar": {
              "outlinewidth": 0,
              "ticks": ""
             }
            },
            "type": "scatterternary"
           }
          ],
          "surface": [
           {
            "colorbar": {
             "outlinewidth": 0,
             "ticks": ""
            },
            "colorscale": [
             [
              0,
              "#0d0887"
             ],
             [
              0.1111111111111111,
              "#46039f"
             ],
             [
              0.2222222222222222,
              "#7201a8"
             ],
             [
              0.3333333333333333,
              "#9c179e"
             ],
             [
              0.4444444444444444,
              "#bd3786"
             ],
             [
              0.5555555555555556,
              "#d8576b"
             ],
             [
              0.6666666666666666,
              "#ed7953"
             ],
             [
              0.7777777777777778,
              "#fb9f3a"
             ],
             [
              0.8888888888888888,
              "#fdca26"
             ],
             [
              1,
              "#f0f921"
             ]
            ],
            "type": "surface"
           }
          ],
          "table": [
           {
            "cells": {
             "fill": {
              "color": "#EBF0F8"
             },
             "line": {
              "color": "white"
             }
            },
            "header": {
             "fill": {
              "color": "#C8D4E3"
             },
             "line": {
              "color": "white"
             }
            },
            "type": "table"
           }
          ]
         },
         "layout": {
          "annotationdefaults": {
           "arrowcolor": "#2a3f5f",
           "arrowhead": 0,
           "arrowwidth": 1
          },
          "autotypenumbers": "strict",
          "coloraxis": {
           "colorbar": {
            "outlinewidth": 0,
            "ticks": ""
           }
          },
          "colorscale": {
           "diverging": [
            [
             0,
             "#8e0152"
            ],
            [
             0.1,
             "#c51b7d"
            ],
            [
             0.2,
             "#de77ae"
            ],
            [
             0.3,
             "#f1b6da"
            ],
            [
             0.4,
             "#fde0ef"
            ],
            [
             0.5,
             "#f7f7f7"
            ],
            [
             0.6,
             "#e6f5d0"
            ],
            [
             0.7,
             "#b8e186"
            ],
            [
             0.8,
             "#7fbc41"
            ],
            [
             0.9,
             "#4d9221"
            ],
            [
             1,
             "#276419"
            ]
           ],
           "sequential": [
            [
             0,
             "#0d0887"
            ],
            [
             0.1111111111111111,
             "#46039f"
            ],
            [
             0.2222222222222222,
             "#7201a8"
            ],
            [
             0.3333333333333333,
             "#9c179e"
            ],
            [
             0.4444444444444444,
             "#bd3786"
            ],
            [
             0.5555555555555556,
             "#d8576b"
            ],
            [
             0.6666666666666666,
             "#ed7953"
            ],
            [
             0.7777777777777778,
             "#fb9f3a"
            ],
            [
             0.8888888888888888,
             "#fdca26"
            ],
            [
             1,
             "#f0f921"
            ]
           ],
           "sequentialminus": [
            [
             0,
             "#0d0887"
            ],
            [
             0.1111111111111111,
             "#46039f"
            ],
            [
             0.2222222222222222,
             "#7201a8"
            ],
            [
             0.3333333333333333,
             "#9c179e"
            ],
            [
             0.4444444444444444,
             "#bd3786"
            ],
            [
             0.5555555555555556,
             "#d8576b"
            ],
            [
             0.6666666666666666,
             "#ed7953"
            ],
            [
             0.7777777777777778,
             "#fb9f3a"
            ],
            [
             0.8888888888888888,
             "#fdca26"
            ],
            [
             1,
             "#f0f921"
            ]
           ]
          },
          "colorway": [
           "#636efa",
           "#EF553B",
           "#00cc96",
           "#ab63fa",
           "#FFA15A",
           "#19d3f3",
           "#FF6692",
           "#B6E880",
           "#FF97FF",
           "#FECB52"
          ],
          "font": {
           "color": "#2a3f5f"
          },
          "geo": {
           "bgcolor": "white",
           "lakecolor": "white",
           "landcolor": "#E5ECF6",
           "showlakes": true,
           "showland": true,
           "subunitcolor": "white"
          },
          "hoverlabel": {
           "align": "left"
          },
          "hovermode": "closest",
          "mapbox": {
           "style": "light"
          },
          "paper_bgcolor": "white",
          "plot_bgcolor": "#E5ECF6",
          "polar": {
           "angularaxis": {
            "gridcolor": "white",
            "linecolor": "white",
            "ticks": ""
           },
           "bgcolor": "#E5ECF6",
           "radialaxis": {
            "gridcolor": "white",
            "linecolor": "white",
            "ticks": ""
           }
          },
          "scene": {
           "xaxis": {
            "backgroundcolor": "#E5ECF6",
            "gridcolor": "white",
            "gridwidth": 2,
            "linecolor": "white",
            "showbackground": true,
            "ticks": "",
            "zerolinecolor": "white"
           },
           "yaxis": {
            "backgroundcolor": "#E5ECF6",
            "gridcolor": "white",
            "gridwidth": 2,
            "linecolor": "white",
            "showbackground": true,
            "ticks": "",
            "zerolinecolor": "white"
           },
           "zaxis": {
            "backgroundcolor": "#E5ECF6",
            "gridcolor": "white",
            "gridwidth": 2,
            "linecolor": "white",
            "showbackground": true,
            "ticks": "",
            "zerolinecolor": "white"
           }
          },
          "shapedefaults": {
           "line": {
            "color": "#2a3f5f"
           }
          },
          "ternary": {
           "aaxis": {
            "gridcolor": "white",
            "linecolor": "white",
            "ticks": ""
           },
           "baxis": {
            "gridcolor": "white",
            "linecolor": "white",
            "ticks": ""
           },
           "bgcolor": "#E5ECF6",
           "caxis": {
            "gridcolor": "white",
            "linecolor": "white",
            "ticks": ""
           }
          },
          "title": {
           "x": 0.05
          },
          "xaxis": {
           "automargin": true,
           "gridcolor": "white",
           "linecolor": "white",
           "ticks": "",
           "title": {
            "standoff": 15
           },
           "zerolinecolor": "white",
           "zerolinewidth": 2
          },
          "yaxis": {
           "automargin": true,
           "gridcolor": "white",
           "linecolor": "white",
           "ticks": "",
           "title": {
            "standoff": 15
           },
           "zerolinecolor": "white",
           "zerolinewidth": 2
          }
         }
        },
        "title": {
         "text": "Train and Val Loss"
        },
        "xaxis": {
         "title": {
          "text": "Epochs"
         }
        },
        "yaxis": {
         "title": {
          "text": "Loss"
         }
        }
       }
      }
     },
     "metadata": {},
     "output_type": "display_data"
    }
   ],
   "source": [
    "fig = go.Figure()\n",
    "fig.add_trace(go.Scatter(x=list(range(1, epochs + 1)), y=history_eq.history['loss'], mode='lines', name='Training Loss'))\n",
    "fig.add_trace(go.Scatter(x=list(range(1, epochs + 1)), y=history_eq.history['val_loss'], mode='lines', name='Validation Loss'))\n",
    "fig.update_layout(title='Train and Val Loss', xaxis=dict(title='Epochs'), yaxis=dict(title='Loss'))\n",
    "fig.show()"
   ]
  },
  {
   "cell_type": "markdown",
   "metadata": {},
   "source": [
    "![](Assets/gru_plots/loss_2.png)"
   ]
  },
  {
   "cell_type": "code",
   "execution_count": 53,
   "metadata": {},
   "outputs": [
    {
     "data": {
      "application/vnd.plotly.v1+json": {
       "config": {
        "plotlyServerURL": "https://plot.ly"
       },
       "data": [
        {
         "mode": "lines",
         "name": "Training Accuracy",
         "type": "scatter",
         "x": [
          1,
          2,
          3,
          4,
          5,
          6,
          7,
          8,
          9,
          10,
          11,
          12,
          13,
          14,
          15,
          16,
          17,
          18,
          19,
          20,
          21,
          22,
          23,
          24
         ],
         "y": [
          0.18226106464862823,
          0.18899555504322052,
          0.1775325983762741,
          0.17352056503295898,
          0.18527010083198547,
          0.18025505542755127,
          0.18197450041770935,
          0.17767588794231415,
          0.18584324419498444,
          0.17624302208423615,
          0.18226106464862823,
          0.18226106464862823,
          0.18527010083198547,
          0.18555666506290436,
          0.3189568817615509,
          0.758704662322998,
          0.8847972750663757,
          0.9163203835487366,
          0.9363805651664734,
          0.9489898085594177,
          0.9626020789146423,
          0.9710560441017151,
          0.9786502122879028,
          0.9805129766464233
         ]
        },
        {
         "mode": "lines",
         "name": "Validation Accuracy",
         "type": "scatter",
         "x": [
          1,
          2,
          3,
          4,
          5,
          6,
          7,
          8,
          9,
          10,
          11,
          12,
          13,
          14,
          15,
          16,
          17,
          18,
          19,
          20,
          21,
          22,
          23,
          24
         ],
         "y": [
          0.17593123018741608,
          0.17593123018741608,
          0.19083094596862793,
          0.18739254772663116,
          0.17593123018741608,
          0.17707736790180206,
          0.17593123018741608,
          0.17593123018741608,
          0.17707736790180206,
          0.18739254772663116,
          0.19197708368301392,
          0.17593123018741608,
          0.17535816133022308,
          0.18796561658382416,
          0.5822349786758423,
          0.8492836952209473,
          0.8796561360359192,
          0.8819484114646912,
          0.8796561360359192,
          0.8779369592666626,
          0.8744985461235046,
          0.8808022737503052,
          0.8687679171562195,
          0.8647564649581909
         ]
        }
       ],
       "layout": {
        "template": {
         "data": {
          "bar": [
           {
            "error_x": {
             "color": "#2a3f5f"
            },
            "error_y": {
             "color": "#2a3f5f"
            },
            "marker": {
             "line": {
              "color": "#E5ECF6",
              "width": 0.5
             },
             "pattern": {
              "fillmode": "overlay",
              "size": 10,
              "solidity": 0.2
             }
            },
            "type": "bar"
           }
          ],
          "barpolar": [
           {
            "marker": {
             "line": {
              "color": "#E5ECF6",
              "width": 0.5
             },
             "pattern": {
              "fillmode": "overlay",
              "size": 10,
              "solidity": 0.2
             }
            },
            "type": "barpolar"
           }
          ],
          "carpet": [
           {
            "aaxis": {
             "endlinecolor": "#2a3f5f",
             "gridcolor": "white",
             "linecolor": "white",
             "minorgridcolor": "white",
             "startlinecolor": "#2a3f5f"
            },
            "baxis": {
             "endlinecolor": "#2a3f5f",
             "gridcolor": "white",
             "linecolor": "white",
             "minorgridcolor": "white",
             "startlinecolor": "#2a3f5f"
            },
            "type": "carpet"
           }
          ],
          "choropleth": [
           {
            "colorbar": {
             "outlinewidth": 0,
             "ticks": ""
            },
            "type": "choropleth"
           }
          ],
          "contour": [
           {
            "colorbar": {
             "outlinewidth": 0,
             "ticks": ""
            },
            "colorscale": [
             [
              0,
              "#0d0887"
             ],
             [
              0.1111111111111111,
              "#46039f"
             ],
             [
              0.2222222222222222,
              "#7201a8"
             ],
             [
              0.3333333333333333,
              "#9c179e"
             ],
             [
              0.4444444444444444,
              "#bd3786"
             ],
             [
              0.5555555555555556,
              "#d8576b"
             ],
             [
              0.6666666666666666,
              "#ed7953"
             ],
             [
              0.7777777777777778,
              "#fb9f3a"
             ],
             [
              0.8888888888888888,
              "#fdca26"
             ],
             [
              1,
              "#f0f921"
             ]
            ],
            "type": "contour"
           }
          ],
          "contourcarpet": [
           {
            "colorbar": {
             "outlinewidth": 0,
             "ticks": ""
            },
            "type": "contourcarpet"
           }
          ],
          "heatmap": [
           {
            "colorbar": {
             "outlinewidth": 0,
             "ticks": ""
            },
            "colorscale": [
             [
              0,
              "#0d0887"
             ],
             [
              0.1111111111111111,
              "#46039f"
             ],
             [
              0.2222222222222222,
              "#7201a8"
             ],
             [
              0.3333333333333333,
              "#9c179e"
             ],
             [
              0.4444444444444444,
              "#bd3786"
             ],
             [
              0.5555555555555556,
              "#d8576b"
             ],
             [
              0.6666666666666666,
              "#ed7953"
             ],
             [
              0.7777777777777778,
              "#fb9f3a"
             ],
             [
              0.8888888888888888,
              "#fdca26"
             ],
             [
              1,
              "#f0f921"
             ]
            ],
            "type": "heatmap"
           }
          ],
          "heatmapgl": [
           {
            "colorbar": {
             "outlinewidth": 0,
             "ticks": ""
            },
            "colorscale": [
             [
              0,
              "#0d0887"
             ],
             [
              0.1111111111111111,
              "#46039f"
             ],
             [
              0.2222222222222222,
              "#7201a8"
             ],
             [
              0.3333333333333333,
              "#9c179e"
             ],
             [
              0.4444444444444444,
              "#bd3786"
             ],
             [
              0.5555555555555556,
              "#d8576b"
             ],
             [
              0.6666666666666666,
              "#ed7953"
             ],
             [
              0.7777777777777778,
              "#fb9f3a"
             ],
             [
              0.8888888888888888,
              "#fdca26"
             ],
             [
              1,
              "#f0f921"
             ]
            ],
            "type": "heatmapgl"
           }
          ],
          "histogram": [
           {
            "marker": {
             "pattern": {
              "fillmode": "overlay",
              "size": 10,
              "solidity": 0.2
             }
            },
            "type": "histogram"
           }
          ],
          "histogram2d": [
           {
            "colorbar": {
             "outlinewidth": 0,
             "ticks": ""
            },
            "colorscale": [
             [
              0,
              "#0d0887"
             ],
             [
              0.1111111111111111,
              "#46039f"
             ],
             [
              0.2222222222222222,
              "#7201a8"
             ],
             [
              0.3333333333333333,
              "#9c179e"
             ],
             [
              0.4444444444444444,
              "#bd3786"
             ],
             [
              0.5555555555555556,
              "#d8576b"
             ],
             [
              0.6666666666666666,
              "#ed7953"
             ],
             [
              0.7777777777777778,
              "#fb9f3a"
             ],
             [
              0.8888888888888888,
              "#fdca26"
             ],
             [
              1,
              "#f0f921"
             ]
            ],
            "type": "histogram2d"
           }
          ],
          "histogram2dcontour": [
           {
            "colorbar": {
             "outlinewidth": 0,
             "ticks": ""
            },
            "colorscale": [
             [
              0,
              "#0d0887"
             ],
             [
              0.1111111111111111,
              "#46039f"
             ],
             [
              0.2222222222222222,
              "#7201a8"
             ],
             [
              0.3333333333333333,
              "#9c179e"
             ],
             [
              0.4444444444444444,
              "#bd3786"
             ],
             [
              0.5555555555555556,
              "#d8576b"
             ],
             [
              0.6666666666666666,
              "#ed7953"
             ],
             [
              0.7777777777777778,
              "#fb9f3a"
             ],
             [
              0.8888888888888888,
              "#fdca26"
             ],
             [
              1,
              "#f0f921"
             ]
            ],
            "type": "histogram2dcontour"
           }
          ],
          "mesh3d": [
           {
            "colorbar": {
             "outlinewidth": 0,
             "ticks": ""
            },
            "type": "mesh3d"
           }
          ],
          "parcoords": [
           {
            "line": {
             "colorbar": {
              "outlinewidth": 0,
              "ticks": ""
             }
            },
            "type": "parcoords"
           }
          ],
          "pie": [
           {
            "automargin": true,
            "type": "pie"
           }
          ],
          "scatter": [
           {
            "fillpattern": {
             "fillmode": "overlay",
             "size": 10,
             "solidity": 0.2
            },
            "type": "scatter"
           }
          ],
          "scatter3d": [
           {
            "line": {
             "colorbar": {
              "outlinewidth": 0,
              "ticks": ""
             }
            },
            "marker": {
             "colorbar": {
              "outlinewidth": 0,
              "ticks": ""
             }
            },
            "type": "scatter3d"
           }
          ],
          "scattercarpet": [
           {
            "marker": {
             "colorbar": {
              "outlinewidth": 0,
              "ticks": ""
             }
            },
            "type": "scattercarpet"
           }
          ],
          "scattergeo": [
           {
            "marker": {
             "colorbar": {
              "outlinewidth": 0,
              "ticks": ""
             }
            },
            "type": "scattergeo"
           }
          ],
          "scattergl": [
           {
            "marker": {
             "colorbar": {
              "outlinewidth": 0,
              "ticks": ""
             }
            },
            "type": "scattergl"
           }
          ],
          "scattermapbox": [
           {
            "marker": {
             "colorbar": {
              "outlinewidth": 0,
              "ticks": ""
             }
            },
            "type": "scattermapbox"
           }
          ],
          "scatterpolar": [
           {
            "marker": {
             "colorbar": {
              "outlinewidth": 0,
              "ticks": ""
             }
            },
            "type": "scatterpolar"
           }
          ],
          "scatterpolargl": [
           {
            "marker": {
             "colorbar": {
              "outlinewidth": 0,
              "ticks": ""
             }
            },
            "type": "scatterpolargl"
           }
          ],
          "scatterternary": [
           {
            "marker": {
             "colorbar": {
              "outlinewidth": 0,
              "ticks": ""
             }
            },
            "type": "scatterternary"
           }
          ],
          "surface": [
           {
            "colorbar": {
             "outlinewidth": 0,
             "ticks": ""
            },
            "colorscale": [
             [
              0,
              "#0d0887"
             ],
             [
              0.1111111111111111,
              "#46039f"
             ],
             [
              0.2222222222222222,
              "#7201a8"
             ],
             [
              0.3333333333333333,
              "#9c179e"
             ],
             [
              0.4444444444444444,
              "#bd3786"
             ],
             [
              0.5555555555555556,
              "#d8576b"
             ],
             [
              0.6666666666666666,
              "#ed7953"
             ],
             [
              0.7777777777777778,
              "#fb9f3a"
             ],
             [
              0.8888888888888888,
              "#fdca26"
             ],
             [
              1,
              "#f0f921"
             ]
            ],
            "type": "surface"
           }
          ],
          "table": [
           {
            "cells": {
             "fill": {
              "color": "#EBF0F8"
             },
             "line": {
              "color": "white"
             }
            },
            "header": {
             "fill": {
              "color": "#C8D4E3"
             },
             "line": {
              "color": "white"
             }
            },
            "type": "table"
           }
          ]
         },
         "layout": {
          "annotationdefaults": {
           "arrowcolor": "#2a3f5f",
           "arrowhead": 0,
           "arrowwidth": 1
          },
          "autotypenumbers": "strict",
          "coloraxis": {
           "colorbar": {
            "outlinewidth": 0,
            "ticks": ""
           }
          },
          "colorscale": {
           "diverging": [
            [
             0,
             "#8e0152"
            ],
            [
             0.1,
             "#c51b7d"
            ],
            [
             0.2,
             "#de77ae"
            ],
            [
             0.3,
             "#f1b6da"
            ],
            [
             0.4,
             "#fde0ef"
            ],
            [
             0.5,
             "#f7f7f7"
            ],
            [
             0.6,
             "#e6f5d0"
            ],
            [
             0.7,
             "#b8e186"
            ],
            [
             0.8,
             "#7fbc41"
            ],
            [
             0.9,
             "#4d9221"
            ],
            [
             1,
             "#276419"
            ]
           ],
           "sequential": [
            [
             0,
             "#0d0887"
            ],
            [
             0.1111111111111111,
             "#46039f"
            ],
            [
             0.2222222222222222,
             "#7201a8"
            ],
            [
             0.3333333333333333,
             "#9c179e"
            ],
            [
             0.4444444444444444,
             "#bd3786"
            ],
            [
             0.5555555555555556,
             "#d8576b"
            ],
            [
             0.6666666666666666,
             "#ed7953"
            ],
            [
             0.7777777777777778,
             "#fb9f3a"
            ],
            [
             0.8888888888888888,
             "#fdca26"
            ],
            [
             1,
             "#f0f921"
            ]
           ],
           "sequentialminus": [
            [
             0,
             "#0d0887"
            ],
            [
             0.1111111111111111,
             "#46039f"
            ],
            [
             0.2222222222222222,
             "#7201a8"
            ],
            [
             0.3333333333333333,
             "#9c179e"
            ],
            [
             0.4444444444444444,
             "#bd3786"
            ],
            [
             0.5555555555555556,
             "#d8576b"
            ],
            [
             0.6666666666666666,
             "#ed7953"
            ],
            [
             0.7777777777777778,
             "#fb9f3a"
            ],
            [
             0.8888888888888888,
             "#fdca26"
            ],
            [
             1,
             "#f0f921"
            ]
           ]
          },
          "colorway": [
           "#636efa",
           "#EF553B",
           "#00cc96",
           "#ab63fa",
           "#FFA15A",
           "#19d3f3",
           "#FF6692",
           "#B6E880",
           "#FF97FF",
           "#FECB52"
          ],
          "font": {
           "color": "#2a3f5f"
          },
          "geo": {
           "bgcolor": "white",
           "lakecolor": "white",
           "landcolor": "#E5ECF6",
           "showlakes": true,
           "showland": true,
           "subunitcolor": "white"
          },
          "hoverlabel": {
           "align": "left"
          },
          "hovermode": "closest",
          "mapbox": {
           "style": "light"
          },
          "paper_bgcolor": "white",
          "plot_bgcolor": "#E5ECF6",
          "polar": {
           "angularaxis": {
            "gridcolor": "white",
            "linecolor": "white",
            "ticks": ""
           },
           "bgcolor": "#E5ECF6",
           "radialaxis": {
            "gridcolor": "white",
            "linecolor": "white",
            "ticks": ""
           }
          },
          "scene": {
           "xaxis": {
            "backgroundcolor": "#E5ECF6",
            "gridcolor": "white",
            "gridwidth": 2,
            "linecolor": "white",
            "showbackground": true,
            "ticks": "",
            "zerolinecolor": "white"
           },
           "yaxis": {
            "backgroundcolor": "#E5ECF6",
            "gridcolor": "white",
            "gridwidth": 2,
            "linecolor": "white",
            "showbackground": true,
            "ticks": "",
            "zerolinecolor": "white"
           },
           "zaxis": {
            "backgroundcolor": "#E5ECF6",
            "gridcolor": "white",
            "gridwidth": 2,
            "linecolor": "white",
            "showbackground": true,
            "ticks": "",
            "zerolinecolor": "white"
           }
          },
          "shapedefaults": {
           "line": {
            "color": "#2a3f5f"
           }
          },
          "ternary": {
           "aaxis": {
            "gridcolor": "white",
            "linecolor": "white",
            "ticks": ""
           },
           "baxis": {
            "gridcolor": "white",
            "linecolor": "white",
            "ticks": ""
           },
           "bgcolor": "#E5ECF6",
           "caxis": {
            "gridcolor": "white",
            "linecolor": "white",
            "ticks": ""
           }
          },
          "title": {
           "x": 0.05
          },
          "xaxis": {
           "automargin": true,
           "gridcolor": "white",
           "linecolor": "white",
           "ticks": "",
           "title": {
            "standoff": 15
           },
           "zerolinecolor": "white",
           "zerolinewidth": 2
          },
          "yaxis": {
           "automargin": true,
           "gridcolor": "white",
           "linecolor": "white",
           "ticks": "",
           "title": {
            "standoff": 15
           },
           "zerolinecolor": "white",
           "zerolinewidth": 2
          }
         }
        },
        "title": {
         "text": "Training and Val Acc"
        },
        "xaxis": {
         "title": {
          "text": "Epochs"
         }
        },
        "yaxis": {
         "title": {
          "text": "Accuracy"
         }
        }
       }
      }
     },
     "metadata": {},
     "output_type": "display_data"
    }
   ],
   "source": [
    "fig = go.Figure()\n",
    "fig.add_trace(go.Scatter(x=list(range(1, epochs + 1)), y=history_eq.history['accuracy'], mode='lines', name='Training Accuracy'))\n",
    "fig.add_trace(go.Scatter(x=list(range(1, epochs + 1)), y=history_eq.history['val_accuracy'], mode='lines', name='Validation Accuracy'))\n",
    "fig.update_layout(title='Training and Val Acc', xaxis=dict(title='Epochs'), yaxis=dict(title='Accuracy'))\n",
    "fig.show()"
   ]
  },
  {
   "cell_type": "markdown",
   "metadata": {},
   "source": [
    "![](Assets/gru_plots/loss_2.png)"
   ]
  },
  {
   "cell_type": "code",
   "execution_count": 54,
   "metadata": {},
   "outputs": [
    {
     "name": "stdout",
     "output_type": "stream",
     "text": [
      "7/7 [==============================] - 0s 12ms/step - loss: 0.7393 - accuracy: 0.8500\n",
      "Test Loss: 0.7393\n",
      "Test Accuracy: 85.00%\n"
     ]
    }
   ],
   "source": [
    "evaluate_model(model_1, X_test, y_test)"
   ]
  },
  {
   "cell_type": "code",
   "execution_count": 55,
   "metadata": {},
   "outputs": [
    {
     "name": "stdout",
     "output_type": "stream",
     "text": [
      "1/1 [==============================] - 0s 371ms/step\n",
      "Predicted Label: joy\n",
      "1/1 [==============================] - 0s 27ms/step\n",
      "Predicted Label: joy\n",
      "1/1 [==============================] - 0s 29ms/step\n",
      "Predicted Label: joy\n",
      "1/1 [==============================] - 0s 30ms/step\n",
      "Predicted Label: joy\n",
      "1/1 [==============================] - 0s 33ms/step\n",
      "Predicted Label: joy\n"
     ]
    }
   ],
   "source": [
    "for i in a:\n",
    "    predicted_label = predict_label(model_1, tokenizer, i.lower() + \"very happy\", input_length)\n",
    "    print(f\"Predicted Label: {predicted_label}\")"
   ]
  },
  {
   "cell_type": "code",
   "execution_count": 56,
   "metadata": {},
   "outputs": [
    {
     "name": "stdout",
     "output_type": "stream",
     "text": [
      "1/1 [==============================] - ETA: 0s"
     ]
    },
    {
     "name": "stdout",
     "output_type": "stream",
     "text": [
      "1/1 [==============================] - 0s 28ms/step\n",
      "Beneath the fiery surface, frustration simmers like a rebellious volcano.\n",
      "Predicted Label: anger\n",
      "1/1 [==============================] - 0s 29ms/step\n",
      "Raindrops trace silent pathways on the window, mirroring the quiet ache within.\n",
      "Predicted Label: anger\n",
      "1/1 [==============================] - 0s 29ms/step\n",
      "Laughter weaves through the air, a vibrant tapestry of shared moments.\n",
      "Predicted Label: joy\n",
      "1/1 [==============================] - 0s 31ms/step\n",
      "Hearts entwined, a cosmic dance of affection under the moonlit sky.\n",
      "Predicted Label: sadness\n",
      "1/1 [==============================] - 0s 28ms/step\n",
      "In the shadowy corners, apprehension whispers its cautionary tale.\n",
      "Predicted Label: joy\n",
      "1/1 [==============================] - 0s 28ms/step\n",
      "Unexpected ripples in the routine, a serendipitous waltz with the unknown.\n",
      "Predicted Label: sadness\n"
     ]
    }
   ],
   "source": [
    "for e, i in enumerate(sentences):\n",
    "    predicted_label = predict_label(model_1, tokenizer, i.lower(), input_length)\n",
    "    print(sentences[e])\n",
    "    print(f\"Predicted Label: {predicted_label}\")"
   ]
  },
  {
   "cell_type": "markdown",
   "metadata": {},
   "source": [
    "I mean it's ok. The example sentences are kind of vague. Let's try some lyrics."
   ]
  },
  {
   "cell_type": "code",
   "execution_count": 57,
   "metadata": {},
   "outputs": [
    {
     "data": {
      "text/plain": [
       "label\n",
       "joy         1641\n",
       "sadness     1641\n",
       "anger       1641\n",
       "fear        1641\n",
       "love        1641\n",
       "surprise     719\n",
       "Name: count, dtype: int64"
      ]
     },
     "execution_count": 57,
     "metadata": {},
     "output_type": "execute_result"
    }
   ],
   "source": [
    "df2['label'].value_counts()"
   ]
  },
  {
   "cell_type": "code",
   "execution_count": 58,
   "metadata": {},
   "outputs": [],
   "source": [
    "lyrics = [\n",
    "    \"Bitch, I'ma kill you! You don't wanna fuck with me, Girls neither, you ain't nothin' but a slut to me\", # anger\n",
    "    \"What?\", \"I couldn't even believe what I was reading\", \"I am surprised.\", \"oops i did it again\",# surprise\n",
    "    \"You and me, baby, ain't nothin' but mammals So let's do it like they do on the Discovery Channel Do it again now You and me, baby, ain't nothin' but mammals So let's do it like they do on the Discovery Channel Gettin' horny now\", # love\n",
    "    \"I wonder if I died, would tears come to her eyes, Forgive me for my disrespect, forgive me for my lies\", # sadness\n",
    "    \"I guess I'm doin' well, Smokin' all the weed that I used to sell\", \"So what we get drunk, So what we smoke weed, We're just having fun, We don't care who sees, So what we go out, That's how it's supposed to be, Living young and wild and free\", # joy\n",
    "    \"To find myself again My walls are closing in Without a sense of confidence, I'm convinced That there's just too much pressure to take I've felt this way before So insecure\", #fear\n",
    "]"
   ]
  },
  {
   "cell_type": "code",
   "execution_count": 59,
   "metadata": {},
   "outputs": [
    {
     "name": "stdout",
     "output_type": "stream",
     "text": [
      "1/1 [==============================] - 0s 29ms/step\n",
      "Bitch, I'ma kill you! You don't wanna fuck with me, Girls neither, you ain't nothin' but a slut to me\n",
      "Predicted Label: sadness\n",
      "1/1 [==============================] - 0s 28ms/step\n",
      "What?\n",
      "Predicted Label: sadness\n",
      "1/1 [==============================] - 0s 28ms/step\n"
     ]
    },
    {
     "name": "stdout",
     "output_type": "stream",
     "text": [
      "I couldn't even believe what I was reading\n",
      "Predicted Label: sadness\n",
      "1/1 [==============================] - 0s 34ms/step\n",
      "I am surprised.\n",
      "Predicted Label: surprise\n",
      "1/1 [==============================] - 0s 32ms/step\n",
      "oops i did it again\n",
      "Predicted Label: joy\n",
      "1/1 [==============================] - 0s 32ms/step\n",
      "You and me, baby, ain't nothin' but mammals So let's do it like they do on the Discovery Channel Do it again now You and me, baby, ain't nothin' but mammals So let's do it like they do on the Discovery Channel Gettin' horny now\n",
      "Predicted Label: love\n",
      "1/1 [==============================] - 0s 28ms/step\n",
      "I wonder if I died, would tears come to her eyes, Forgive me for my disrespect, forgive me for my lies\n",
      "Predicted Label: sadness\n",
      "1/1 [==============================] - 0s 27ms/step\n",
      "I guess I'm doin' well, Smokin' all the weed that I used to sell\n",
      "Predicted Label: joy\n",
      "1/1 [==============================] - 0s 32ms/step\n",
      "So what we get drunk, So what we smoke weed, We're just having fun, We don't care who sees, So what we go out, That's how it's supposed to be, Living young and wild and free\n",
      "Predicted Label: sadness\n",
      "1/1 [==============================] - 0s 29ms/step\n",
      "To find myself again My walls are closing in Without a sense of confidence, I'm convinced That there's just too much pressure to take I've felt this way before So insecure\n",
      "Predicted Label: fear\n"
     ]
    }
   ],
   "source": [
    "for e, i in enumerate(lyrics):\n",
    "    predicted_label = predict_label(model_1, tokenizer, i.lower(), input_length)\n",
    "    print(lyrics[e])\n",
    "    print(f\"Predicted Label: {predicted_label}\")"
   ]
  },
  {
   "cell_type": "markdown",
   "metadata": {},
   "source": [
    "'surprise' is a tough one. Apart from than that, the model is pretty solid."
   ]
  },
  {
   "cell_type": "markdown",
   "metadata": {},
   "source": [
    "Rows of Interest\n",
    "\n",
    "| Row  | Text | Label |\n",
    "| ---  | ---- | ----- |\n",
    "| 5578 | i now don t want to feel slutty | love\n",
    "|12380 | i gotta feeling da bul taewuhbeoryeo burn it up i gotta feeling niga ulbujitneun nal ah neoneun wiheomhae gal ttaekkaji gatsseo get away woooo becuz i m cuz i m dangerous b | anger\n",
    "| 16503 | i do not feel insecure or unsafe | fear\n",
    "| 18330 | i more important than going fun ipad strategy games original boots from ugg wear ugg boots this winter low cost ugg boots uggs need to get washed inside they are also lightweight so you won t feel burdened with them speed up finances with payday loans payday loans the monthly solution for you | sadness"
   ]
  }
 ],
 "metadata": {
  "kernelspec": {
   "display_name": "Python 3",
   "language": "python",
   "name": "python3"
  },
  "language_info": {
   "codemirror_mode": {
    "name": "ipython",
    "version": 3
   },
   "file_extension": ".py",
   "mimetype": "text/x-python",
   "name": "python",
   "nbconvert_exporter": "python",
   "pygments_lexer": "ipython3",
   "version": "3.11.6"
  }
 },
 "nbformat": 4,
 "nbformat_minor": 2
}
