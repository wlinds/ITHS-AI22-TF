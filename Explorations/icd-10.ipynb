{
 "cells": [
  {
   "cell_type": "markdown",
   "metadata": {},
   "source": [
    "[Hela klassifikationen ICD-10-SE, giltig från 2024-01-01 (tsv)](https://www.socialstyrelsen.se/statistik-och-data/klassifikationer-och-koder/kodtextfiler/)<br>\n",
    "[Beskrivning av innehållet Hela klassifikationen ICD-10-SE](https://www.socialstyrelsen.se/globalassets/sharepoint-dokument/dokument-webb/klassifikationer-och-koder/beskrivning-filinnehall-icd-10-se.pdf)"
   ]
  },
  {
   "cell_type": "code",
   "execution_count": 297,
   "metadata": {},
   "outputs": [],
   "source": [
    "import pandas as pd\n",
    "df = pd.read_csv('Data/icd-10-se.tsv', sep='\\t', header=0, low_memory=False)"
   ]
  },
  {
   "cell_type": "code",
   "execution_count": 298,
   "metadata": {},
   "outputs": [],
   "source": [
    "df3 = df.dropna(subset=['Beskrivning'], thresh=1)"
   ]
  },
  {
   "cell_type": "code",
   "execution_count": 299,
   "metadata": {},
   "outputs": [
    {
     "data": {
      "text/plain": [
       "(242, 16)"
      ]
     },
     "execution_count": 299,
     "metadata": {},
     "output_type": "execute_result"
    }
   ],
   "source": [
    "df3.shape"
   ]
  },
  {
   "cell_type": "code",
   "execution_count": 300,
   "metadata": {},
   "outputs": [],
   "source": [
    "import pandas as pd\n",
    "from tensorflow.keras.preprocessing.text import Tokenizer\n",
    "from tensorflow.keras.preprocessing.sequence import pad_sequences\n",
    "\n",
    "def get_df():\n",
    "    df = pd.read_csv('Data/icd-10-se.tsv', sep='\\t', header=0, low_memory=False)\n",
    "    df = df[['Beskrivning', 'Kod']].dropna(subset=['Beskrivning'])\n",
    "    return df\n",
    "\n",
    "def tokenize(df):\n",
    "    tokenizer = Tokenizer()\n",
    "    tokenizer.fit_on_texts(df['Beskrivning'])\n",
    "    sequences = tokenizer.texts_to_sequences(df['Beskrivning'])\n",
    "    \n",
    "    max_length = max(len(seq) for seq in sequences)\n",
    "    squenced_pad = pad_sequences(sequences, maxlen=max_length, padding='post')\n",
    "\n",
    "    print(f\"Sequence {max_length=} at index \" , end='')\n",
    "    print(np.argmax([get_lentgh(seq) for seq in sequences_pad]))\n",
    "\n",
    "    return squenced_pad\n",
    "\n",
    "def get_lentgh(seq):\n",
    "    return len([i for i in seq if i != 0])"
   ]
  },
  {
   "cell_type": "code",
   "execution_count": 301,
   "metadata": {},
   "outputs": [
    {
     "name": "stdout",
     "output_type": "stream",
     "text": [
      "Sequence max_length=599 at index 223\n"
     ]
    }
   ],
   "source": [
    "df = get_df()\n",
    "seq = tokenize(df)"
   ]
  },
  {
   "cell_type": "code",
   "execution_count": 302,
   "metadata": {},
   "outputs": [
    {
     "data": {
      "text/plain": [
       "'<div><div><b>Definitioner:</b></div><div><b>Transportolycka </b></div>V01-V99 är varje olyckshändelse med fordon som primärt eller vid tiden för olyckan är avsett för att föra personer eller varor från en plats till en annan.</div><div><div><b>Trafikolycka </b></div>är varje fordonsolycka som inträffar på allmän väg. En fordonsolycka antas ha hänt på allmän väg om inte annan plats specificeras. Undantag utgör sådana olyckshändelser som endast engagerar terrängfordon, vilka klassificeras som transportolyckor, ej trafik, om inte motsatsen utsägs.</div><div><div>Transportolycka, ej trafik, </div>är varje fordonsolycka som helt sker på plats som inte är allmän väg.</div><div><div><b>Fotgängare </b></div>är en person som inte färdas med motorfordon, järnvägståg, spårvagn, åkdon draget av djur, annat fordon eller cykel eller rider. Hit hör också personer som färdas med (i, på)eller använder barnvagn, kärra, kälke, pulka, manuell rullstol (även med hjälpmotor), skidor, sparkstötting, rullskidor, rullskridskor, skateboard, sparkcykel och barncykel utan kedja och kugghjul. Dessutom innefattas person som byter hjul på fordon och justerar motor på fordon.</div><div><div><b>Cyklist </b></div>är varje person som färdas på cykel (två- eller trehjulig) eller barncykel som har kedja och kugghjul. Hit räknas även passagerare i barnsits och liknande.</div><div><div><b>Motorcyklist </b></div>är förare av eller passagerare på motorcykel eller i sidvagn. Som motorcykel räknas även moped och skoter.</div><div><div><b>Personbil </b></div>är ett fyrhjuligt motorfordon med upp till tio platser. Minibuss räknas som personbil. Släpvagn eller husvagn som tas på släp betraktas som del av personbilen.</div><div><div><b>Lätt lastbil </b></div>är motorfordon primärt avsett för varutransport med vikt under 3,5 ton. Även skåpbil och pick-up räknas hit.</div><div><div><b>Tung lastbil </b></div>är motorfordon för lasttransport med vikt 3,5 ton eller mer.</div><div><div><b>Tåg </b></div>till tåg räknas även tunnelbanetåg och spårvagn på egen banvall. Hit förs också dressin och andra fordon avsedda att framföras på järnvägsräls.</div><div><div><b>Spårvagn </b></div>som framförs i gatutrafik räknas i detta sammanhang till icke motordrivet fordon.</div><div><div><b>Industrifordon </b></div>är motorfordon primärt avsedda för användning inom industrilokal, industri- eller transportområde, t.ex. järnvägsstation, båtterminal, flygplats.</div><div><div><b>Jordbruksfordon </b></div>är motorfordon primärt avsedda för användning inom jordbruk såsom traktor och skördetröska.</div><div><div><b>Specialfordon </b></div>är motorfordon speciellt konstruerade för byggnads- och anläggningsarbete såsom grävmaskin, bulldozer, väghyvel och vägvält.</div><div><div><b>Terrängfordon </b></div>är motorfordon speciellt konstruerade för att klara oländig terräng eller snö. Hit räknas bandvagn och snöskoter.</div><div><div><b>Vattenfarkost </b></div>är varje färdmedel på vatten för transport av passagerare eller varor; även svävare räknas hit.</div><div><br></div><div><b>Regler för klassificering och kodning av transportolyckor</b></div><div>En transportolycka som inte specificerats med avseende på om den var en trafikolycka eller en olycka ej i trafik klassificeras som</div><div>a) trafikolycka när olyckan hänförs till någon av kategorierna V10-V82 och V87.</div><div>b) olycka, ej trafik, när olyckan hänförs till någon av kategorierna V83-V86.</div><div>I dessa fall är den skadade antingen en fotgängare eller en förare av eller passagerare i ett fordon primärt ej avsett för användning på allmän väg (t.ex. industrifordon, jordbruksfordon, terrängfordon).</div><div>Även för andra situationer, där ofullständiga uppgifter föreligger om olyckans karaktär, finns i den internationella sjukdomsklassifikationen (ICD-10) vissa regler för klassificering och kodning, vilka dock ej återges här.</div>'"
      ]
     },
     "execution_count": 302,
     "metadata": {},
     "output_type": "execute_result"
    }
   ],
   "source": [
    "df.iloc[223]['Beskrivning']"
   ]
  },
  {
   "cell_type": "code",
   "execution_count": 303,
   "metadata": {},
   "outputs": [
    {
     "data": {
      "text/plain": [
       "55.82644628099174"
      ]
     },
     "execution_count": 303,
     "metadata": {},
     "output_type": "execute_result"
    }
   ],
   "source": [
    "np.mean([get_lentgh(seq) for seq in sequences_pad])"
   ]
  },
  {
   "cell_type": "code",
   "execution_count": 304,
   "metadata": {},
   "outputs": [
    {
     "data": {
      "text/plain": [
       "'div div b definitioner b div div b transportolycka b div v01 v99 är varje olyckshändelse med fordon som primärt eller vid tiden för olyckan är avsett för att föra personer eller varor från en plats till en annan div div div b trafikolycka b div är varje fordonsolycka som inträffar på allmän väg en fordonsolycka antas ha hänt på allmän väg om inte annan plats specificeras undantag utgör sådana olyckshändelser som endast engagerar terrängfordon vilka klassificeras som transportolyckor ej trafik om inte motsatsen utsägs div div div transportolycka ej trafik div är varje fordonsolycka som helt sker på plats som inte är allmän väg div div div b fotgängare b div är en person som inte färdas med motorfordon järnvägståg spårvagn åkdon draget av djur annat fordon eller cykel eller rider hit hör också personer som färdas med i på eller använder barnvagn kärra kälke pulka manuell rullstol även med hjälpmotor skidor sparkstötting rullskidor rullskridskor skateboard sparkcykel och barncykel utan kedja och kugghjul dessutom innefattas person som byter hjul på fordon och justerar motor på fordon div div div b cyklist b div är varje person som färdas på cykel två eller trehjulig eller barncykel som har kedja och kugghjul hit räknas även passagerare i barnsits och liknande div div div b motorcyklist b div är förare av eller passagerare på motorcykel eller i sidvagn som motorcykel räknas även moped och skoter div div div b personbil b div är ett fyrhjuligt motorfordon med upp till tio platser minibuss räknas som personbil släpvagn eller husvagn som tas på släp betraktas som del av personbilen div div div b lätt lastbil b div är motorfordon primärt avsett för varutransport med vikt under 3 5 ton även skåpbil och pick up räknas hit div div div b tung lastbil b div är motorfordon för lasttransport med vikt 3 5 ton eller mer div div div b tåg b div till tåg räknas även tunnelbanetåg och spårvagn på egen banvall hit förs också dressin och andra fordon avsedda att framföras på järnvägsräls div div div b spårvagn b div som framförs i gatutrafik räknas i detta sammanhang till icke motordrivet fordon div div div b industrifordon b div är motorfordon primärt avsedda för användning inom industrilokal industri eller transportområde t ex järnvägsstation båtterminal flygplats div div div b jordbruksfordon b div är motorfordon primärt avsedda för användning inom jordbruk såsom traktor och skördetröska div div div b specialfordon b div är motorfordon speciellt konstruerade för byggnads och anläggningsarbete såsom grävmaskin bulldozer väghyvel och vägvält div div div b terrängfordon b div är motorfordon speciellt konstruerade för att klara oländig terräng eller snö hit räknas bandvagn och snöskoter div div div b vattenfarkost b div är varje färdmedel på vatten för transport av passagerare eller varor även svävare räknas hit div div br div div b regler för klassificering och kodning av transportolyckor b div div en transportolycka som inte specificerats med avseende på om den var en trafikolycka eller en olycka ej i trafik klassificeras som div div a trafikolycka när olyckan hänförs till någon av kategorierna v10 v82 och v87 div div b olycka ej trafik när olyckan hänförs till någon av kategorierna v83 v86 div div i dessa fall är den skadade antingen en fotgängare eller en förare av eller passagerare i ett fordon primärt ej avsett för användning på allmän väg t ex industrifordon jordbruksfordon terrängfordon div div även för andra situationer där ofullständiga uppgifter föreligger om olyckans karaktär finns i den internationella sjukdomsklassifikationen icd 10 vissa regler för klassificering och kodning vilka dock ej återges här div'"
      ]
     },
     "execution_count": 304,
     "metadata": {},
     "output_type": "execute_result"
    }
   ],
   "source": [
    "def untokenize(index, sequences=sequences_pad):\n",
    "    to_word = tokenizer.index_word\n",
    "    sequence = sequences[index]\n",
    "    words = [to_word[token] for token in sequence]\n",
    "\n",
    "    return \" \".join(words)\n",
    "\n",
    "untokenize(223)"
   ]
  },
  {
   "cell_type": "code",
   "execution_count": 305,
   "metadata": {},
   "outputs": [],
   "source": [
    "# df.drop(df.index[223], axis=0, inplace=True)"
   ]
  },
  {
   "cell_type": "code",
   "execution_count": 306,
   "metadata": {},
   "outputs": [
    {
     "name": "stdout",
     "output_type": "stream",
     "text": [
      "Sequence max_length=238 at index 223\n"
     ]
    },
    {
     "data": {
      "text/plain": [
       "array([[1284, 1285, 1286, ...,    0,    0,    0],\n",
       "       [ 369,   25,    6, ...,    0,    0,    0],\n",
       "       [ 217,   26,  369, ...,    0,    0,    0],\n",
       "       ...,\n",
       "       [ 814,    4,  963, ...,    0,    0,    0],\n",
       "       [ 814,    4, 3040, ...,    0,    0,    0],\n",
       "       [3052,   66, 3053, ...,    0,    0,    0]], dtype=int32)"
      ]
     },
     "execution_count": 306,
     "metadata": {},
     "output_type": "execute_result"
    }
   ],
   "source": [
    "tokenize(df)"
   ]
  }
 ],
 "metadata": {
  "kernelspec": {
   "display_name": "Python 3",
   "language": "python",
   "name": "python3"
  },
  "language_info": {
   "codemirror_mode": {
    "name": "ipython",
    "version": 3
   },
   "file_extension": ".py",
   "mimetype": "text/x-python",
   "name": "python",
   "nbconvert_exporter": "python",
   "pygments_lexer": "ipython3",
   "version": "3.11.6"
  }
 },
 "nbformat": 4,
 "nbformat_minor": 2
}
