{
 "cells": [
  {
   "cell_type": "markdown",
   "metadata": {},
   "source": [
    "# Deck prediction regression model"
   ]
  },
  {
   "cell_type": "markdown",
   "metadata": {},
   "source": [
    "In [one of my projects](https://github.com/wlinds/card_wars) I simulated 32,000 battles between two fantasy card decks.\n",
    "\n",
    "The gameplay is not very aesthetically pleasing. An example turn:"
   ]
  },
  {
   "cell_type": "markdown",
   "metadata": {},
   "source": [
    "```\n",
    "11:59:18.265 | game:end_turn:90 - Turn 5 ended.\n",
    "11:59:18.265 | game:draw_card:285 - Player 1 drew: Wild Growth Mana cost: 0\n",
    "11:59:18.265 | game:draw_card:281 - Player 2 drew: Bobblin The Goblin [4/3] Mana cost: 3\n",
    "11:59:18.265 | game:play_card:216 - [+] Player 1 played: Grand Gnome [6/7] Mana: 5 Battlecry: Give a friendly minion +2/+2 and add a Frost Nova to your hand.\n",
    "11:59:18.266 | game:check_battlecry:160 - Gnome received [+2/+2]\n",
    "11:59:18.267 | game:check_battlecry:175 - Frost Nova added to P1's hand\n",
    "11:59:18.267 | game:cast_spell:241 - Player 1 cast Wild Growth\n",
    "11:59:18.267 | game:play_card:216 - [+] Player 2 played: Prince Gobb [5/5] Mana: 5 Battlecry: Give all friendly Goblin [+2/+2].\n",
    "11:59:18.267 | game:check_battlecry:145 - Goblin Necromancer received [+2/+2] from Prince Gobb.\n",
    "11:59:18.268 | card_wars.card:attack_target:67 - Gnome [3/3] attacks Goblin Necromancer [4/3]\n",
    "11:59:18.268 | card_wars.card:take_damage:50 - Goblin Necromancer died while taking 3 damage.\n",
    "11:59:18.268 | card_wars.card:take_damage:50 - Gnome died while taking 4 damage.\n",
    "11:59:18.268 | game:remove_dead_minions:378 - Player 1's Gnome has died.\n",
    "11:59:18.268 | game:remove_dead_minions:378 - Player 2's Goblin Necromancer has died.\n",
    "11:59:18.269 | game:remove_dead_minions:389 - Goblin Necromancer triggered its deathrattle:\n",
    "11:59:18.269 | board:add_to_field:138 - Goblin summoned to P2's field.\n",
    "11:59:18.270 | card_wars.card:attack_target:67 - Prince Gobb [5/5] attacks Grand Gnome [6/7]\n",
    "11:59:18.270 | card_wars.card:take_damage:52 - Grand Gnome took 5 damage. Now at 2 HP\n",
    "11:59:18.270 | card_wars.card:take_damage:50 - Prince Gobb died while taking 6 damage.\n",
    "11:59:18.271 | game:remove_dead_minions:378 - Player 2's Prince Gobb has died.\n",
    "11:59:18.271 | game:attack_phase:316 - self.player1.health=26, self.player2.health=16\n",
    "11:59:18.271 | game:end_turn:90 - Turn 6 ended."
   ]
  },
  {
   "cell_type": "markdown",
   "metadata": {},
   "source": [
    "However, it's incredibly fast to run simulations, making it a nice source for juicy data. I will try to construct a prediction model with it."
   ]
  },
  {
   "cell_type": "code",
   "execution_count": 19,
   "metadata": {},
   "outputs": [],
   "source": [
    "import pandas as pd\n",
    "df = pd.read_csv(\"Data/goblin_vs_random_4_handle_spells_poorly_32k.csv\")"
   ]
  },
  {
   "cell_type": "code",
   "execution_count": 20,
   "metadata": {},
   "outputs": [
    {
     "data": {
      "text/html": [
       "<div>\n",
       "<style scoped>\n",
       "    .dataframe tbody tr th:only-of-type {\n",
       "        vertical-align: middle;\n",
       "    }\n",
       "\n",
       "    .dataframe tbody tr th {\n",
       "        vertical-align: top;\n",
       "    }\n",
       "\n",
       "    .dataframe thead th {\n",
       "        text-align: right;\n",
       "    }\n",
       "</style>\n",
       "<table border=\"1\" class=\"dataframe\">\n",
       "  <thead>\n",
       "    <tr style=\"text-align: right;\">\n",
       "      <th></th>\n",
       "      <th>generation</th>\n",
       "      <th>deck_uid</th>\n",
       "      <th>win_rate</th>\n",
       "    </tr>\n",
       "  </thead>\n",
       "  <tbody>\n",
       "    <tr>\n",
       "      <th>0</th>\n",
       "      <td>0</td>\n",
       "      <td>ofpblwxzpyfiAjBEatsBaCEBmrndfg</td>\n",
       "      <td>0</td>\n",
       "    </tr>\n",
       "    <tr>\n",
       "      <th>1</th>\n",
       "      <td>0</td>\n",
       "      <td>BrjBAxvnyrwABarkyEnquwyervufrm</td>\n",
       "      <td>1</td>\n",
       "    </tr>\n",
       "    <tr>\n",
       "      <th>2</th>\n",
       "      <td>0</td>\n",
       "      <td>bErifojuftlxlyqovrnjtelxAxlvzl</td>\n",
       "      <td>1</td>\n",
       "    </tr>\n",
       "    <tr>\n",
       "      <th>3</th>\n",
       "      <td>0</td>\n",
       "      <td>pBmvyBjkwrbotbotwlzABnmrhzBCkf</td>\n",
       "      <td>1</td>\n",
       "    </tr>\n",
       "    <tr>\n",
       "      <th>4</th>\n",
       "      <td>0</td>\n",
       "      <td>BwhillkdaudjrfbiwpbDyhavarbDxc</td>\n",
       "      <td>3</td>\n",
       "    </tr>\n",
       "  </tbody>\n",
       "</table>\n",
       "</div>"
      ],
      "text/plain": [
       "   generation                        deck_uid  win_rate\n",
       "0           0  ofpblwxzpyfiAjBEatsBaCEBmrndfg         0\n",
       "1           0  BrjBAxvnyrwABarkyEnquwyervufrm         1\n",
       "2           0  bErifojuftlxlyqovrnjtelxAxlvzl         1\n",
       "3           0  pBmvyBjkwrbotbotwlzABnmrhzBCkf         1\n",
       "4           0  BwhillkdaudjrfbiwpbDyhavarbDxc         3"
      ]
     },
     "execution_count": 20,
     "metadata": {},
     "output_type": "execute_result"
    }
   ],
   "source": [
    "df.head()"
   ]
  },
  {
   "cell_type": "markdown",
   "metadata": {},
   "source": [
    "## Data explanation & card game rules\n",
    "\n",
    "Each character in the 'deck_uid' represent a unique Minion, Spell or Weapon card. In the simulation, any number of unique cards are randomly put together into a deck of 30 cards. The selected deck is then playing against a pre-determined opponent deck (Goblin synergy) with some randomizations for a total of 10 times, then a new deck_uid is generated.\n",
    "\n",
    "Conditions:\n",
    "- The decks are always shuffled before each simulation\n",
    "- The players each start with three cards and continue to draw one card each turn until the deck has 0 cards. The player will then begin to take damage for each turn (1+n drawn fatigue cards)\n",
    "- Each player start with 30 health and 1 mana. The player gains 1 additional mana each turn until the limit of 10 mana is reached.\n",
    "- The game ends when a player reaches 0 health. If the test deck wins, they will receive 1 point. The best performing deck can only ever get 10 points. The worst performing 0 points.\n",
    "\n",
    "Player logic:\n",
    "- The player logic is... bad.\n",
    "- Each player will try to play any card from left to right in its hand. As long as the player have the mana for it, they will play it.\n",
    "- Cards that targets other minions or players are... semi-intelligent."
   ]
  },
  {
   "cell_type": "code",
   "execution_count": 21,
   "metadata": {},
   "outputs": [],
   "source": [
    "df = df.drop(['generation'], axis=1) # No mutations are performed in this dataset, we drop that column."
   ]
  },
  {
   "cell_type": "markdown",
   "metadata": {},
   "source": [
    "It doesn't really matter, but I want to sort the uids."
   ]
  },
  {
   "cell_type": "code",
   "execution_count": 22,
   "metadata": {},
   "outputs": [],
   "source": [
    "def sort_strings(s):\n",
    "    return ''.join(sorted(s))\n",
    "\n",
    "df['sorted_uid'] = df['deck_uid'].apply(sort_strings)"
   ]
  },
  {
   "cell_type": "code",
   "execution_count": 23,
   "metadata": {},
   "outputs": [],
   "source": [
    "df = df.drop(['deck_uid'], axis=1)"
   ]
  },
  {
   "cell_type": "code",
   "execution_count": 24,
   "metadata": {},
   "outputs": [
    {
     "name": "stdout",
     "output_type": "stream",
     "text": [
      "win_rate\n",
      "0     1050\n",
      "1      886\n",
      "2      614\n",
      "3      312\n",
      "4      194\n",
      "5       81\n",
      "6       44\n",
      "7       13\n",
      "8        3\n",
      "9        2\n",
      "10       1\n",
      "Name: count, dtype: int64\n"
     ]
    },
    {
     "data": {
      "image/png": "[encoded data removed]",
      "text/plain": [
       "<Figure size 640x480 with 1 Axes>"
      ]
     },
     "metadata": {},
     "output_type": "display_data"
    }
   ],
   "source": [
    "import matplotlib.pyplot as plt\n",
    "\n",
    "print(df['win_rate'].value_counts())\n",
    "\n",
    "df['win_rate'].value_counts().sort_index().plot(kind='bar', color='#bc0028')\n",
    "plt.xlabel('Win Rate')\n",
    "plt.title('Distribution of Win Rates')\n",
    "plt.show()"
   ]
  },
  {
   "cell_type": "markdown",
   "metadata": {},
   "source": [
    "The average deck performed *embarrassingly* bad. It's likely due to the opponent deck having card synergy and a decent mana curve, while the test deck itself is completely random.\n"
   ]
  },
  {
   "cell_type": "markdown",
   "metadata": {},
   "source": [
    "## Count Encoding / Frequency Encoding\n",
    "\n",
    "Kind of like one-hot encoding, except, well, counting the \"hots\"."
   ]
  },
  {
   "cell_type": "code",
   "execution_count": 25,
   "metadata": {},
   "outputs": [
    {
     "data": {
      "text/html": [
       "<div>\n",
       "<style scoped>\n",
       "    .dataframe tbody tr th:only-of-type {\n",
       "        vertical-align: middle;\n",
       "    }\n",
       "\n",
       "    .dataframe tbody tr th {\n",
       "        vertical-align: top;\n",
       "    }\n",
       "\n",
       "    .dataframe thead th {\n",
       "        text-align: right;\n",
       "    }\n",
       "</style>\n",
       "<table border=\"1\" class=\"dataframe\">\n",
       "  <thead>\n",
       "    <tr style=\"text-align: right;\">\n",
       "      <th></th>\n",
       "      <th>win_rate</th>\n",
       "      <th>sorted_uid</th>\n",
       "      <th>A</th>\n",
       "      <th>B</th>\n",
       "      <th>C</th>\n",
       "      <th>D</th>\n",
       "      <th>E</th>\n",
       "      <th>a</th>\n",
       "      <th>b</th>\n",
       "      <th>c</th>\n",
       "      <th>...</th>\n",
       "      <th>q</th>\n",
       "      <th>r</th>\n",
       "      <th>s</th>\n",
       "      <th>t</th>\n",
       "      <th>u</th>\n",
       "      <th>v</th>\n",
       "      <th>w</th>\n",
       "      <th>x</th>\n",
       "      <th>y</th>\n",
       "      <th>z</th>\n",
       "    </tr>\n",
       "  </thead>\n",
       "  <tbody>\n",
       "    <tr>\n",
       "      <th>0</th>\n",
       "      <td>0</td>\n",
       "      <td>ABBBCEEaabdfffgijlmnopprstwxyz</td>\n",
       "      <td>1</td>\n",
       "      <td>3</td>\n",
       "      <td>1</td>\n",
       "      <td>0</td>\n",
       "      <td>2</td>\n",
       "      <td>2</td>\n",
       "      <td>1</td>\n",
       "      <td>0</td>\n",
       "      <td>...</td>\n",
       "      <td>0</td>\n",
       "      <td>1</td>\n",
       "      <td>1</td>\n",
       "      <td>1</td>\n",
       "      <td>0</td>\n",
       "      <td>0</td>\n",
       "      <td>1</td>\n",
       "      <td>1</td>\n",
       "      <td>1</td>\n",
       "      <td>1</td>\n",
       "    </tr>\n",
       "    <tr>\n",
       "      <th>1</th>\n",
       "      <td>1</td>\n",
       "      <td>AABBBEaefjkmnnqrrrrruuvvwwxyyy</td>\n",
       "      <td>2</td>\n",
       "      <td>3</td>\n",
       "      <td>0</td>\n",
       "      <td>0</td>\n",
       "      <td>1</td>\n",
       "      <td>1</td>\n",
       "      <td>0</td>\n",
       "      <td>0</td>\n",
       "      <td>...</td>\n",
       "      <td>1</td>\n",
       "      <td>5</td>\n",
       "      <td>0</td>\n",
       "      <td>0</td>\n",
       "      <td>2</td>\n",
       "      <td>2</td>\n",
       "      <td>2</td>\n",
       "      <td>1</td>\n",
       "      <td>3</td>\n",
       "      <td>0</td>\n",
       "    </tr>\n",
       "    <tr>\n",
       "      <th>2</th>\n",
       "      <td>1</td>\n",
       "      <td>AEbeffijjlllllnooqrrttuvvxxxyz</td>\n",
       "      <td>1</td>\n",
       "      <td>0</td>\n",
       "      <td>0</td>\n",
       "      <td>0</td>\n",
       "      <td>1</td>\n",
       "      <td>0</td>\n",
       "      <td>1</td>\n",
       "      <td>0</td>\n",
       "      <td>...</td>\n",
       "      <td>1</td>\n",
       "      <td>2</td>\n",
       "      <td>0</td>\n",
       "      <td>2</td>\n",
       "      <td>1</td>\n",
       "      <td>2</td>\n",
       "      <td>0</td>\n",
       "      <td>3</td>\n",
       "      <td>1</td>\n",
       "      <td>1</td>\n",
       "    </tr>\n",
       "    <tr>\n",
       "      <th>3</th>\n",
       "      <td>1</td>\n",
       "      <td>ABBBBCbbfhjkklmmnooprrttvwwyzz</td>\n",
       "      <td>1</td>\n",
       "      <td>4</td>\n",
       "      <td>1</td>\n",
       "      <td>0</td>\n",
       "      <td>0</td>\n",
       "      <td>0</td>\n",
       "      <td>2</td>\n",
       "      <td>0</td>\n",
       "      <td>...</td>\n",
       "      <td>0</td>\n",
       "      <td>2</td>\n",
       "      <td>0</td>\n",
       "      <td>2</td>\n",
       "      <td>0</td>\n",
       "      <td>1</td>\n",
       "      <td>2</td>\n",
       "      <td>0</td>\n",
       "      <td>1</td>\n",
       "      <td>2</td>\n",
       "    </tr>\n",
       "    <tr>\n",
       "      <th>4</th>\n",
       "      <td>3</td>\n",
       "      <td>BDDaaabbbcddfhhiijkllprruvwwxy</td>\n",
       "      <td>0</td>\n",
       "      <td>1</td>\n",
       "      <td>0</td>\n",
       "      <td>2</td>\n",
       "      <td>0</td>\n",
       "      <td>3</td>\n",
       "      <td>3</td>\n",
       "      <td>1</td>\n",
       "      <td>...</td>\n",
       "      <td>0</td>\n",
       "      <td>2</td>\n",
       "      <td>0</td>\n",
       "      <td>0</td>\n",
       "      <td>1</td>\n",
       "      <td>1</td>\n",
       "      <td>2</td>\n",
       "      <td>1</td>\n",
       "      <td>1</td>\n",
       "      <td>0</td>\n",
       "    </tr>\n",
       "    <tr>\n",
       "      <th>...</th>\n",
       "      <td>...</td>\n",
       "      <td>...</td>\n",
       "      <td>...</td>\n",
       "      <td>...</td>\n",
       "      <td>...</td>\n",
       "      <td>...</td>\n",
       "      <td>...</td>\n",
       "      <td>...</td>\n",
       "      <td>...</td>\n",
       "      <td>...</td>\n",
       "      <td>...</td>\n",
       "      <td>...</td>\n",
       "      <td>...</td>\n",
       "      <td>...</td>\n",
       "      <td>...</td>\n",
       "      <td>...</td>\n",
       "      <td>...</td>\n",
       "      <td>...</td>\n",
       "      <td>...</td>\n",
       "      <td>...</td>\n",
       "      <td>...</td>\n",
       "    </tr>\n",
       "    <tr>\n",
       "      <th>3195</th>\n",
       "      <td>2</td>\n",
       "      <td>AABDEEEEabbcfijklmpppprsssswxy</td>\n",
       "      <td>2</td>\n",
       "      <td>1</td>\n",
       "      <td>0</td>\n",
       "      <td>1</td>\n",
       "      <td>4</td>\n",
       "      <td>1</td>\n",
       "      <td>2</td>\n",
       "      <td>1</td>\n",
       "      <td>...</td>\n",
       "      <td>0</td>\n",
       "      <td>1</td>\n",
       "      <td>4</td>\n",
       "      <td>0</td>\n",
       "      <td>0</td>\n",
       "      <td>0</td>\n",
       "      <td>1</td>\n",
       "      <td>1</td>\n",
       "      <td>1</td>\n",
       "      <td>0</td>\n",
       "    </tr>\n",
       "    <tr>\n",
       "      <th>3196</th>\n",
       "      <td>1</td>\n",
       "      <td>AAAABCCDadeeghijllmpqrrsswwyyz</td>\n",
       "      <td>4</td>\n",
       "      <td>1</td>\n",
       "      <td>2</td>\n",
       "      <td>1</td>\n",
       "      <td>0</td>\n",
       "      <td>1</td>\n",
       "      <td>0</td>\n",
       "      <td>0</td>\n",
       "      <td>...</td>\n",
       "      <td>1</td>\n",
       "      <td>2</td>\n",
       "      <td>2</td>\n",
       "      <td>0</td>\n",
       "      <td>0</td>\n",
       "      <td>0</td>\n",
       "      <td>2</td>\n",
       "      <td>0</td>\n",
       "      <td>2</td>\n",
       "      <td>1</td>\n",
       "    </tr>\n",
       "    <tr>\n",
       "      <th>3197</th>\n",
       "      <td>1</td>\n",
       "      <td>ACDDEEaabcegiijjlmnooooptvwwwx</td>\n",
       "      <td>1</td>\n",
       "      <td>0</td>\n",
       "      <td>1</td>\n",
       "      <td>2</td>\n",
       "      <td>2</td>\n",
       "      <td>2</td>\n",
       "      <td>1</td>\n",
       "      <td>1</td>\n",
       "      <td>...</td>\n",
       "      <td>0</td>\n",
       "      <td>0</td>\n",
       "      <td>0</td>\n",
       "      <td>1</td>\n",
       "      <td>0</td>\n",
       "      <td>1</td>\n",
       "      <td>3</td>\n",
       "      <td>1</td>\n",
       "      <td>0</td>\n",
       "      <td>0</td>\n",
       "    </tr>\n",
       "    <tr>\n",
       "      <th>3198</th>\n",
       "      <td>0</td>\n",
       "      <td>AABCDEabehhijkmmpqrrsttuvwyzzz</td>\n",
       "      <td>2</td>\n",
       "      <td>1</td>\n",
       "      <td>1</td>\n",
       "      <td>1</td>\n",
       "      <td>1</td>\n",
       "      <td>1</td>\n",
       "      <td>1</td>\n",
       "      <td>0</td>\n",
       "      <td>...</td>\n",
       "      <td>1</td>\n",
       "      <td>2</td>\n",
       "      <td>1</td>\n",
       "      <td>2</td>\n",
       "      <td>1</td>\n",
       "      <td>1</td>\n",
       "      <td>1</td>\n",
       "      <td>0</td>\n",
       "      <td>1</td>\n",
       "      <td>3</td>\n",
       "    </tr>\n",
       "    <tr>\n",
       "      <th>3199</th>\n",
       "      <td>0</td>\n",
       "      <td>AAABBCCDEacdijllmnqstttuvwwxzz</td>\n",
       "      <td>3</td>\n",
       "      <td>2</td>\n",
       "      <td>2</td>\n",
       "      <td>1</td>\n",
       "      <td>1</td>\n",
       "      <td>1</td>\n",
       "      <td>0</td>\n",
       "      <td>1</td>\n",
       "      <td>...</td>\n",
       "      <td>1</td>\n",
       "      <td>0</td>\n",
       "      <td>1</td>\n",
       "      <td>3</td>\n",
       "      <td>1</td>\n",
       "      <td>1</td>\n",
       "      <td>2</td>\n",
       "      <td>1</td>\n",
       "      <td>0</td>\n",
       "      <td>2</td>\n",
       "    </tr>\n",
       "  </tbody>\n",
       "</table>\n",
       "<p>3200 rows × 33 columns</p>\n",
       "</div>"
      ],
      "text/plain": [
       "      win_rate                      sorted_uid  A  B  C  D  E  a  b  c  ...  \\\n",
       "0            0  ABBBCEEaabdfffgijlmnopprstwxyz  1  3  1  0  2  2  1  0  ...   \n",
       "1            1  AABBBEaefjkmnnqrrrrruuvvwwxyyy  2  3  0  0  1  1  0  0  ...   \n",
       "2            1  AEbeffijjlllllnooqrrttuvvxxxyz  1  0  0  0  1  0  1  0  ...   \n",
       "3            1  ABBBBCbbfhjkklmmnooprrttvwwyzz  1  4  1  0  0  0  2  0  ...   \n",
       "4            3  BDDaaabbbcddfhhiijkllprruvwwxy  0  1  0  2  0  3  3  1  ...   \n",
       "...        ...                             ... .. .. .. .. .. .. .. ..  ...   \n",
       "3195         2  AABDEEEEabbcfijklmpppprsssswxy  2  1  0  1  4  1  2  1  ...   \n",
       "3196         1  AAAABCCDadeeghijllmpqrrsswwyyz  4  1  2  1  0  1  0  0  ...   \n",
       "3197         1  ACDDEEaabcegiijjlmnooooptvwwwx  1  0  1  2  2  2  1  1  ...   \n",
       "3198         0  AABCDEabehhijkmmpqrrsttuvwyzzz  2  1  1  1  1  1  1  0  ...   \n",
       "3199         0  AAABBCCDEacdijllmnqstttuvwwxzz  3  2  2  1  1  1  0  1  ...   \n",
       "\n",
       "      q  r  s  t  u  v  w  x  y  z  \n",
       "0     0  1  1  1  0  0  1  1  1  1  \n",
       "1     1  5  0  0  2  2  2  1  3  0  \n",
       "2     1  2  0  2  1  2  0  3  1  1  \n",
       "3     0  2  0  2  0  1  2  0  1  2  \n",
       "4     0  2  0  0  1  1  2  1  1  0  \n",
       "...  .. .. .. .. .. .. .. .. .. ..  \n",
       "3195  0  1  4  0  0  0  1  1  1  0  \n",
       "3196  1  2  2  0  0  0  2  0  2  1  \n",
       "3197  0  0  0  1  0  1  3  1  0  0  \n",
       "3198  1  2  1  2  1  1  1  0  1  3  \n",
       "3199  1  0  1  3  1  1  2  1  0  2  \n",
       "\n",
       "[3200 rows x 33 columns]"
      ]
     },
     "execution_count": 25,
     "metadata": {},
     "output_type": "execute_result"
    }
   ],
   "source": [
    "unique_chars = sorted(set(''.join(df['sorted_uid'])))\n",
    "\n",
    "for char in unique_chars:\n",
    "    df[char] = df['sorted_uid'].apply(lambda x: x.count(char))\n",
    "\n",
    "df"
   ]
  },
  {
   "cell_type": "markdown",
   "metadata": {},
   "source": [
    "## Standardization and Train|Test split"
   ]
  },
  {
   "cell_type": "code",
   "execution_count": 26,
   "metadata": {},
   "outputs": [],
   "source": [
    "from sklearn.model_selection import train_test_split\n",
    "\n",
    "X = df.drop(['win_rate', 'sorted_uid'], axis=1) # Drop win rate and uid, only keep count encoding\n",
    "y = df['win_rate'] # Target\n",
    "\n",
    "X_train, X_test, y_train, y_test = train_test_split(X, y, test_size=0.2, random_state=42)"
   ]
  },
  {
   "cell_type": "code",
   "execution_count": 27,
   "metadata": {},
   "outputs": [],
   "source": [
    "from sklearn.preprocessing import StandardScaler\n",
    "\n",
    "# Feature standardization is not really useful on this data (?), but we'll test it anyway\n",
    "# scaler = StandardScaler()\n",
    "# X_train_scaled = scaler.fit_transform(X_train)\n",
    "# X_test_scaled = scaler.transform(X_test)\n",
    "\n",
    "X_train_scaled = X_train\n",
    "X_test_scaled = X_test"
   ]
  },
  {
   "cell_type": "markdown",
   "metadata": {},
   "source": [
    "## Keras model"
   ]
  },
  {
   "cell_type": "code",
   "execution_count": 28,
   "metadata": {},
   "outputs": [
    {
     "name": "stdout",
     "output_type": "stream",
     "text": [
      "Epoch 1/50\n"
     ]
    },
    {
     "name": "stdout",
     "output_type": "stream",
     "text": [
      "80/80 [==============================] - 2s 6ms/step - loss: 2.4043 - val_loss: 2.0323\n",
      "Epoch 2/50\n",
      "80/80 [==============================] - 0s 2ms/step - loss: 1.6211 - val_loss: 1.6722\n",
      "Epoch 3/50\n",
      "80/80 [==============================] - 0s 2ms/step - loss: 1.3545 - val_loss: 1.5410\n",
      "Epoch 4/50\n",
      "80/80 [==============================] - 0s 2ms/step - loss: 1.2737 - val_loss: 1.5119\n",
      "Epoch 5/50\n",
      "80/80 [==============================] - 0s 2ms/step - loss: 1.2415 - val_loss: 1.4942\n",
      "Epoch 6/50\n",
      "80/80 [==============================] - 0s 2ms/step - loss: 1.2106 - val_loss: 1.4810\n",
      "Epoch 7/50\n",
      "80/80 [==============================] - 0s 2ms/step - loss: 1.1896 - val_loss: 1.4756\n",
      "Epoch 8/50\n",
      "80/80 [==============================] - 0s 2ms/step - loss: 1.1812 - val_loss: 1.4725\n",
      "Epoch 9/50\n",
      "80/80 [==============================] - 0s 2ms/step - loss: 1.1579 - val_loss: 1.4709\n",
      "Epoch 10/50\n",
      "80/80 [==============================] - 0s 2ms/step - loss: 1.1383 - val_loss: 1.4600\n",
      "Epoch 11/50\n",
      "80/80 [==============================] - 0s 2ms/step - loss: 1.1279 - val_loss: 1.4632\n",
      "Epoch 12/50\n",
      "80/80 [==============================] - 0s 2ms/step - loss: 1.1127 - val_loss: 1.4624\n",
      "Epoch 13/50\n",
      "80/80 [==============================] - 0s 2ms/step - loss: 1.0898 - val_loss: 1.4611\n",
      "Epoch 14/50\n",
      "80/80 [==============================] - 0s 2ms/step - loss: 1.0861 - val_loss: 1.4609\n",
      "Epoch 15/50\n",
      "80/80 [==============================] - 0s 2ms/step - loss: 1.0599 - val_loss: 1.4435\n",
      "Epoch 16/50\n",
      "80/80 [==============================] - 0s 3ms/step - loss: 1.0559 - val_loss: 1.4518\n",
      "Epoch 17/50\n",
      "80/80 [==============================] - 0s 2ms/step - loss: 1.0451 - val_loss: 1.4488\n",
      "Epoch 18/50\n",
      "80/80 [==============================] - 0s 2ms/step - loss: 1.0357 - val_loss: 1.4534\n",
      "Epoch 19/50\n",
      "80/80 [==============================] - 0s 2ms/step - loss: 1.0257 - val_loss: 1.4709\n",
      "Epoch 20/50\n",
      "80/80 [==============================] - 0s 2ms/step - loss: 1.0090 - val_loss: 1.4598\n",
      "Epoch 21/50\n",
      "80/80 [==============================] - 0s 2ms/step - loss: 1.0171 - val_loss: 1.4793\n",
      "Epoch 22/50\n",
      "80/80 [==============================] - 0s 2ms/step - loss: 1.0038 - val_loss: 1.4627\n",
      "Epoch 23/50\n",
      "80/80 [==============================] - 0s 2ms/step - loss: 0.9789 - val_loss: 1.4770\n",
      "Epoch 24/50\n",
      "80/80 [==============================] - 0s 2ms/step - loss: 0.9802 - val_loss: 1.4586\n",
      "Epoch 25/50\n",
      "80/80 [==============================] - 0s 2ms/step - loss: 0.9625 - val_loss: 1.4742\n",
      "Epoch 26/50\n",
      "80/80 [==============================] - 0s 2ms/step - loss: 0.9668 - val_loss: 1.4647\n",
      "Epoch 27/50\n",
      "80/80 [==============================] - 0s 3ms/step - loss: 0.9460 - val_loss: 1.4831\n",
      "Epoch 28/50\n",
      "80/80 [==============================] - 0s 2ms/step - loss: 0.9370 - val_loss: 1.4991\n",
      "Epoch 29/50\n",
      "80/80 [==============================] - 0s 2ms/step - loss: 0.9300 - val_loss: 1.4906\n",
      "Epoch 30/50\n",
      "80/80 [==============================] - 0s 2ms/step - loss: 0.9156 - val_loss: 1.5142\n",
      "Epoch 31/50\n",
      "80/80 [==============================] - 0s 2ms/step - loss: 0.9104 - val_loss: 1.4953\n",
      "Epoch 32/50\n",
      "80/80 [==============================] - 0s 2ms/step - loss: 0.9053 - val_loss: 1.5169\n",
      "Epoch 33/50\n",
      "80/80 [==============================] - 0s 2ms/step - loss: 0.8952 - val_loss: 1.5219\n",
      "Epoch 34/50\n",
      "80/80 [==============================] - 0s 2ms/step - loss: 0.9007 - val_loss: 1.5611\n",
      "Epoch 35/50\n",
      "80/80 [==============================] - 0s 2ms/step - loss: 0.8826 - val_loss: 1.5420\n",
      "Epoch 36/50\n",
      "80/80 [==============================] - 0s 2ms/step - loss: 0.8735 - val_loss: 1.5260\n",
      "Epoch 37/50\n",
      "80/80 [==============================] - 0s 2ms/step - loss: 0.8637 - val_loss: 1.5265\n",
      "Epoch 38/50\n",
      "80/80 [==============================] - 0s 2ms/step - loss: 0.8589 - val_loss: 1.5452\n",
      "Epoch 39/50\n",
      "80/80 [==============================] - 0s 2ms/step - loss: 0.8538 - val_loss: 1.6111\n",
      "Epoch 40/50\n",
      "80/80 [==============================] - 0s 2ms/step - loss: 0.8490 - val_loss: 1.5546\n",
      "Epoch 41/50\n",
      "80/80 [==============================] - 0s 3ms/step - loss: 0.8372 - val_loss: 1.5605\n",
      "Epoch 42/50\n",
      "80/80 [==============================] - 0s 2ms/step - loss: 0.8306 - val_loss: 1.5594\n",
      "Epoch 43/50\n",
      "80/80 [==============================] - 0s 2ms/step - loss: 0.8264 - val_loss: 1.5504\n",
      "Epoch 44/50\n",
      "80/80 [==============================] - 0s 3ms/step - loss: 0.8145 - val_loss: 1.5772\n",
      "Epoch 45/50\n",
      "80/80 [==============================] - 0s 2ms/step - loss: 0.8213 - val_loss: 1.5928\n",
      "Epoch 46/50\n",
      "80/80 [==============================] - 0s 2ms/step - loss: 0.7995 - val_loss: 1.5720\n",
      "Epoch 47/50\n",
      "80/80 [==============================] - 0s 2ms/step - loss: 0.8033 - val_loss: 1.5730\n",
      "Epoch 48/50\n",
      "80/80 [==============================] - 0s 2ms/step - loss: 0.7936 - val_loss: 1.5869\n",
      "Epoch 49/50\n",
      "80/80 [==============================] - 0s 2ms/step - loss: 0.7868 - val_loss: 1.5782\n",
      "Epoch 50/50\n",
      "80/80 [==============================] - 0s 2ms/step - loss: 0.7787 - val_loss: 1.6156\n"
     ]
    },
    {
     "data": {
      "text/plain": [
       "<keras.src.callbacks.History at 0x130928310>"
      ]
     },
     "execution_count": 28,
     "metadata": {},
     "output_type": "execute_result"
    }
   ],
   "source": [
    "from tensorflow import keras\n",
    "from tensorflow.keras.models import Sequential\n",
    "from tensorflow.keras.layers import Dense\n",
    "\n",
    "model = Sequential()\n",
    "model.add(Dense(32, input_dim=X_train.shape[1], activation='relu'))\n",
    "model.add(Dense(16, activation='relu'))\n",
    "\n",
    "model.add(Dense(1, activation='linear'))  # Regression\n",
    "# If we had a binary classification (win/lose) we'd use sigmoid.\n",
    "# If we had multi-class classification we'd use soft-max.\n",
    "\n",
    "model.compile(optimizer='adam', loss='mean_squared_error')\n",
    "model.fit(X_train_scaled, y_train, epochs=50, batch_size=32, validation_data=(X_test_scaled, y_test))"
   ]
  },
  {
   "cell_type": "markdown",
   "metadata": {},
   "source": [
    "## Eval"
   ]
  },
  {
   "cell_type": "code",
   "execution_count": 29,
   "metadata": {},
   "outputs": [
    {
     "name": "stdout",
     "output_type": "stream",
     "text": [
      "20/20 [==============================] - 0s 1ms/step - loss: 1.6156\n",
      "Mean Squared Error on Test Set: 1.615558385848999\n"
     ]
    }
   ],
   "source": [
    "loss = model.evaluate(X_test_scaled, y_test)\n",
    "print(f'Mean Squared Error on Test Set: {loss}')"
   ]
  },
  {
   "cell_type": "markdown",
   "metadata": {},
   "source": [
    "Mean Squared Error on Test Set: 1.692472815513610 (Standardization)<br>\n",
    "Mean Squared Error on Test Set: 1.615558385848999 (No standardization)\n"
   ]
  },
  {
   "cell_type": "code",
   "execution_count": 31,
   "metadata": {},
   "outputs": [
    {
     "name": "stdout",
     "output_type": "stream",
     "text": [
      "20/20 [==============================] - 0s 1ms/step\n",
      "Mean Squared Error on Test Set: 1.6155584767483344\n"
     ]
    },
    {
     "data": {
      "image/png": "[encoded data removed]",
      "text/plain": [
       "<Figure size 640x480 with 1 Axes>"
      ]
     },
     "metadata": {},
     "output_type": "display_data"
    }
   ],
   "source": [
    "predictions = model.predict(X_test_scaled)\n",
    "# 'predictions' now contains the predicted values for each instance in X_test_scaled\n",
    "\n",
    "# The model is trained for a regression task (linear activation in the output layer)\n",
    "# so we can directly compare the predicted values with the actual labels (y_test)\n",
    "\n",
    "from sklearn.metrics import mean_squared_error\n",
    "\n",
    "# MSE between predicted and actual values\n",
    "mse = mean_squared_error(y_test, predictions)\n",
    "print(f'Mean Squared Error on Test Set: {mse}')\n",
    "\n",
    "plt.scatter(y_test, predictions)\n",
    "plt.xlabel('True Values')\n",
    "plt.ylabel('Predicted Values')\n",
    "plt.show()"
   ]
  },
  {
   "cell_type": "code",
   "execution_count": 42,
   "metadata": {},
   "outputs": [
    {
     "data": {
      "image/png": "[encoded data removed]",
      "text/plain": [
       "<Figure size 1200x1000 with 4 Axes>"
      ]
     },
     "metadata": {},
     "output_type": "display_data"
    }
   ],
   "source": [
    "import seaborn as sns\n",
    "\n",
    "residuals = y_test - predictions.flatten()\n",
    "\n",
    "fig, axes = plt.subplots(nrows=2, ncols=2, figsize=(12, 10))\n",
    "\n",
    "# Scatter plot of true values vs predicted values\n",
    "axes[0, 0].scatter(y_test, predictions)\n",
    "axes[0, 0].plot([y_test.min(), y_test.max()], [y_test.min(), y_test.max()], 'k--', lw=4)\n",
    "axes[0, 0].set_xlabel('True Values')\n",
    "axes[0, 0].set_ylabel('Predicted Values')\n",
    "axes[0, 0].set_title('Regression Line')\n",
    "\n",
    "# Residual plot\n",
    "axes[0, 1].scatter(predictions, residuals)\n",
    "axes[0, 1].axhline(y=0, color='black', linestyle='--', linewidth=2)\n",
    "axes[0, 1].set_xlabel('Predicted Values')\n",
    "axes[0, 1].set_ylabel('Residuals')\n",
    "axes[0, 1].set_title('Residual Plot')\n",
    "\n",
    "# Distribution of residuals\n",
    "axes[1, 0].hist(residuals, bins=20, edgecolor='black')\n",
    "axes[1, 0].set_xlabel('Residuals')\n",
    "axes[1, 0].set_ylabel('Frequency')\n",
    "axes[1, 0].set_title('Distribution of Residuals')\n",
    "\n",
    "# Density Plot\n",
    "sns.kdeplot(x=y_test, y=predictions.flatten(), cmap='Blues', fill=True, ax=axes[1, 1])\n",
    "axes[1, 1].set_xlabel('True Values')\n",
    "axes[1, 1].set_ylabel('Predicted Values')\n",
    "axes[1, 1].set_title('2D Density Plot')\n",
    "\n",
    "plt.tight_layout()\n",
    "plt.show()\n"
   ]
  },
  {
   "cell_type": "markdown",
   "metadata": {},
   "source": [
    "I mean, it's not good. But it ain't *that* bad. Since we had the an overwhelmingly amount of sample points for bad performing decks (0 wins/10 games), it makes sense that the model is better at predicting poor decks. However we cannot predict less than 0 for a deck. This needs to be addressed. One solution is to clip the predictions:\n",
    "```np.clip(predictions, 0, 1)```, but there must be a better way to do this."
   ]
  },
  {
   "cell_type": "markdown",
   "metadata": {},
   "source": [
    "---"
   ]
  },
  {
   "cell_type": "markdown",
   "metadata": {},
   "source": [
    "## Prediction on new decks\n",
    "\n",
    "Now when the player is constructing a deck, we can give a hint of how well the deck is expected to perform."
   ]
  },
  {
   "cell_type": "code",
   "execution_count": 53,
   "metadata": {},
   "outputs": [
    {
     "data": {
      "text/plain": [
       "'ACEaabbcddfhikkkkllmmnoqrsuvwy'"
      ]
     },
     "execution_count": 53,
     "metadata": {},
     "output_type": "execute_result"
    }
   ],
   "source": [
    "# First we decode our count encoded data (this could have been avoided by storing the sorted_uid before popping it from X during the train|test split...)\n",
    "\n",
    "def decode_deck_uid(encoded_deck_uid, unique_chars):\n",
    "    decoded_deck_uid = ''\n",
    "    for char, count in zip(unique_chars, encoded_deck_uid):\n",
    "        decoded_deck_uid += char * count\n",
    "    return decoded_deck_uid\n",
    "\n",
    "\n",
    "encoded_deck_uid = X_test.iloc[0]\n",
    "decoded_deck_uid = decode_deck_uid(encoded_deck_uid, unique_chars)\n",
    "decoded_deck_uid"
   ]
  },
  {
   "cell_type": "markdown",
   "metadata": {},
   "source": [
    "This decoder allows us to test any deck string (serialized through DeckSerializer in [card_wars/deck.py](https://github.com/wlinds/card_wars/blob/main/src/card_wars/deck.py))"
   ]
  },
  {
   "cell_type": "code",
   "execution_count": 54,
   "metadata": {},
   "outputs": [
    {
     "name": "stdout",
     "output_type": "stream",
     "text": [
      "1/1 [==============================] - 0s 25ms/step\n",
      "Predicted Win Rate: 2.516423463821411\n"
     ]
    }
   ],
   "source": [
    "import numpy as np\n",
    "\n",
    "input_deck_uid = \"ACEaabbcddfhikkkkllmmnoqrsuvwy\"\n",
    "encoded_input = [input_deck_uid.count(char) for char in unique_chars]\n",
    "\n",
    "# Reshape the input to have shape (1, num_features)\n",
    "reshape_input = np.reshape(encoded_input, (1, -1))\n",
    "\n",
    "predicted_win_rate = model.predict(reshape_input)\n",
    "print(f'Predicted Win Rate: {predicted_win_rate[0][0]}')"
   ]
  },
  {
   "cell_type": "markdown",
   "metadata": {},
   "source": [
    "Predicted 2.5 wins / 10 games. Let's check the ground truth."
   ]
  },
  {
   "cell_type": "code",
   "execution_count": 56,
   "metadata": {},
   "outputs": [
    {
     "data": {
      "text/html": [
       "<div>\n",
       "<style scoped>\n",
       "    .dataframe tbody tr th:only-of-type {\n",
       "        vertical-align: middle;\n",
       "    }\n",
       "\n",
       "    .dataframe tbody tr th {\n",
       "        vertical-align: top;\n",
       "    }\n",
       "\n",
       "    .dataframe thead th {\n",
       "        text-align: right;\n",
       "    }\n",
       "</style>\n",
       "<table border=\"1\" class=\"dataframe\">\n",
       "  <thead>\n",
       "    <tr style=\"text-align: right;\">\n",
       "      <th></th>\n",
       "      <th>win_rate</th>\n",
       "      <th>sorted_uid</th>\n",
       "      <th>A</th>\n",
       "      <th>B</th>\n",
       "      <th>C</th>\n",
       "      <th>D</th>\n",
       "      <th>E</th>\n",
       "      <th>a</th>\n",
       "      <th>b</th>\n",
       "      <th>c</th>\n",
       "      <th>...</th>\n",
       "      <th>q</th>\n",
       "      <th>r</th>\n",
       "      <th>s</th>\n",
       "      <th>t</th>\n",
       "      <th>u</th>\n",
       "      <th>v</th>\n",
       "      <th>w</th>\n",
       "      <th>x</th>\n",
       "      <th>y</th>\n",
       "      <th>z</th>\n",
       "    </tr>\n",
       "  </thead>\n",
       "  <tbody>\n",
       "    <tr>\n",
       "      <th>2384</th>\n",
       "      <td>3</td>\n",
       "      <td>ACEaabbcddfhikkkkllmmnoqrsuvwy</td>\n",
       "      <td>1</td>\n",
       "      <td>0</td>\n",
       "      <td>1</td>\n",
       "      <td>0</td>\n",
       "      <td>1</td>\n",
       "      <td>2</td>\n",
       "      <td>2</td>\n",
       "      <td>1</td>\n",
       "      <td>...</td>\n",
       "      <td>1</td>\n",
       "      <td>1</td>\n",
       "      <td>1</td>\n",
       "      <td>0</td>\n",
       "      <td>1</td>\n",
       "      <td>1</td>\n",
       "      <td>1</td>\n",
       "      <td>0</td>\n",
       "      <td>1</td>\n",
       "      <td>0</td>\n",
       "    </tr>\n",
       "  </tbody>\n",
       "</table>\n",
       "<p>1 rows × 33 columns</p>\n",
       "</div>"
      ],
      "text/plain": [
       "      win_rate                      sorted_uid  A  B  C  D  E  a  b  c  ...  \\\n",
       "2384         3  ACEaabbcddfhikkkkllmmnoqrsuvwy  1  0  1  0  1  2  2  1  ...   \n",
       "\n",
       "      q  r  s  t  u  v  w  x  y  z  \n",
       "2384  1  1  1  0  1  1  1  0  1  0  \n",
       "\n",
       "[1 rows x 33 columns]"
      ]
     },
     "execution_count": 56,
     "metadata": {},
     "output_type": "execute_result"
    }
   ],
   "source": [
    "df[df['sorted_uid'] == \"ACEaabbcddfhikkkkllmmnoqrsuvwy\"]"
   ]
  },
  {
   "cell_type": "markdown",
   "metadata": {},
   "source": [
    "That's accurate enough to me!\n",
    "\n",
    "Of course the model can be improved by a lot, but I'd rather collect some new data and run it through the NN first.\n",
    "\n",
    "### TODO:s for next simulation / data collection\n",
    "\n",
    "Card improvements:\n",
    "- The pool of cards should be expanded. More high cost cards, more diverse, more synergy.\n",
    "\n",
    "Card limitations:\n",
    "- Players are only allowed a maxmimum of 2 unique cards in each deck.\n",
    "\n",
    "Logic improvements:\n",
    "- Improved player logic and targeting. (Improved TargetAssist)\n",
    "- Eventually implement some kind of reinforcement learning for player actions, that would be dope. (But that's for another model.)"
   ]
  }
 ],
 "metadata": {
  "kernelspec": {
   "display_name": "Python 3",
   "language": "python",
   "name": "python3"
  },
  "language_info": {
   "codemirror_mode": {
    "name": "ipython",
    "version": 3
   },
   "file_extension": ".py",
   "mimetype": "text/x-python",
   "name": "python",
   "nbconvert_exporter": "python",
   "pygments_lexer": "ipython3",
   "version": "3.11.6"
  }
 },
 "nbformat": 4,
 "nbformat_minor": 2
}
