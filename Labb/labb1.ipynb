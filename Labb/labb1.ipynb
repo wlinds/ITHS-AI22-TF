{
 "cells": [
  {
   "cell_type": "markdown",
   "metadata": {},
   "source": [
    "<div align=\"center\" style=\"border-radius: 10px; overflow: hidden; box-shadow: 0px 0px 10px rgba(0, 0, 0, 0.1);\">\n",
    "  <img src=\"https://storage.googleapis.com/kaggle-datasets-images/8782/12270/c3af536d14e386a2bfd356d1cd84b67e/dataset-cover.jpg?t=2018-01-06-14-10-54\" alt=\"Flower Dataset\" style=\"border-radius: 10px;\">\n",
    "</div>"
   ]
  },
  {
   "cell_type": "markdown",
   "metadata": {},
   "source": [
    "<div align=\"center\" style=\"background-color: #f5f5f5; padding: 20px; border-radius: 10px; box-shadow: 0px 0px 10px rgba(0, 0, 0, 0.1); color: #555;\">\n",
    "\n",
    "# Flowers Recognition\n",
    "### A Convolutional Neural Network with 6.5M Learnable Petals\n",
    "###### ITHS AI22 Deep Learning Course | December 2023\n",
    "</div>"
   ]
  },
  {
   "cell_type": "markdown",
   "metadata": {},
   "source": [
    "[This dataset](https://www.kaggle.com/datasets/alxmamaev/flowers-recognition\n",
    ") contains 4242 images of flowers.\n",
    "\n",
    "### Content\n",
    "\n",
    "The pictures are divided into five classes: chamomile, tulip, rose, sunflower, dandelion.\n",
    "For each class there are about 800 photos. Photos are not high resolution, about 320x240 pixels. Photos are not reduced to a single size.\n",
    "\n",
    "The data collection is based on scraped data from flickr, google images, and yandex images.\n",
    "\n",
    "### Description\n",
    "\n",
    "make model go vroom vroom"
   ]
  },
  {
   "cell_type": "code",
   "execution_count": 1,
   "metadata": {},
   "outputs": [
    {
     "name": "stderr",
     "output_type": "stream",
     "text": [
      "2023-12-13 20:49:25.850697: I tensorflow/core/platform/cpu_feature_guard.cc:182] This TensorFlow binary is optimized to use available CPU instructions in performance-critical operations.\n",
      "To enable the following instructions: AVX2 FMA, in other operations, rebuild TensorFlow with the appropriate compiler flags.\n"
     ]
    }
   ],
   "source": [
    "from tensorflow.data import Dataset"
   ]
  },
  {
   "cell_type": "markdown",
   "metadata": {},
   "source": [
    "### Resources & Documentation\n",
    "\n",
    "[api_docs/tf/keras/utils/image_dataset_from_directory](https://www.tensorflow.org/api_docs/python/tf/keras/utils/image_dataset_from_directory)\n",
    "\n",
    "[tensorflow.org/tutorials/images/classification](https://www.tensorflow.org/tutorials/images/classification)\n"
   ]
  },
  {
   "cell_type": "markdown",
   "metadata": {},
   "source": [
    "# Creating a dataset (Train|Val|Test Split)\n",
    "\n",
    "We first start out by creating our dataset. For this I use the image_dataset_from_directory API.<br>\n",
    "By making it a function, we can call it with different parameters later on.\n",
    "\n",
    "We use the take & skip methods to move a bunch of validation data into test data.\n",
    "\n",
    "This results in:\n",
    "\n",
    "xx% training:\n",
    "- xx% training is used to adjust the weights in the network.\n",
    "- xx% in-training validation used only to check metrics of the model after each epoch.\n",
    "\n",
    "xx% testing (never seen by the training process at all)\n",
    "\n",
    "**#TODO update values when satisfied with inference**\n",
    "\n",
    "I've decided to stick to just a few batches of of test data (maybe just one?), as my intention is to test the model on new data. (e.g., flower images from search engines etc.)\n",
    "\n",
    "I've also decided to run with a larger batch size (128) because there is high variance in the dataset."
   ]
  },
  {
   "cell_type": "code",
   "execution_count": 2,
   "metadata": {},
   "outputs": [],
   "source": [
    "from tensorflow.keras.preprocessing import image_dataset_from_directory as get_data\n",
    "from tensorflow import one_hot\n",
    "\n",
    "def create_dataset(data_dir='Data/flowers', batch_size=128, img_size=(224,224), val_size=0.2, shuffle=True, random_seed=42):\n",
    "\n",
    "    print(f\"Creating dataset with batch size: {batch_size}\")\n",
    "\n",
    "    train_ds = get_data(\n",
    "      data_dir,\n",
    "      validation_split=val_size,\n",
    "      subset=\"training\",\n",
    "      seed=random_seed,\n",
    "      image_size=img_size,\n",
    "      batch_size=batch_size,\n",
    "      shuffle=shuffle)\n",
    "\n",
    "    val_ds = get_data(\n",
    "      data_dir,\n",
    "      validation_split=val_size,\n",
    "      subset=\"validation\",\n",
    "      seed=random_seed,\n",
    "      image_size=img_size,\n",
    "      batch_size=batch_size,\n",
    "      shuffle=shuffle)\n",
    "\n",
    "    # Extracting test data from validation split\n",
    "    val_batches = len(val_ds)\n",
    "    test_ds = val_ds.take((val_batches) // 6)\n",
    "    new_val_ds = val_ds.skip((val_batches) // 6)\n",
    "\n",
    "    percent_test = len(test_ds) / (len(val_ds) + len(test_ds)) * 100\n",
    "\n",
    "    print(f\"Moving {len(val_ds) - len(new_val_ds)} batch(es) from validation to test.\")\n",
    "    print(f\"Using {len(test_ds)*batch_size} files ({percent_test:.2f}%) for test.\\n\")\n",
    "\n",
    "    class_names = train_ds.class_names\n",
    "\n",
    "    # One-hot encoding labels\n",
    "    try:\n",
    "        num_classes = len(train_ds.class_names)\n",
    "        train_ds = train_ds.map(lambda x, y: (x, one_hot(y, depth=num_classes)))\n",
    "        new_val_ds = new_val_ds.map(lambda x, y: (x, one_hot(y, depth=num_classes)))\n",
    "        test_ds = test_ds.map(lambda x, y: (x, one_hot(y, depth=num_classes)))\n",
    "        print('Labels successfully encoded.')\n",
    "    except Exception as e:\n",
    "        print(f'Error during one-hot encoding: {e}')\n",
    "        \n",
    "    return train_ds, new_val_ds, test_ds, class_names\n"
   ]
  },
  {
   "cell_type": "code",
   "execution_count": 3,
   "metadata": {},
   "outputs": [
    {
     "name": "stdout",
     "output_type": "stream",
     "text": [
      "Creating dataset with batch size: 128\n",
      "Found 4317 files belonging to 5 classes.\n",
      "Using 3454 files for training.\n",
      "Found 4317 files belonging to 5 classes.\n",
      "Using 863 files for validation.\n",
      "Moving 1 batch(es) from validation to test.\n",
      "Using 128 files (12.50%) for test.\n",
      "\n",
      "Labels successfully encoded.\n"
     ]
    }
   ],
   "source": [
    "train_ds, val_ds, test_ds, class_names = create_dataset(shuffle=True, random_seed=3)"
   ]
  },
  {
   "cell_type": "markdown",
   "metadata": {},
   "source": [
    "When using `image_dataset_from_directory`, labes are automatically integer encoded in the dataset. One integer represent one type of flower.<br>\n",
    "For multi-class classification tasks (like identifying different types of flowers), it is common to employ a technique one-hot encoding.<sup>[citation needed]</sup>\n"
   ]
  },
  {
   "cell_type": "code",
   "execution_count": 4,
   "metadata": {},
   "outputs": [
    {
     "name": "stdout",
     "output_type": "stream",
     "text": [
      "(128, 5)\n"
     ]
    }
   ],
   "source": [
    "for images, labels in train_ds.take(1):\n",
    "    print(labels.shape)"
   ]
  },
  {
   "cell_type": "markdown",
   "metadata": {},
   "source": [
    "# Preprocessing (Normalization)"
   ]
  },
  {
   "cell_type": "code",
   "execution_count": 5,
   "metadata": {},
   "outputs": [
    {
     "name": "stdout",
     "output_type": "stream",
     "text": [
      "(128, 224, 224, 3)\n",
      "(128, 5)\n"
     ]
    }
   ],
   "source": [
    "for image_batch, labels_batch in train_ds:\n",
    "  print(image_batch.shape)\n",
    "  print(labels_batch.shape)\n",
    "  break"
   ]
  },
  {
   "cell_type": "markdown",
   "metadata": {},
   "source": [
    "The image_batch is a tensor of the shape (128, 224, 224, 3). This is a batch of 128 images of shape 224x224x3 (the last dimension refers to color channels RGB). The label_batch is a tensor of the shape (128,5), these are corresponding labels to the 128 images.\n",
    "\n",
    "For one image:"
   ]
  },
  {
   "cell_type": "code",
   "execution_count": 6,
   "metadata": {},
   "outputs": [
    {
     "name": "stdout",
     "output_type": "stream",
     "text": [
      "(224, 224, 3)\n"
     ]
    }
   ],
   "source": [
    "for image_batch in train_ds:\n",
    "  print(image_batch[0][0].shape)\n",
    "  break"
   ]
  },
  {
   "cell_type": "markdown",
   "metadata": {},
   "source": [
    "And a snippet of a tensor channel:\n",
    "\n",
    "```\n",
    "tf.Tensor(\n",
    "[[[ 65.03571   132.03572   184.03572  ]\n",
    "  [ 66.        133.        185.       ]\n",
    "  [ 66.17857   133.17857   185.35715  ]\n",
    "  ...\n",
    "```"
   ]
  },
  {
   "cell_type": "code",
   "execution_count": 7,
   "metadata": {},
   "outputs": [
    {
     "name": "stdout",
     "output_type": "stream",
     "text": [
      "<class 'tensorflow.python.data.ops.map_op._MapDataset'>\n",
      "0.0 255.0\n"
     ]
    }
   ],
   "source": [
    "import numpy as np\n",
    "print(type(train_ds))\n",
    "\n",
    "for images, labels in train_ds.take(1):\n",
    "    print(np.min(images), np.max(images))"
   ]
  },
  {
   "cell_type": "markdown",
   "metadata": {},
   "source": [
    "Default RGB values range between 0 and 255. We want to normalize these values."
   ]
  },
  {
   "cell_type": "code",
   "execution_count": 8,
   "metadata": {},
   "outputs": [
    {
     "name": "stdout",
     "output_type": "stream",
     "text": [
      "0.0 1.0\n"
     ]
    }
   ],
   "source": [
    "def normalize_image(img, label):\n",
    "    return img / 255, label\n",
    "\n",
    "train_ds_normalized = train_ds.map(normalize_image)\n",
    "val_ds_normalized = val_ds.map(normalize_image)\n",
    "test_ds_normalized = test_ds.map(normalize_image)\n",
    "\n",
    "for images, labels in train_ds_normalized.take(1):\n",
    "    print(np.min(images), np.max(images))"
   ]
  },
  {
   "cell_type": "markdown",
   "metadata": {},
   "source": [
    "When we use the map function on a tf.data.Dataset (or PrefetchDataset), we apply a function (such as `normalize_image`) to each element of the dataset.\n",
    "\n",
    "After normalization:\n",
    "\n",
    "```\n",
    "tf.Tensor(\n",
    "[[[0.14509805 0.14509805 0.11372549]\n",
    "  [0.14509805 0.14509805 0.11372549]\n",
    "  [0.14621848 0.14621848 0.11484594]\n",
    "  ...\n",
    "  ```\n",
    "\n",
    "  As such we divide each pixel value by 255, bringing the values into the range [0, 1]. This improves consistecy and helps the model to learn faster (faster convergence)."
   ]
  },
  {
   "cell_type": "markdown",
   "metadata": {},
   "source": [
    "# Building the model\n",
    "\n",
    "Here we use a modified base model as desribed in the [Keras Image classification Tutorial](https://www.tensorflow.org/tutorials/images/classification).<br>\n",
    "To run a gridsearch later on, we create a function to build models."
   ]
  },
  {
   "cell_type": "code",
   "execution_count": 9,
   "metadata": {},
   "outputs": [
    {
     "name": "stdout",
     "output_type": "stream",
     "text": [
      "Model: \"sequential\"\n",
      "_________________________________________________________________\n",
      " Layer (type)                Output Shape              Param #   \n",
      "=================================================================\n",
      " conv2d (Conv2D)             (None, 224, 224, 16)      448       \n",
      "                                                                 \n",
      " max_pooling2d (MaxPooling2  (None, 112, 112, 16)      0         \n",
      " D)                                                              \n",
      "                                                                 \n",
      " conv2d_1 (Conv2D)           (None, 112, 112, 32)      4640      \n",
      "                                                                 \n",
      " max_pooling2d_1 (MaxPoolin  (None, 56, 56, 32)        0         \n",
      " g2D)                                                            \n",
      "                                                                 \n",
      " conv2d_2 (Conv2D)           (None, 56, 56, 64)        18496     \n",
      "                                                                 \n",
      " max_pooling2d_2 (MaxPoolin  (None, 28, 28, 64)        0         \n",
      " g2D)                                                            \n",
      "                                                                 \n",
      " flatten (Flatten)           (None, 50176)             0         \n",
      "                                                                 \n",
      " dense (Dense)               (None, 128)               6422656   \n",
      "                                                                 \n",
      " dense_1 (Dense)             (None, 5)                 645       \n",
      "                                                                 \n",
      "=================================================================\n",
      "Total params: 6446885 (24.59 MB)\n",
      "Trainable params: 6446885 (24.59 MB)\n",
      "Non-trainable params: 0 (0.00 Byte)\n",
      "_________________________________________________________________\n"
     ]
    }
   ],
   "source": [
    "from tensorflow.keras.models import Sequential\n",
    "from tensorflow.keras.layers import Conv2D, MaxPooling2D, Flatten, Dense, Dropout\n",
    "\n",
    "def get_model(img_size=[224,224],\n",
    "              num_classes=5,\n",
    "              num_filters=[16, 32, 64],\n",
    "              pooling_sizes=[2, 2, 2],\n",
    "              activations=['relu', 'relu', 'relu'],\n",
    "              dense_units=[128],\n",
    "              dense_activations=['relu'],\n",
    "              optimizer='adam',\n",
    "              loss='categorical_crossentropy'):\n",
    "\n",
    "    model = Sequential()\n",
    "\n",
    "    for filters, pooling_size, activation in zip(num_filters, pooling_sizes, activations):\n",
    "        model.add(Conv2D(filters, 3, padding='same', activation=activation, input_shape=(img_size[0], img_size[1], 3)))\n",
    "        model.add(MaxPooling2D(pool_size=pooling_size))\n",
    "\n",
    "    model.add(Flatten())\n",
    "\n",
    "    for units, activation in zip(dense_units, dense_activations):\n",
    "        model.add(Dense(units, activation=activation))\n",
    "\n",
    "    model.add(Dense(num_classes, activation='softmax'))\n",
    "\n",
    "    model.compile(optimizer=optimizer, loss=loss, metrics=['accuracy'])\n",
    "\n",
    "    return model\n",
    "\n",
    "model = get_model()\n",
    "model.summary()\n",
    "\n",
    "# TODO from_logits=True on loss ?\n"
   ]
  },
  {
   "cell_type": "markdown",
   "metadata": {},
   "source": [
    "The total and trainable parameters look reasonable, and the model is trainable with ~6.4 million parameters."
   ]
  },
  {
   "cell_type": "markdown",
   "metadata": {},
   "source": [
    "# Training the model\n",
    "\n",
    "Now we'll call our `get_model()` to compare Adam and SGD.\n",
    "\n",
    "We use AUTOTUNE to improve performance of the lil 2,2 GHz Quad-Core Intel Core i7 who's doing all the hard work."
   ]
  },
  {
   "cell_type": "code",
   "execution_count": 10,
   "metadata": {},
   "outputs": [],
   "source": [
    "from tensorflow.data import AUTOTUNE # For performance\n",
    "\n",
    "train_ds_normalized = train_ds_normalized.cache().shuffle(1000).prefetch(buffer_size=AUTOTUNE)\n",
    "val_ds_normalized = val_ds_normalized.cache().prefetch(buffer_size=AUTOTUNE)"
   ]
  },
  {
   "cell_type": "code",
   "execution_count": 11,
   "metadata": {},
   "outputs": [],
   "source": [
    "from tqdm.keras import TqdmCallback\n",
    "\n",
    "def train(model, epochs=10):\n",
    "    tqdm_callback = TqdmCallback()\n",
    "\n",
    "    history = model.fit(\n",
    "      train_ds_normalized,\n",
    "      validation_data=val_ds_normalized,\n",
    "      epochs=epochs,\n",
    "      callbacks=[tqdm_callback]\n",
    "    )\n",
    "\n",
    "    return history"
   ]
  },
  {
   "cell_type": "code",
   "execution_count": 12,
   "metadata": {},
   "outputs": [
    {
     "data": {
      "application/vnd.jupyter.widget-view+json": {
       "model_id": "08ee26c23e6d49d29add72897fea8d4d",
       "version_major": 2,
       "version_minor": 0
      },
      "text/plain": [
       "0epoch [00:00, ?epoch/s]"
      ]
     },
     "metadata": {},
     "output_type": "display_data"
    },
    {
     "data": {
      "application/vnd.jupyter.widget-view+json": {
       "model_id": "e4e84f18de9542e8bf5a55bb3e94d048",
       "version_major": 2,
       "version_minor": 0
      },
      "text/plain": [
       "0batch [00:00, ?batch/s]"
      ]
     },
     "metadata": {},
     "output_type": "display_data"
    },
    {
     "name": "stdout",
     "output_type": "stream",
     "text": [
      "Epoch 1/20\n",
      "27/27 [==============================] - 67s 2s/step - loss: 1.6545 - accuracy: 0.3263 - val_loss: 1.2849 - val_accuracy: 0.4463\n",
      "Epoch 2/20\n",
      "27/27 [==============================] - 57s 2s/step - loss: 1.1944 - accuracy: 0.4954 - val_loss: 1.1794 - val_accuracy: 0.5224\n",
      "Epoch 3/20\n",
      "27/27 [==============================] - 56s 2s/step - loss: 1.0377 - accuracy: 0.5970 - val_loss: 1.0943 - val_accuracy: 0.5687\n",
      "Epoch 4/20\n",
      "27/27 [==============================] - 57s 2s/step - loss: 0.9066 - accuracy: 0.6647 - val_loss: 1.0457 - val_accuracy: 0.5986\n",
      "Epoch 5/20\n",
      "27/27 [==============================] - 57s 2s/step - loss: 0.7635 - accuracy: 0.7183 - val_loss: 1.0570 - val_accuracy: 0.5959\n",
      "Epoch 6/20\n",
      "27/27 [==============================] - 57s 2s/step - loss: 0.5924 - accuracy: 0.7881 - val_loss: 1.1239 - val_accuracy: 0.6041\n",
      "Epoch 7/20\n",
      "27/27 [==============================] - 57s 2s/step - loss: 0.4496 - accuracy: 0.8393 - val_loss: 1.2181 - val_accuracy: 0.6000\n",
      "Epoch 8/20\n",
      "27/27 [==============================] - 57s 2s/step - loss: 0.3262 - accuracy: 0.8943 - val_loss: 1.3860 - val_accuracy: 0.6122\n",
      "Epoch 9/20\n",
      "27/27 [==============================] - 57s 2s/step - loss: 0.2214 - accuracy: 0.9265 - val_loss: 1.4140 - val_accuracy: 0.6014\n",
      "Epoch 10/20\n",
      "27/27 [==============================] - 57s 2s/step - loss: 0.1451 - accuracy: 0.9592 - val_loss: 1.4366 - val_accuracy: 0.5850\n",
      "Epoch 11/20\n",
      "27/27 [==============================] - 57s 2s/step - loss: 0.1114 - accuracy: 0.9719 - val_loss: 1.6061 - val_accuracy: 0.6109\n",
      "Epoch 12/20\n",
      "27/27 [==============================] - 57s 2s/step - loss: 0.0678 - accuracy: 0.9878 - val_loss: 1.8218 - val_accuracy: 0.5823\n",
      "Epoch 13/20\n",
      "27/27 [==============================] - 57s 2s/step - loss: 0.0487 - accuracy: 0.9931 - val_loss: 1.9713 - val_accuracy: 0.6027\n",
      "Epoch 14/20\n",
      "27/27 [==============================] - 57s 2s/step - loss: 0.0366 - accuracy: 0.9954 - val_loss: 2.1089 - val_accuracy: 0.6054\n",
      "Epoch 15/20\n",
      "27/27 [==============================] - 57s 2s/step - loss: 0.0312 - accuracy: 0.9948 - val_loss: 2.1352 - val_accuracy: 0.5796\n",
      "Epoch 16/20\n",
      "27/27 [==============================] - 57s 2s/step - loss: 0.0366 - accuracy: 0.9945 - val_loss: 2.0774 - val_accuracy: 0.5823\n",
      "Epoch 17/20\n",
      "27/27 [==============================] - 57s 2s/step - loss: 0.1491 - accuracy: 0.9554 - val_loss: 1.8799 - val_accuracy: 0.5864\n",
      "Epoch 18/20\n",
      "27/27 [==============================] - 58s 2s/step - loss: 0.0592 - accuracy: 0.9855 - val_loss: 2.2055 - val_accuracy: 0.5986\n",
      "Epoch 19/20\n",
      "27/27 [==============================] - 96s 3s/step - loss: 0.0599 - accuracy: 0.9873 - val_loss: 2.1230 - val_accuracy: 0.5905\n",
      "Epoch 20/20\n",
      "27/27 [==============================] - 73s 3s/step - loss: 0.0406 - accuracy: 0.9931 - val_loss: 2.0782 - val_accuracy: 0.6150\n"
     ]
    },
    {
     "data": {
      "application/vnd.jupyter.widget-view+json": {
       "model_id": "4b9c3386cddb4264adbb2701f02742c2",
       "version_major": 2,
       "version_minor": 0
      },
      "text/plain": [
       "0epoch [00:00, ?epoch/s]"
      ]
     },
     "metadata": {},
     "output_type": "display_data"
    },
    {
     "data": {
      "application/vnd.jupyter.widget-view+json": {
       "model_id": "67f1131620224da691fc37bc50717083",
       "version_major": 2,
       "version_minor": 0
      },
      "text/plain": [
       "0batch [00:00, ?batch/s]"
      ]
     },
     "metadata": {},
     "output_type": "display_data"
    },
    {
     "name": "stdout",
     "output_type": "stream",
     "text": [
      "Epoch 1/20\n",
      "27/27 [==============================] - 80s 3s/step - loss: 1.5554 - accuracy: 0.2956 - val_loss: 1.5082 - val_accuracy: 0.3211\n",
      "Epoch 2/20\n",
      "27/27 [==============================] - 72s 3s/step - loss: 1.4676 - accuracy: 0.3668 - val_loss: 1.7289 - val_accuracy: 0.3224\n",
      "Epoch 3/20\n",
      "27/27 [==============================] - 73s 3s/step - loss: 1.3994 - accuracy: 0.4157 - val_loss: 1.3491 - val_accuracy: 0.4068\n",
      "Epoch 4/20\n",
      "27/27 [==============================] - 59s 2s/step - loss: 1.3521 - accuracy: 0.4250 - val_loss: 1.2833 - val_accuracy: 0.4422\n",
      "Epoch 5/20\n",
      "27/27 [==============================] - 59s 2s/step - loss: 1.3022 - accuracy: 0.4676 - val_loss: 1.2362 - val_accuracy: 0.4748\n",
      "Epoch 6/20\n",
      "27/27 [==============================] - 58s 2s/step - loss: 1.2268 - accuracy: 0.4818 - val_loss: 1.2172 - val_accuracy: 0.4653\n",
      "Epoch 7/20\n",
      "27/27 [==============================] - 57s 2s/step - loss: 1.1892 - accuracy: 0.5055 - val_loss: 1.1634 - val_accuracy: 0.5061\n",
      "Epoch 8/20\n",
      "27/27 [==============================] - 58s 2s/step - loss: 1.1476 - accuracy: 0.5269 - val_loss: 1.2384 - val_accuracy: 0.4816\n",
      "Epoch 9/20\n",
      "27/27 [==============================] - 57s 2s/step - loss: 1.1313 - accuracy: 0.5379 - val_loss: 1.1508 - val_accuracy: 0.5184\n",
      "Epoch 10/20\n",
      "27/27 [==============================] - 57s 2s/step - loss: 1.1077 - accuracy: 0.5495 - val_loss: 1.1252 - val_accuracy: 0.5361\n",
      "Epoch 11/20\n",
      "27/27 [==============================] - 58s 2s/step - loss: 1.0822 - accuracy: 0.5637 - val_loss: 1.2108 - val_accuracy: 0.5034\n",
      "Epoch 12/20\n",
      "27/27 [==============================] - 57s 2s/step - loss: 1.0505 - accuracy: 0.5828 - val_loss: 1.1359 - val_accuracy: 0.5456\n",
      "Epoch 13/20\n",
      "27/27 [==============================] - 57s 2s/step - loss: 1.0404 - accuracy: 0.5843 - val_loss: 1.1600 - val_accuracy: 0.5320\n",
      "Epoch 14/20\n",
      "27/27 [==============================] - 57s 2s/step - loss: 1.0199 - accuracy: 0.5898 - val_loss: 1.1353 - val_accuracy: 0.5442\n",
      "Epoch 15/20\n",
      "27/27 [==============================] - 57s 2s/step - loss: 0.9946 - accuracy: 0.6089 - val_loss: 1.1240 - val_accuracy: 0.5333\n",
      "Epoch 16/20\n",
      "27/27 [==============================] - 57s 2s/step - loss: 1.0006 - accuracy: 0.6120 - val_loss: 1.0806 - val_accuracy: 0.5823\n",
      "Epoch 17/20\n",
      "27/27 [==============================] - 58s 2s/step - loss: 0.9653 - accuracy: 0.6242 - val_loss: 1.2186 - val_accuracy: 0.5034\n",
      "Epoch 18/20\n",
      "27/27 [==============================] - 63s 2s/step - loss: 0.9859 - accuracy: 0.6149 - val_loss: 1.0776 - val_accuracy: 0.5905\n",
      "Epoch 19/20\n",
      "27/27 [==============================] - 62s 2s/step - loss: 0.9640 - accuracy: 0.6199 - val_loss: 1.1057 - val_accuracy: 0.5388\n",
      "Epoch 20/20\n",
      "27/27 [==============================] - 64s 2s/step - loss: 0.9356 - accuracy: 0.6404 - val_loss: 1.0566 - val_accuracy: 0.5905\n"
     ]
    }
   ],
   "source": [
    "adam20 = train(get_model(), epochs=20) # Same as model above (Adam)\n",
    "sgd20 = train(get_model(optimizer='sgd'), epochs=20) # Stochastic Gradient Descent"
   ]
  },
  {
   "cell_type": "code",
   "execution_count": 19,
   "metadata": {},
   "outputs": [
    {
     "data": {
      "application/vnd.plotly.v1+json": {
       "config": {
        "plotlyServerURL": "https://plot.ly"
       },
       "data": [
        {
         "mode": "lines",
         "name": "Adam Optimizer Training Accuracy",
         "type": "scatter",
         "x": [
          1,
          2,
          3,
          4,
          5,
          6,
          7,
          8,
          9,
          10,
          11,
          12,
          13,
          14,
          15,
          16,
          17,
          18,
          19,
          20
         ],
         "y": [
          0.3262883722782135,
          0.4953676760196686,
          0.5969889760017395,
          0.6647365093231201,
          0.7182976007461548,
          0.7880718111991882,
          0.839316725730896,
          0.8943254351615906,
          0.9264620542526245,
          0.9591777920722961,
          0.9719166159629822,
          0.9878401756286621,
          0.9930515289306641,
          0.995367705821991,
          0.994788646697998,
          0.994499146938324,
          0.9554139971733093,
          0.98552405834198,
          0.987261176109314,
          0.9930515289306641
         ]
        },
        {
         "mode": "lines",
         "name": "Adam Optimizer Validation Accuracy",
         "type": "scatter",
         "x": [
          1,
          2,
          3,
          4,
          5,
          6,
          7,
          8,
          9,
          10,
          11,
          12,
          13,
          14,
          15,
          16,
          17,
          18,
          19,
          20
         ],
         "y": [
          0.4462585151195526,
          0.5224489569664001,
          0.5687074661254883,
          0.5986394286155701,
          0.5959183573722839,
          0.6040816307067871,
          0.6000000238418579,
          0.6122449040412903,
          0.601360559463501,
          0.5850340127944946,
          0.6108843684196472,
          0.5823129415512085,
          0.602721095085144,
          0.6054421663284302,
          0.5795918107032776,
          0.5823129415512085,
          0.5863945484161377,
          0.5986394286155701,
          0.5904762148857117,
          0.6149659752845764
         ]
        },
        {
         "mode": "lines",
         "name": "SGD Optimizer Training Accuracy",
         "type": "scatter",
         "x": [
          1,
          2,
          3,
          4,
          5,
          6,
          7,
          8,
          9,
          10,
          11,
          12,
          13,
          14,
          15,
          16,
          17,
          18,
          19,
          20
         ],
         "y": [
          0.2955993115901947,
          0.3668210804462433,
          0.41574984788894653,
          0.425014466047287,
          0.4675738215446472,
          0.48176026344299316,
          0.505500853061676,
          0.5269253253936768,
          0.5379270315170288,
          0.5495077967643738,
          0.5636942386627197,
          0.5828025341033936,
          0.5842501521110535,
          0.5897510051727295,
          0.6088593006134033,
          0.6120440363883972,
          0.6242038011550903,
          0.6149392127990723,
          0.6198610067367554,
          0.6404169201850891
         ]
        },
        {
         "mode": "lines",
         "name": "SGD Optimizer Validation Accuracy",
         "type": "scatter",
         "x": [
          1,
          2,
          3,
          4,
          5,
          6,
          7,
          8,
          9,
          10,
          11,
          12,
          13,
          14,
          15,
          16,
          17,
          18,
          19,
          20
         ],
         "y": [
          0.32108843326568604,
          0.3224489688873291,
          0.4068027138710022,
          0.442176878452301,
          0.47482994198799133,
          0.4653061330318451,
          0.5061224699020386,
          0.48163264989852905,
          0.518367350101471,
          0.5360544323921204,
          0.5034013390541077,
          0.5455782413482666,
          0.5319727659225464,
          0.5442177057266235,
          0.5333333611488342,
          0.5823129415512085,
          0.5034013390541077,
          0.5904762148857117,
          0.5387755036354065,
          0.5904762148857117
         ]
        }
       ],
       "layout": {
        "template": {
         "data": {
          "bar": [
           {
            "error_x": {
             "color": "#2a3f5f"
            },
            "error_y": {
             "color": "#2a3f5f"
            },
            "marker": {
             "line": {
              "color": "#E5ECF6",
              "width": 0.5
             },
             "pattern": {
              "fillmode": "overlay",
              "size": 10,
              "solidity": 0.2
             }
            },
            "type": "bar"
           }
          ],
          "barpolar": [
           {
            "marker": {
             "line": {
              "color": "#E5ECF6",
              "width": 0.5
             },
             "pattern": {
              "fillmode": "overlay",
              "size": 10,
              "solidity": 0.2
             }
            },
            "type": "barpolar"
           }
          ],
          "carpet": [
           {
            "aaxis": {
             "endlinecolor": "#2a3f5f",
             "gridcolor": "white",
             "linecolor": "white",
             "minorgridcolor": "white",
             "startlinecolor": "#2a3f5f"
            },
            "baxis": {
             "endlinecolor": "#2a3f5f",
             "gridcolor": "white",
             "linecolor": "white",
             "minorgridcolor": "white",
             "startlinecolor": "#2a3f5f"
            },
            "type": "carpet"
           }
          ],
          "choropleth": [
           {
            "colorbar": {
             "outlinewidth": 0,
             "ticks": ""
            },
            "type": "choropleth"
           }
          ],
          "contour": [
           {
            "colorbar": {
             "outlinewidth": 0,
             "ticks": ""
            },
            "colorscale": [
             [
              0,
              "#0d0887"
             ],
             [
              0.1111111111111111,
              "#46039f"
             ],
             [
              0.2222222222222222,
              "#7201a8"
             ],
             [
              0.3333333333333333,
              "#9c179e"
             ],
             [
              0.4444444444444444,
              "#bd3786"
             ],
             [
              0.5555555555555556,
              "#d8576b"
             ],
             [
              0.6666666666666666,
              "#ed7953"
             ],
             [
              0.7777777777777778,
              "#fb9f3a"
             ],
             [
              0.8888888888888888,
              "#fdca26"
             ],
             [
              1,
              "#f0f921"
             ]
            ],
            "type": "contour"
           }
          ],
          "contourcarpet": [
           {
            "colorbar": {
             "outlinewidth": 0,
             "ticks": ""
            },
            "type": "contourcarpet"
           }
          ],
          "heatmap": [
           {
            "colorbar": {
             "outlinewidth": 0,
             "ticks": ""
            },
            "colorscale": [
             [
              0,
              "#0d0887"
             ],
             [
              0.1111111111111111,
              "#46039f"
             ],
             [
              0.2222222222222222,
              "#7201a8"
             ],
             [
              0.3333333333333333,
              "#9c179e"
             ],
             [
              0.4444444444444444,
              "#bd3786"
             ],
             [
              0.5555555555555556,
              "#d8576b"
             ],
             [
              0.6666666666666666,
              "#ed7953"
             ],
             [
              0.7777777777777778,
              "#fb9f3a"
             ],
             [
              0.8888888888888888,
              "#fdca26"
             ],
             [
              1,
              "#f0f921"
             ]
            ],
            "type": "heatmap"
           }
          ],
          "heatmapgl": [
           {
            "colorbar": {
             "outlinewidth": 0,
             "ticks": ""
            },
            "colorscale": [
             [
              0,
              "#0d0887"
             ],
             [
              0.1111111111111111,
              "#46039f"
             ],
             [
              0.2222222222222222,
              "#7201a8"
             ],
             [
              0.3333333333333333,
              "#9c179e"
             ],
             [
              0.4444444444444444,
              "#bd3786"
             ],
             [
              0.5555555555555556,
              "#d8576b"
             ],
             [
              0.6666666666666666,
              "#ed7953"
             ],
             [
              0.7777777777777778,
              "#fb9f3a"
             ],
             [
              0.8888888888888888,
              "#fdca26"
             ],
             [
              1,
              "#f0f921"
             ]
            ],
            "type": "heatmapgl"
           }
          ],
          "histogram": [
           {
            "marker": {
             "pattern": {
              "fillmode": "overlay",
              "size": 10,
              "solidity": 0.2
             }
            },
            "type": "histogram"
           }
          ],
          "histogram2d": [
           {
            "colorbar": {
             "outlinewidth": 0,
             "ticks": ""
            },
            "colorscale": [
             [
              0,
              "#0d0887"
             ],
             [
              0.1111111111111111,
              "#46039f"
             ],
             [
              0.2222222222222222,
              "#7201a8"
             ],
             [
              0.3333333333333333,
              "#9c179e"
             ],
             [
              0.4444444444444444,
              "#bd3786"
             ],
             [
              0.5555555555555556,
              "#d8576b"
             ],
             [
              0.6666666666666666,
              "#ed7953"
             ],
             [
              0.7777777777777778,
              "#fb9f3a"
             ],
             [
              0.8888888888888888,
              "#fdca26"
             ],
             [
              1,
              "#f0f921"
             ]
            ],
            "type": "histogram2d"
           }
          ],
          "histogram2dcontour": [
           {
            "colorbar": {
             "outlinewidth": 0,
             "ticks": ""
            },
            "colorscale": [
             [
              0,
              "#0d0887"
             ],
             [
              0.1111111111111111,
              "#46039f"
             ],
             [
              0.2222222222222222,
              "#7201a8"
             ],
             [
              0.3333333333333333,
              "#9c179e"
             ],
             [
              0.4444444444444444,
              "#bd3786"
             ],
             [
              0.5555555555555556,
              "#d8576b"
             ],
             [
              0.6666666666666666,
              "#ed7953"
             ],
             [
              0.7777777777777778,
              "#fb9f3a"
             ],
             [
              0.8888888888888888,
              "#fdca26"
             ],
             [
              1,
              "#f0f921"
             ]
            ],
            "type": "histogram2dcontour"
           }
          ],
          "mesh3d": [
           {
            "colorbar": {
             "outlinewidth": 0,
             "ticks": ""
            },
            "type": "mesh3d"
           }
          ],
          "parcoords": [
           {
            "line": {
             "colorbar": {
              "outlinewidth": 0,
              "ticks": ""
             }
            },
            "type": "parcoords"
           }
          ],
          "pie": [
           {
            "automargin": true,
            "type": "pie"
           }
          ],
          "scatter": [
           {
            "fillpattern": {
             "fillmode": "overlay",
             "size": 10,
             "solidity": 0.2
            },
            "type": "scatter"
           }
          ],
          "scatter3d": [
           {
            "line": {
             "colorbar": {
              "outlinewidth": 0,
              "ticks": ""
             }
            },
            "marker": {
             "colorbar": {
              "outlinewidth": 0,
              "ticks": ""
             }
            },
            "type": "scatter3d"
           }
          ],
          "scattercarpet": [
           {
            "marker": {
             "colorbar": {
              "outlinewidth": 0,
              "ticks": ""
             }
            },
            "type": "scattercarpet"
           }
          ],
          "scattergeo": [
           {
            "marker": {
             "colorbar": {
              "outlinewidth": 0,
              "ticks": ""
             }
            },
            "type": "scattergeo"
           }
          ],
          "scattergl": [
           {
            "marker": {
             "colorbar": {
              "outlinewidth": 0,
              "ticks": ""
             }
            },
            "type": "scattergl"
           }
          ],
          "scattermapbox": [
           {
            "marker": {
             "colorbar": {
              "outlinewidth": 0,
              "ticks": ""
             }
            },
            "type": "scattermapbox"
           }
          ],
          "scatterpolar": [
           {
            "marker": {
             "colorbar": {
              "outlinewidth": 0,
              "ticks": ""
             }
            },
            "type": "scatterpolar"
           }
          ],
          "scatterpolargl": [
           {
            "marker": {
             "colorbar": {
              "outlinewidth": 0,
              "ticks": ""
             }
            },
            "type": "scatterpolargl"
           }
          ],
          "scatterternary": [
           {
            "marker": {
             "colorbar": {
              "outlinewidth": 0,
              "ticks": ""
             }
            },
            "type": "scatterternary"
           }
          ],
          "surface": [
           {
            "colorbar": {
             "outlinewidth": 0,
             "ticks": ""
            },
            "colorscale": [
             [
              0,
              "#0d0887"
             ],
             [
              0.1111111111111111,
              "#46039f"
             ],
             [
              0.2222222222222222,
              "#7201a8"
             ],
             [
              0.3333333333333333,
              "#9c179e"
             ],
             [
              0.4444444444444444,
              "#bd3786"
             ],
             [
              0.5555555555555556,
              "#d8576b"
             ],
             [
              0.6666666666666666,
              "#ed7953"
             ],
             [
              0.7777777777777778,
              "#fb9f3a"
             ],
             [
              0.8888888888888888,
              "#fdca26"
             ],
             [
              1,
              "#f0f921"
             ]
            ],
            "type": "surface"
           }
          ],
          "table": [
           {
            "cells": {
             "fill": {
              "color": "#EBF0F8"
             },
             "line": {
              "color": "white"
             }
            },
            "header": {
             "fill": {
              "color": "#C8D4E3"
             },
             "line": {
              "color": "white"
             }
            },
            "type": "table"
           }
          ]
         },
         "layout": {
          "annotationdefaults": {
           "arrowcolor": "#2a3f5f",
           "arrowhead": 0,
           "arrowwidth": 1
          },
          "autotypenumbers": "strict",
          "coloraxis": {
           "colorbar": {
            "outlinewidth": 0,
            "ticks": ""
           }
          },
          "colorscale": {
           "diverging": [
            [
             0,
             "#8e0152"
            ],
            [
             0.1,
             "#c51b7d"
            ],
            [
             0.2,
             "#de77ae"
            ],
            [
             0.3,
             "#f1b6da"
            ],
            [
             0.4,
             "#fde0ef"
            ],
            [
             0.5,
             "#f7f7f7"
            ],
            [
             0.6,
             "#e6f5d0"
            ],
            [
             0.7,
             "#b8e186"
            ],
            [
             0.8,
             "#7fbc41"
            ],
            [
             0.9,
             "#4d9221"
            ],
            [
             1,
             "#276419"
            ]
           ],
           "sequential": [
            [
             0,
             "#0d0887"
            ],
            [
             0.1111111111111111,
             "#46039f"
            ],
            [
             0.2222222222222222,
             "#7201a8"
            ],
            [
             0.3333333333333333,
             "#9c179e"
            ],
            [
             0.4444444444444444,
             "#bd3786"
            ],
            [
             0.5555555555555556,
             "#d8576b"
            ],
            [
             0.6666666666666666,
             "#ed7953"
            ],
            [
             0.7777777777777778,
             "#fb9f3a"
            ],
            [
             0.8888888888888888,
             "#fdca26"
            ],
            [
             1,
             "#f0f921"
            ]
           ],
           "sequentialminus": [
            [
             0,
             "#0d0887"
            ],
            [
             0.1111111111111111,
             "#46039f"
            ],
            [
             0.2222222222222222,
             "#7201a8"
            ],
            [
             0.3333333333333333,
             "#9c179e"
            ],
            [
             0.4444444444444444,
             "#bd3786"
            ],
            [
             0.5555555555555556,
             "#d8576b"
            ],
            [
             0.6666666666666666,
             "#ed7953"
            ],
            [
             0.7777777777777778,
             "#fb9f3a"
            ],
            [
             0.8888888888888888,
             "#fdca26"
            ],
            [
             1,
             "#f0f921"
            ]
           ]
          },
          "colorway": [
           "#636efa",
           "#EF553B",
           "#00cc96",
           "#ab63fa",
           "#FFA15A",
           "#19d3f3",
           "#FF6692",
           "#B6E880",
           "#FF97FF",
           "#FECB52"
          ],
          "font": {
           "color": "#2a3f5f"
          },
          "geo": {
           "bgcolor": "white",
           "lakecolor": "white",
           "landcolor": "#E5ECF6",
           "showlakes": true,
           "showland": true,
           "subunitcolor": "white"
          },
          "hoverlabel": {
           "align": "left"
          },
          "hovermode": "closest",
          "mapbox": {
           "style": "light"
          },
          "paper_bgcolor": "white",
          "plot_bgcolor": "#E5ECF6",
          "polar": {
           "angularaxis": {
            "gridcolor": "white",
            "linecolor": "white",
            "ticks": ""
           },
           "bgcolor": "#E5ECF6",
           "radialaxis": {
            "gridcolor": "white",
            "linecolor": "white",
            "ticks": ""
           }
          },
          "scene": {
           "xaxis": {
            "backgroundcolor": "#E5ECF6",
            "gridcolor": "white",
            "gridwidth": 2,
            "linecolor": "white",
            "showbackground": true,
            "ticks": "",
            "zerolinecolor": "white"
           },
           "yaxis": {
            "backgroundcolor": "#E5ECF6",
            "gridcolor": "white",
            "gridwidth": 2,
            "linecolor": "white",
            "showbackground": true,
            "ticks": "",
            "zerolinecolor": "white"
           },
           "zaxis": {
            "backgroundcolor": "#E5ECF6",
            "gridcolor": "white",
            "gridwidth": 2,
            "linecolor": "white",
            "showbackground": true,
            "ticks": "",
            "zerolinecolor": "white"
           }
          },
          "shapedefaults": {
           "line": {
            "color": "#2a3f5f"
           }
          },
          "ternary": {
           "aaxis": {
            "gridcolor": "white",
            "linecolor": "white",
            "ticks": ""
           },
           "baxis": {
            "gridcolor": "white",
            "linecolor": "white",
            "ticks": ""
           },
           "bgcolor": "#E5ECF6",
           "caxis": {
            "gridcolor": "white",
            "linecolor": "white",
            "ticks": ""
           }
          },
          "title": {
           "x": 0.05
          },
          "xaxis": {
           "automargin": true,
           "gridcolor": "white",
           "linecolor": "white",
           "ticks": "",
           "title": {
            "standoff": 15
           },
           "zerolinecolor": "white",
           "zerolinewidth": 2
          },
          "yaxis": {
           "automargin": true,
           "gridcolor": "white",
           "linecolor": "white",
           "ticks": "",
           "title": {
            "standoff": 15
           },
           "zerolinecolor": "white",
           "zerolinewidth": 2
          }
         }
        },
        "title": {
         "text": "Train & Val Accuracy Comparison (Batch Size=128)"
        },
        "xaxis": {
         "title": {
          "text": "Epochs"
         }
        },
        "yaxis": {
         "title": {
          "text": "Accuracy"
         }
        }
       }
      }
     },
     "metadata": {},
     "output_type": "display_data"
    }
   ],
   "source": [
    "import plotly.graph_objects as go\n",
    "\n",
    "def plot_training(*histories, title=\"None\", names=None):\n",
    "    fig = go.Figure()\n",
    "    for i, history in enumerate(histories):\n",
    "        acc = history.history['accuracy']\n",
    "        val_acc = history.history['val_accuracy']\n",
    "        loss = history.history['loss']\n",
    "        val_loss = history.history['val_loss']\n",
    "        epochs_range = list(range(1, len(acc) + 1))\n",
    "\n",
    "        fig.add_trace(go.Scatter(x=epochs_range, y=acc, mode='lines', name=f'{names[i]} Training Accuracy'))\n",
    "        fig.add_trace(go.Scatter(x=epochs_range, y=val_acc, mode='lines', name=f'{names[i]} Validation Accuracy'))\n",
    "\n",
    "    fig.update_layout(title=title,\n",
    "                      xaxis_title='Epochs',\n",
    "                      yaxis_title='Accuracy')\n",
    "\n",
    "    fig.show()\n",
    "\n",
    "plot_training(adam20, sgd20, title='Train & Val Accuracy Comparison (Batch Size=128)', names=['Adam Optimizer', 'SGD Optimizer'])"
   ]
  },
  {
   "cell_type": "markdown",
   "metadata": {},
   "source": [
    "Adam overfits as shit. SGD seems very stable."
   ]
  },
  {
   "cell_type": "markdown",
   "metadata": {},
   "source": [
    "We see some improvements in Training Accuracy, however the Validation Acc struggles. We should try to implement some regularizations."
   ]
  },
  {
   "cell_type": "code",
   "execution_count": 22,
   "metadata": {},
   "outputs": [
    {
     "name": "stdout",
     "output_type": "stream",
     "text": [
      "Model: \"sequential_5\"\n",
      "_________________________________________________________________\n",
      " Layer (type)                Output Shape              Param #   \n",
      "=================================================================\n",
      " conv2d_13 (Conv2D)          (None, 224, 224, 16)      448       \n",
      "                                                                 \n",
      " batch_normalization (Batch  (None, 224, 224, 16)      64        \n",
      " Normalization)                                                  \n",
      "                                                                 \n",
      " max_pooling2d_12 (MaxPooli  (None, 112, 112, 16)      0         \n",
      " ng2D)                                                           \n",
      "                                                                 \n",
      " conv2d_14 (Conv2D)          (None, 112, 112, 32)      4640      \n",
      "                                                                 \n",
      " batch_normalization_1 (Bat  (None, 112, 112, 32)      128       \n",
      " chNormalization)                                                \n",
      "                                                                 \n",
      " max_pooling2d_13 (MaxPooli  (None, 56, 56, 32)        0         \n",
      " ng2D)                                                           \n",
      "                                                                 \n",
      " conv2d_15 (Conv2D)          (None, 56, 56, 64)        18496     \n",
      "                                                                 \n",
      " batch_normalization_2 (Bat  (None, 56, 56, 64)        256       \n",
      " chNormalization)                                                \n",
      "                                                                 \n",
      " max_pooling2d_14 (MaxPooli  (None, 28, 28, 64)        0         \n",
      " ng2D)                                                           \n",
      "                                                                 \n",
      " flatten_4 (Flatten)         (None, 50176)             0         \n",
      "                                                                 \n",
      " dense_8 (Dense)             (None, 128)               6422656   \n",
      "                                                                 \n",
      " dropout (Dropout)           (None, 128)               0         \n",
      "                                                                 \n",
      " dense_9 (Dense)             (None, 5)                 645       \n",
      "                                                                 \n",
      "=================================================================\n",
      "Total params: 6447333 (24.59 MB)\n",
      "Trainable params: 6447109 (24.59 MB)\n",
      "Non-trainable params: 224 (896.00 Byte)\n",
      "_________________________________________________________________\n"
     ]
    }
   ],
   "source": [
    "from tensorflow.keras.layers import BatchNormalization, Dropout\n",
    "\n",
    "def get_model2(img_size=[224,224],\n",
    "              num_classes=5,\n",
    "              num_filters=[16, 32, 64],\n",
    "              pooling_sizes=[2, 2, 2],\n",
    "              activations=['relu', 'relu', 'relu'],\n",
    "              dense_units=[128],\n",
    "              dense_activations=['relu'],\n",
    "              optimizer='adam',\n",
    "              loss='categorical_crossentropy'):\n",
    "\n",
    "    model = Sequential()\n",
    "\n",
    "    for filters, pooling_size, activation in zip(num_filters, pooling_sizes, activations):\n",
    "        model.add(Conv2D(filters, 3, padding='same', activation=activation, input_shape=(img_size[0], img_size[1], 3)))\n",
    "        model.add(BatchNormalization()) # Add batch normalization\n",
    "        model.add(MaxPooling2D(pool_size=pooling_size))\n",
    "\n",
    "    model.add(Flatten())\n",
    "\n",
    "    for units, activation in zip(dense_units, dense_activations):\n",
    "        model.add(Dense(units, activation=activation))\n",
    "    \n",
    "    model.add(Dropout(0.5)) # Add dropout\n",
    "\n",
    "    model.add(Dense(num_classes, activation='softmax'))\n",
    "\n",
    "    model.compile(optimizer=optimizer, loss=loss, metrics=['accuracy'])\n",
    "\n",
    "    return model\n",
    "\n",
    "model = get_model2()\n",
    "model.summary()\n",
    "\n",
    "# TODO from_logits=True on loss ?\n"
   ]
  },
  {
   "cell_type": "code",
   "execution_count": 23,
   "metadata": {},
   "outputs": [
    {
     "data": {
      "application/vnd.jupyter.widget-view+json": {
       "model_id": "b18c10cf5610452b8d7a75a36cfc7042",
       "version_major": 2,
       "version_minor": 0
      },
      "text/plain": [
       "0epoch [00:00, ?epoch/s]"
      ]
     },
     "metadata": {},
     "output_type": "display_data"
    },
    {
     "data": {
      "application/vnd.jupyter.widget-view+json": {
       "model_id": "5b508664670045f9b61c8017d945f5aa",
       "version_major": 2,
       "version_minor": 0
      },
      "text/plain": [
       "0batch [00:00, ?batch/s]"
      ]
     },
     "metadata": {},
     "output_type": "display_data"
    },
    {
     "name": "stdout",
     "output_type": "stream",
     "text": [
      "Epoch 1/10\n",
      "27/27 [==============================] - 114s 4s/step - loss: 4.4589 - accuracy: 0.3353 - val_loss: 5.3133 - val_accuracy: 0.3034\n",
      "Epoch 2/10\n",
      "27/27 [==============================] - 102s 4s/step - loss: 1.5266 - accuracy: 0.3633 - val_loss: 13.9885 - val_accuracy: 0.2857\n",
      "Epoch 3/10\n",
      "27/27 [==============================] - 99s 4s/step - loss: 1.4117 - accuracy: 0.3770 - val_loss: 21.4940 - val_accuracy: 0.2082\n",
      "Epoch 4/10\n",
      "27/27 [==============================] - 95s 4s/step - loss: 1.3447 - accuracy: 0.4192 - val_loss: 20.8965 - val_accuracy: 0.2816\n",
      "Epoch 5/10\n",
      "27/27 [==============================] - 95s 4s/step - loss: 1.3111 - accuracy: 0.4354 - val_loss: 20.0957 - val_accuracy: 0.2857\n",
      "Epoch 6/10\n",
      "27/27 [==============================] - 96s 4s/step - loss: 1.2686 - accuracy: 0.4282 - val_loss: 16.8653 - val_accuracy: 0.3129\n",
      "Epoch 7/10\n",
      "27/27 [==============================] - 97s 4s/step - loss: 1.2394 - accuracy: 0.4488 - val_loss: 10.8291 - val_accuracy: 0.3102\n",
      "Epoch 8/10\n",
      "27/27 [==============================] - 95s 4s/step - loss: 1.2293 - accuracy: 0.4302 - val_loss: 8.8345 - val_accuracy: 0.3143\n",
      "Epoch 9/10\n",
      "27/27 [==============================] - 93s 3s/step - loss: 1.1863 - accuracy: 0.4450 - val_loss: 4.7136 - val_accuracy: 0.2993\n",
      "Epoch 10/10\n",
      "27/27 [==============================] - 94s 3s/step - loss: 1.1393 - accuracy: 0.4713 - val_loss: 2.8783 - val_accuracy: 0.3279\n"
     ]
    },
    {
     "data": {
      "application/vnd.jupyter.widget-view+json": {
       "model_id": "8ca7d52666bb4ba18cfeb06418482101",
       "version_major": 2,
       "version_minor": 0
      },
      "text/plain": [
       "0epoch [00:00, ?epoch/s]"
      ]
     },
     "metadata": {},
     "output_type": "display_data"
    },
    {
     "data": {
      "application/vnd.jupyter.widget-view+json": {
       "model_id": "e5659c52791d46ebb832bf5cf5e7f052",
       "version_major": 2,
       "version_minor": 0
      },
      "text/plain": [
       "0batch [00:00, ?batch/s]"
      ]
     },
     "metadata": {},
     "output_type": "display_data"
    },
    {
     "name": "stdout",
     "output_type": "stream",
     "text": [
      "Epoch 1/10\n",
      "27/27 [==============================] - 97s 4s/step - loss: 1.6514 - accuracy: 0.4123 - val_loss: 1.5655 - val_accuracy: 0.3660\n",
      "Epoch 2/10\n",
      "27/27 [==============================] - 98s 4s/step - loss: 1.1167 - accuracy: 0.5426 - val_loss: 1.7875 - val_accuracy: 0.2653\n",
      "Epoch 3/10\n",
      "27/27 [==============================] - 94s 3s/step - loss: 0.9675 - accuracy: 0.6135 - val_loss: 2.3144 - val_accuracy: 0.2490\n",
      "Epoch 4/10\n",
      "27/27 [==============================] - 101s 4s/step - loss: 0.8478 - accuracy: 0.6618 - val_loss: 2.3538 - val_accuracy: 0.2490\n",
      "Epoch 5/10\n",
      "27/27 [==============================] - 93s 3s/step - loss: 0.7435 - accuracy: 0.7119 - val_loss: 2.6443 - val_accuracy: 0.2490\n",
      "Epoch 6/10\n",
      "27/27 [==============================] - 93s 3s/step - loss: 0.6331 - accuracy: 0.7559 - val_loss: 2.9102 - val_accuracy: 0.2612\n",
      "Epoch 7/10\n",
      "27/27 [==============================] - 98s 4s/step - loss: 0.5588 - accuracy: 0.7779 - val_loss: 2.5484 - val_accuracy: 0.2871\n",
      "Epoch 8/10\n",
      "27/27 [==============================] - 97s 4s/step - loss: 0.4692 - accuracy: 0.8306 - val_loss: 2.3582 - val_accuracy: 0.3333\n",
      "Epoch 9/10\n",
      "27/27 [==============================] - 94s 4s/step - loss: 0.4028 - accuracy: 0.8570 - val_loss: 2.1559 - val_accuracy: 0.3524\n",
      "Epoch 10/10\n",
      "27/27 [==============================] - 95s 4s/step - loss: 0.3415 - accuracy: 0.8816 - val_loss: 1.9062 - val_accuracy: 0.3973\n"
     ]
    }
   ],
   "source": [
    "adam10_regularized = train(get_model2(), epochs=10)\n",
    "sgd10_regularized = train(get_model2(optimizer='sgd'), epochs=10)"
   ]
  },
  {
   "cell_type": "code",
   "execution_count": 24,
   "metadata": {},
   "outputs": [
    {
     "data": {
      "application/vnd.plotly.v1+json": {
       "config": {
        "plotlyServerURL": "https://plot.ly"
       },
       "data": [
        {
         "mode": "lines",
         "name": "Adam Optimizer Training Accuracy",
         "type": "scatter",
         "x": [
          1,
          2,
          3,
          4,
          5,
          6,
          7,
          8,
          9,
          10
         ],
         "y": [
          0.3352634608745575,
          0.3633468449115753,
          0.37695425748825073,
          0.4192240834236145,
          0.4354371726512909,
          0.4281992018222809,
          0.44875505566596985,
          0.43022581934928894,
          0.4449913203716278,
          0.47133758664131165
         ]
        },
        {
         "mode": "lines",
         "name": "Adam Optimizer Validation Accuracy",
         "type": "scatter",
         "x": [
          1,
          2,
          3,
          4,
          5,
          6,
          7,
          8,
          9,
          10
         ],
         "y": [
          0.3034013509750366,
          0.2857142984867096,
          0.20816326141357422,
          0.281632661819458,
          0.2857142984867096,
          0.31292515993118286,
          0.31020408868789673,
          0.3142857253551483,
          0.29931971430778503,
          0.32789117097854614
         ]
        },
        {
         "mode": "lines",
         "name": "SGD Optimizer Training Accuracy",
         "type": "scatter",
         "x": [
          1,
          2,
          3,
          4,
          5,
          6,
          7,
          8,
          9,
          10
         ],
         "y": [
          0.41227561235427856,
          0.5425593256950378,
          0.6134915947914124,
          0.6618413329124451,
          0.7119281888008118,
          0.7559351325035095,
          0.7779386043548584,
          0.8306311368942261,
          0.8569774031639099,
          0.8815865516662598
         ]
        },
        {
         "mode": "lines",
         "name": "SGD Optimizer Validation Accuracy",
         "type": "scatter",
         "x": [
          1,
          2,
          3,
          4,
          5,
          6,
          7,
          8,
          9,
          10
         ],
         "y": [
          0.3659864068031311,
          0.26530611515045166,
          0.2489795982837677,
          0.2489795982837677,
          0.2489795982837677,
          0.2612244784832001,
          0.28707483410835266,
          0.3333333432674408,
          0.3523809611797333,
          0.39727890491485596
         ]
        }
       ],
       "layout": {
        "template": {
         "data": {
          "bar": [
           {
            "error_x": {
             "color": "#2a3f5f"
            },
            "error_y": {
             "color": "#2a3f5f"
            },
            "marker": {
             "line": {
              "color": "#E5ECF6",
              "width": 0.5
             },
             "pattern": {
              "fillmode": "overlay",
              "size": 10,
              "solidity": 0.2
             }
            },
            "type": "bar"
           }
          ],
          "barpolar": [
           {
            "marker": {
             "line": {
              "color": "#E5ECF6",
              "width": 0.5
             },
             "pattern": {
              "fillmode": "overlay",
              "size": 10,
              "solidity": 0.2
             }
            },
            "type": "barpolar"
           }
          ],
          "carpet": [
           {
            "aaxis": {
             "endlinecolor": "#2a3f5f",
             "gridcolor": "white",
             "linecolor": "white",
             "minorgridcolor": "white",
             "startlinecolor": "#2a3f5f"
            },
            "baxis": {
             "endlinecolor": "#2a3f5f",
             "gridcolor": "white",
             "linecolor": "white",
             "minorgridcolor": "white",
             "startlinecolor": "#2a3f5f"
            },
            "type": "carpet"
           }
          ],
          "choropleth": [
           {
            "colorbar": {
             "outlinewidth": 0,
             "ticks": ""
            },
            "type": "choropleth"
           }
          ],
          "contour": [
           {
            "colorbar": {
             "outlinewidth": 0,
             "ticks": ""
            },
            "colorscale": [
             [
              0,
              "#0d0887"
             ],
             [
              0.1111111111111111,
              "#46039f"
             ],
             [
              0.2222222222222222,
              "#7201a8"
             ],
             [
              0.3333333333333333,
              "#9c179e"
             ],
             [
              0.4444444444444444,
              "#bd3786"
             ],
             [
              0.5555555555555556,
              "#d8576b"
             ],
             [
              0.6666666666666666,
              "#ed7953"
             ],
             [
              0.7777777777777778,
              "#fb9f3a"
             ],
             [
              0.8888888888888888,
              "#fdca26"
             ],
             [
              1,
              "#f0f921"
             ]
            ],
            "type": "contour"
           }
          ],
          "contourcarpet": [
           {
            "colorbar": {
             "outlinewidth": 0,
             "ticks": ""
            },
            "type": "contourcarpet"
           }
          ],
          "heatmap": [
           {
            "colorbar": {
             "outlinewidth": 0,
             "ticks": ""
            },
            "colorscale": [
             [
              0,
              "#0d0887"
             ],
             [
              0.1111111111111111,
              "#46039f"
             ],
             [
              0.2222222222222222,
              "#7201a8"
             ],
             [
              0.3333333333333333,
              "#9c179e"
             ],
             [
              0.4444444444444444,
              "#bd3786"
             ],
             [
              0.5555555555555556,
              "#d8576b"
             ],
             [
              0.6666666666666666,
              "#ed7953"
             ],
             [
              0.7777777777777778,
              "#fb9f3a"
             ],
             [
              0.8888888888888888,
              "#fdca26"
             ],
             [
              1,
              "#f0f921"
             ]
            ],
            "type": "heatmap"
           }
          ],
          "heatmapgl": [
           {
            "colorbar": {
             "outlinewidth": 0,
             "ticks": ""
            },
            "colorscale": [
             [
              0,
              "#0d0887"
             ],
             [
              0.1111111111111111,
              "#46039f"
             ],
             [
              0.2222222222222222,
              "#7201a8"
             ],
             [
              0.3333333333333333,
              "#9c179e"
             ],
             [
              0.4444444444444444,
              "#bd3786"
             ],
             [
              0.5555555555555556,
              "#d8576b"
             ],
             [
              0.6666666666666666,
              "#ed7953"
             ],
             [
              0.7777777777777778,
              "#fb9f3a"
             ],
             [
              0.8888888888888888,
              "#fdca26"
             ],
             [
              1,
              "#f0f921"
             ]
            ],
            "type": "heatmapgl"
           }
          ],
          "histogram": [
           {
            "marker": {
             "pattern": {
              "fillmode": "overlay",
              "size": 10,
              "solidity": 0.2
             }
            },
            "type": "histogram"
           }
          ],
          "histogram2d": [
           {
            "colorbar": {
             "outlinewidth": 0,
             "ticks": ""
            },
            "colorscale": [
             [
              0,
              "#0d0887"
             ],
             [
              0.1111111111111111,
              "#46039f"
             ],
             [
              0.2222222222222222,
              "#7201a8"
             ],
             [
              0.3333333333333333,
              "#9c179e"
             ],
             [
              0.4444444444444444,
              "#bd3786"
             ],
             [
              0.5555555555555556,
              "#d8576b"
             ],
             [
              0.6666666666666666,
              "#ed7953"
             ],
             [
              0.7777777777777778,
              "#fb9f3a"
             ],
             [
              0.8888888888888888,
              "#fdca26"
             ],
             [
              1,
              "#f0f921"
             ]
            ],
            "type": "histogram2d"
           }
          ],
          "histogram2dcontour": [
           {
            "colorbar": {
             "outlinewidth": 0,
             "ticks": ""
            },
            "colorscale": [
             [
              0,
              "#0d0887"
             ],
             [
              0.1111111111111111,
              "#46039f"
             ],
             [
              0.2222222222222222,
              "#7201a8"
             ],
             [
              0.3333333333333333,
              "#9c179e"
             ],
             [
              0.4444444444444444,
              "#bd3786"
             ],
             [
              0.5555555555555556,
              "#d8576b"
             ],
             [
              0.6666666666666666,
              "#ed7953"
             ],
             [
              0.7777777777777778,
              "#fb9f3a"
             ],
             [
              0.8888888888888888,
              "#fdca26"
             ],
             [
              1,
              "#f0f921"
             ]
            ],
            "type": "histogram2dcontour"
           }
          ],
          "mesh3d": [
           {
            "colorbar": {
             "outlinewidth": 0,
             "ticks": ""
            },
            "type": "mesh3d"
           }
          ],
          "parcoords": [
           {
            "line": {
             "colorbar": {
              "outlinewidth": 0,
              "ticks": ""
             }
            },
            "type": "parcoords"
           }
          ],
          "pie": [
           {
            "automargin": true,
            "type": "pie"
           }
          ],
          "scatter": [
           {
            "fillpattern": {
             "fillmode": "overlay",
             "size": 10,
             "solidity": 0.2
            },
            "type": "scatter"
           }
          ],
          "scatter3d": [
           {
            "line": {
             "colorbar": {
              "outlinewidth": 0,
              "ticks": ""
             }
            },
            "marker": {
             "colorbar": {
              "outlinewidth": 0,
              "ticks": ""
             }
            },
            "type": "scatter3d"
           }
          ],
          "scattercarpet": [
           {
            "marker": {
             "colorbar": {
              "outlinewidth": 0,
              "ticks": ""
             }
            },
            "type": "scattercarpet"
           }
          ],
          "scattergeo": [
           {
            "marker": {
             "colorbar": {
              "outlinewidth": 0,
              "ticks": ""
             }
            },
            "type": "scattergeo"
           }
          ],
          "scattergl": [
           {
            "marker": {
             "colorbar": {
              "outlinewidth": 0,
              "ticks": ""
             }
            },
            "type": "scattergl"
           }
          ],
          "scattermapbox": [
           {
            "marker": {
             "colorbar": {
              "outlinewidth": 0,
              "ticks": ""
             }
            },
            "type": "scattermapbox"
           }
          ],
          "scatterpolar": [
           {
            "marker": {
             "colorbar": {
              "outlinewidth": 0,
              "ticks": ""
             }
            },
            "type": "scatterpolar"
           }
          ],
          "scatterpolargl": [
           {
            "marker": {
             "colorbar": {
              "outlinewidth": 0,
              "ticks": ""
             }
            },
            "type": "scatterpolargl"
           }
          ],
          "scatterternary": [
           {
            "marker": {
             "colorbar": {
              "outlinewidth": 0,
              "ticks": ""
             }
            },
            "type": "scatterternary"
           }
          ],
          "surface": [
           {
            "colorbar": {
             "outlinewidth": 0,
             "ticks": ""
            },
            "colorscale": [
             [
              0,
              "#0d0887"
             ],
             [
              0.1111111111111111,
              "#46039f"
             ],
             [
              0.2222222222222222,
              "#7201a8"
             ],
             [
              0.3333333333333333,
              "#9c179e"
             ],
             [
              0.4444444444444444,
              "#bd3786"
             ],
             [
              0.5555555555555556,
              "#d8576b"
             ],
             [
              0.6666666666666666,
              "#ed7953"
             ],
             [
              0.7777777777777778,
              "#fb9f3a"
             ],
             [
              0.8888888888888888,
              "#fdca26"
             ],
             [
              1,
              "#f0f921"
             ]
            ],
            "type": "surface"
           }
          ],
          "table": [
           {
            "cells": {
             "fill": {
              "color": "#EBF0F8"
             },
             "line": {
              "color": "white"
             }
            },
            "header": {
             "fill": {
              "color": "#C8D4E3"
             },
             "line": {
              "color": "white"
             }
            },
            "type": "table"
           }
          ]
         },
         "layout": {
          "annotationdefaults": {
           "arrowcolor": "#2a3f5f",
           "arrowhead": 0,
           "arrowwidth": 1
          },
          "autotypenumbers": "strict",
          "coloraxis": {
           "colorbar": {
            "outlinewidth": 0,
            "ticks": ""
           }
          },
          "colorscale": {
           "diverging": [
            [
             0,
             "#8e0152"
            ],
            [
             0.1,
             "#c51b7d"
            ],
            [
             0.2,
             "#de77ae"
            ],
            [
             0.3,
             "#f1b6da"
            ],
            [
             0.4,
             "#fde0ef"
            ],
            [
             0.5,
             "#f7f7f7"
            ],
            [
             0.6,
             "#e6f5d0"
            ],
            [
             0.7,
             "#b8e186"
            ],
            [
             0.8,
             "#7fbc41"
            ],
            [
             0.9,
             "#4d9221"
            ],
            [
             1,
             "#276419"
            ]
           ],
           "sequential": [
            [
             0,
             "#0d0887"
            ],
            [
             0.1111111111111111,
             "#46039f"
            ],
            [
             0.2222222222222222,
             "#7201a8"
            ],
            [
             0.3333333333333333,
             "#9c179e"
            ],
            [
             0.4444444444444444,
             "#bd3786"
            ],
            [
             0.5555555555555556,
             "#d8576b"
            ],
            [
             0.6666666666666666,
             "#ed7953"
            ],
            [
             0.7777777777777778,
             "#fb9f3a"
            ],
            [
             0.8888888888888888,
             "#fdca26"
            ],
            [
             1,
             "#f0f921"
            ]
           ],
           "sequentialminus": [
            [
             0,
             "#0d0887"
            ],
            [
             0.1111111111111111,
             "#46039f"
            ],
            [
             0.2222222222222222,
             "#7201a8"
            ],
            [
             0.3333333333333333,
             "#9c179e"
            ],
            [
             0.4444444444444444,
             "#bd3786"
            ],
            [
             0.5555555555555556,
             "#d8576b"
            ],
            [
             0.6666666666666666,
             "#ed7953"
            ],
            [
             0.7777777777777778,
             "#fb9f3a"
            ],
            [
             0.8888888888888888,
             "#fdca26"
            ],
            [
             1,
             "#f0f921"
            ]
           ]
          },
          "colorway": [
           "#636efa",
           "#EF553B",
           "#00cc96",
           "#ab63fa",
           "#FFA15A",
           "#19d3f3",
           "#FF6692",
           "#B6E880",
           "#FF97FF",
           "#FECB52"
          ],
          "font": {
           "color": "#2a3f5f"
          },
          "geo": {
           "bgcolor": "white",
           "lakecolor": "white",
           "landcolor": "#E5ECF6",
           "showlakes": true,
           "showland": true,
           "subunitcolor": "white"
          },
          "hoverlabel": {
           "align": "left"
          },
          "hovermode": "closest",
          "mapbox": {
           "style": "light"
          },
          "paper_bgcolor": "white",
          "plot_bgcolor": "#E5ECF6",
          "polar": {
           "angularaxis": {
            "gridcolor": "white",
            "linecolor": "white",
            "ticks": ""
           },
           "bgcolor": "#E5ECF6",
           "radialaxis": {
            "gridcolor": "white",
            "linecolor": "white",
            "ticks": ""
           }
          },
          "scene": {
           "xaxis": {
            "backgroundcolor": "#E5ECF6",
            "gridcolor": "white",
            "gridwidth": 2,
            "linecolor": "white",
            "showbackground": true,
            "ticks": "",
            "zerolinecolor": "white"
           },
           "yaxis": {
            "backgroundcolor": "#E5ECF6",
            "gridcolor": "white",
            "gridwidth": 2,
            "linecolor": "white",
            "showbackground": true,
            "ticks": "",
            "zerolinecolor": "white"
           },
           "zaxis": {
            "backgroundcolor": "#E5ECF6",
            "gridcolor": "white",
            "gridwidth": 2,
            "linecolor": "white",
            "showbackground": true,
            "ticks": "",
            "zerolinecolor": "white"
           }
          },
          "shapedefaults": {
           "line": {
            "color": "#2a3f5f"
           }
          },
          "ternary": {
           "aaxis": {
            "gridcolor": "white",
            "linecolor": "white",
            "ticks": ""
           },
           "baxis": {
            "gridcolor": "white",
            "linecolor": "white",
            "ticks": ""
           },
           "bgcolor": "#E5ECF6",
           "caxis": {
            "gridcolor": "white",
            "linecolor": "white",
            "ticks": ""
           }
          },
          "title": {
           "x": 0.05
          },
          "xaxis": {
           "automargin": true,
           "gridcolor": "white",
           "linecolor": "white",
           "ticks": "",
           "title": {
            "standoff": 15
           },
           "zerolinecolor": "white",
           "zerolinewidth": 2
          },
          "yaxis": {
           "automargin": true,
           "gridcolor": "white",
           "linecolor": "white",
           "ticks": "",
           "title": {
            "standoff": 15
           },
           "zerolinecolor": "white",
           "zerolinewidth": 2
          }
         }
        },
        "title": {
         "text": "Train & Val Accuracy Comparison (Batch Size=128) w/ Dropout and BatchNorm"
        },
        "xaxis": {
         "title": {
          "text": "Epochs"
         }
        },
        "yaxis": {
         "title": {
          "text": "Accuracy"
         }
        }
       }
      }
     },
     "metadata": {},
     "output_type": "display_data"
    }
   ],
   "source": [
    "plot_training(adam10_regularized, sgd10_regularized, title='Train & Val Accuracy Comparison (Batch Size=128) w/ Dropout and BatchNorm', names=['Adam Optimizer', 'SGD Optimizer'])"
   ]
  },
  {
   "cell_type": "markdown",
   "metadata": {},
   "source": [
    "That did not show any improvements. Worse accuracy and overfitting. Let's try a much smaller batch.\n",
    "\n",
    "If this doesn't work - reduce regularizations and run again on whicever batch size gave best results."
   ]
  },
  {
   "cell_type": "code",
   "execution_count": 25,
   "metadata": {},
   "outputs": [
    {
     "name": "stdout",
     "output_type": "stream",
     "text": [
      "Creating dataset with batch size: 16\n",
      "Found 4317 files belonging to 5 classes.\n",
      "Using 3454 files for training.\n",
      "Found 4317 files belonging to 5 classes.\n",
      "Using 863 files for validation.\n",
      "Moving 9 batch(es) from validation to test.\n",
      "Using 144 files (14.29%) for test.\n",
      "\n",
      "Labels successfully encoded.\n"
     ]
    }
   ],
   "source": [
    "small_train_ds, small_val_ds, small_test_ds, class_names = create_dataset(shuffle=True, random_seed=3, batch_size=16)"
   ]
  },
  {
   "cell_type": "code",
   "execution_count": 26,
   "metadata": {},
   "outputs": [],
   "source": [
    "small_train_ds_normalized = small_train_ds.map(normalize_image)\n",
    "small_val_ds_normalized = small_val_ds.map(normalize_image)\n",
    "small_test_ds_normalized = small_test_ds.map(normalize_image)"
   ]
  },
  {
   "cell_type": "code",
   "execution_count": 30,
   "metadata": {},
   "outputs": [],
   "source": [
    "def train2(model, epochs=10):\n",
    "    tqdm_callback = TqdmCallback()\n",
    "\n",
    "    history = model.fit(\n",
    "      small_train_ds_normalized,\n",
    "      validation_data=small_val_ds_normalized,\n",
    "      epochs=epochs,\n",
    "      callbacks=[tqdm_callback]\n",
    "    )\n",
    "\n",
    "    return history # todo update train function instead of copy (just make train_ds input arg)"
   ]
  },
  {
   "cell_type": "code",
   "execution_count": 31,
   "metadata": {},
   "outputs": [
    {
     "data": {
      "application/vnd.jupyter.widget-view+json": {
       "model_id": "a58860c6efbd405f853edd4fedc0758b",
       "version_major": 2,
       "version_minor": 0
      },
      "text/plain": [
       "0epoch [00:00, ?epoch/s]"
      ]
     },
     "metadata": {},
     "output_type": "display_data"
    },
    {
     "data": {
      "application/vnd.jupyter.widget-view+json": {
       "model_id": "c2e29b0557094e259c1d6c93ae72c574",
       "version_major": 2,
       "version_minor": 0
      },
      "text/plain": [
       "0batch [00:00, ?batch/s]"
      ]
     },
     "metadata": {},
     "output_type": "display_data"
    },
    {
     "name": "stdout",
     "output_type": "stream",
     "text": [
      "Epoch 1/10\n",
      "216/216 [==============================] - 116s 525ms/step - loss: 4.1461 - accuracy: 0.3069 - val_loss: 5.5330 - val_accuracy: 0.2698\n",
      "Epoch 2/10\n",
      "216/216 [==============================] - 117s 541ms/step - loss: 1.5693 - accuracy: 0.3260 - val_loss: 1.5876 - val_accuracy: 0.3561\n",
      "Epoch 3/10\n",
      "216/216 [==============================] - 104s 480ms/step - loss: 1.4846 - accuracy: 0.3408 - val_loss: 1.4107 - val_accuracy: 0.3366\n",
      "Epoch 4/10\n",
      "216/216 [==============================] - 112s 515ms/step - loss: 1.4823 - accuracy: 0.3234 - val_loss: 1.4544 - val_accuracy: 0.3115\n",
      "Epoch 5/10\n",
      "216/216 [==============================] - 121s 560ms/step - loss: 1.3968 - accuracy: 0.3564 - val_loss: 1.3143 - val_accuracy: 0.4033\n",
      "Epoch 6/10\n",
      "216/216 [==============================] - 117s 539ms/step - loss: 1.3855 - accuracy: 0.3636 - val_loss: 1.2345 - val_accuracy: 0.4284\n",
      "Epoch 7/10\n",
      "216/216 [==============================] - 108s 501ms/step - loss: 1.3607 - accuracy: 0.3636 - val_loss: 1.6309 - val_accuracy: 0.4089\n",
      "Epoch 8/10\n",
      "216/216 [==============================] - 107s 494ms/step - loss: 1.3725 - accuracy: 0.3457 - val_loss: 1.4632 - val_accuracy: 0.3964\n",
      "Epoch 9/10\n",
      "216/216 [==============================] - 113s 524ms/step - loss: 1.3367 - accuracy: 0.3787 - val_loss: 1.1876 - val_accuracy: 0.4478\n",
      "Epoch 10/10\n",
      "216/216 [==============================] - 111s 513ms/step - loss: 1.3058 - accuracy: 0.3770 - val_loss: 1.1862 - val_accuracy: 0.4339\n"
     ]
    },
    {
     "data": {
      "application/vnd.jupyter.widget-view+json": {
       "model_id": "5134320dbfac4e50a69379683accc391",
       "version_major": 2,
       "version_minor": 0
      },
      "text/plain": [
       "0epoch [00:00, ?epoch/s]"
      ]
     },
     "metadata": {},
     "output_type": "display_data"
    },
    {
     "data": {
      "application/vnd.jupyter.widget-view+json": {
       "model_id": "75040cee599741d7a433a6f3b912873d",
       "version_major": 2,
       "version_minor": 0
      },
      "text/plain": [
       "0batch [00:00, ?batch/s]"
      ]
     },
     "metadata": {},
     "output_type": "display_data"
    },
    {
     "name": "stdout",
     "output_type": "stream",
     "text": [
      "Epoch 1/10\n",
      "216/216 [==============================] - 100s 455ms/step - loss: 1.9875 - accuracy: 0.3825 - val_loss: 1.9446 - val_accuracy: 0.3797\n",
      "Epoch 2/10\n",
      "216/216 [==============================] - 94s 435ms/step - loss: 1.2869 - accuracy: 0.4673 - val_loss: 1.5237 - val_accuracy: 0.4854\n",
      "Epoch 3/10\n",
      "216/216 [==============================] - 99s 457ms/step - loss: 1.1726 - accuracy: 0.5226 - val_loss: 1.2054 - val_accuracy: 0.5396\n",
      "Epoch 4/10\n",
      "216/216 [==============================] - 102s 473ms/step - loss: 1.0875 - accuracy: 0.5550 - val_loss: 1.1190 - val_accuracy: 0.5522\n",
      "Epoch 5/10\n",
      "216/216 [==============================] - 94s 434ms/step - loss: 0.9915 - accuracy: 0.6123 - val_loss: 1.3181 - val_accuracy: 0.5216\n",
      "Epoch 6/10\n",
      "216/216 [==============================] - 102s 471ms/step - loss: 0.8668 - accuracy: 0.6459 - val_loss: 1.1109 - val_accuracy: 0.5438\n",
      "Epoch 7/10\n",
      "216/216 [==============================] - 98s 452ms/step - loss: 0.7817 - accuracy: 0.6911 - val_loss: 1.1624 - val_accuracy: 0.5605\n",
      "Epoch 8/10\n",
      "216/216 [==============================] - 100s 463ms/step - loss: 0.7015 - accuracy: 0.7261 - val_loss: 1.1723 - val_accuracy: 0.5925\n",
      "Epoch 9/10\n",
      "216/216 [==============================] - 100s 463ms/step - loss: 0.6370 - accuracy: 0.7510 - val_loss: 1.3447 - val_accuracy: 0.5647\n",
      "Epoch 10/10\n",
      "216/216 [==============================] - 105s 484ms/step - loss: 0.5662 - accuracy: 0.7742 - val_loss: 1.1940 - val_accuracy: 0.6036\n"
     ]
    }
   ],
   "source": [
    "adam10_regularized = train2(get_model2(), epochs=10)\n",
    "sgd10_regularized = train2(get_model2(optimizer='sgd'), epochs=10)"
   ]
  },
  {
   "cell_type": "code",
   "execution_count": 32,
   "metadata": {},
   "outputs": [
    {
     "data": {
      "application/vnd.plotly.v1+json": {
       "config": {
        "plotlyServerURL": "https://plot.ly"
       },
       "data": [
        {
         "mode": "lines",
         "name": "Adam Optimizer Training Accuracy",
         "type": "scatter",
         "x": [
          1,
          2,
          3,
          4,
          5,
          6,
          7,
          8,
          9,
          10
         ],
         "y": [
          0.3068905472755432,
          0.32599884271621704,
          0.3407643437385559,
          0.32339316606521606,
          0.3563983738422394,
          0.3636363744735718,
          0.3636363744735718,
          0.3456861674785614,
          0.3786913752555847,
          0.37695425748825073
         ]
        },
        {
         "mode": "lines",
         "name": "Adam Optimizer Validation Accuracy",
         "type": "scatter",
         "x": [
          1,
          2,
          3,
          4,
          5,
          6,
          7,
          8,
          9,
          10
         ],
         "y": [
          0.2698192000389099,
          0.3560500741004944,
          0.3365785777568817,
          0.3115438222885132,
          0.4033379554748535,
          0.42837274074554443,
          0.40890124440193176,
          0.3963838517665863,
          0.4478442370891571,
          0.4339360296726227
         ]
        },
        {
         "mode": "lines",
         "name": "SGD Optimizer Training Accuracy",
         "type": "scatter",
         "x": [
          1,
          2,
          3,
          4,
          5,
          6,
          7,
          8,
          9,
          10
         ],
         "y": [
          0.38245511054992676,
          0.46728432178497314,
          0.5225825309753418,
          0.5550087094306946,
          0.6123335361480713,
          0.6459177732467651,
          0.691082775592804,
          0.7261146306991577,
          0.7510133385658264,
          0.7741748690605164
         ]
        },
        {
         "mode": "lines",
         "name": "SGD Optimizer Validation Accuracy",
         "type": "scatter",
         "x": [
          1,
          2,
          3,
          4,
          5,
          6,
          7,
          8,
          9,
          10
         ],
         "y": [
          0.37969401478767395,
          0.4853963851928711,
          0.5396384000778198,
          0.5521557927131653,
          0.5215577483177185,
          0.5438108444213867,
          0.5605006814002991,
          0.5924895405769348,
          0.5646731853485107,
          0.6036161184310913
         ]
        }
       ],
       "layout": {
        "template": {
         "data": {
          "bar": [
           {
            "error_x": {
             "color": "#2a3f5f"
            },
            "error_y": {
             "color": "#2a3f5f"
            },
            "marker": {
             "line": {
              "color": "#E5ECF6",
              "width": 0.5
             },
             "pattern": {
              "fillmode": "overlay",
              "size": 10,
              "solidity": 0.2
             }
            },
            "type": "bar"
           }
          ],
          "barpolar": [
           {
            "marker": {
             "line": {
              "color": "#E5ECF6",
              "width": 0.5
             },
             "pattern": {
              "fillmode": "overlay",
              "size": 10,
              "solidity": 0.2
             }
            },
            "type": "barpolar"
           }
          ],
          "carpet": [
           {
            "aaxis": {
             "endlinecolor": "#2a3f5f",
             "gridcolor": "white",
             "linecolor": "white",
             "minorgridcolor": "white",
             "startlinecolor": "#2a3f5f"
            },
            "baxis": {
             "endlinecolor": "#2a3f5f",
             "gridcolor": "white",
             "linecolor": "white",
             "minorgridcolor": "white",
             "startlinecolor": "#2a3f5f"
            },
            "type": "carpet"
           }
          ],
          "choropleth": [
           {
            "colorbar": {
             "outlinewidth": 0,
             "ticks": ""
            },
            "type": "choropleth"
           }
          ],
          "contour": [
           {
            "colorbar": {
             "outlinewidth": 0,
             "ticks": ""
            },
            "colorscale": [
             [
              0,
              "#0d0887"
             ],
             [
              0.1111111111111111,
              "#46039f"
             ],
             [
              0.2222222222222222,
              "#7201a8"
             ],
             [
              0.3333333333333333,
              "#9c179e"
             ],
             [
              0.4444444444444444,
              "#bd3786"
             ],
             [
              0.5555555555555556,
              "#d8576b"
             ],
             [
              0.6666666666666666,
              "#ed7953"
             ],
             [
              0.7777777777777778,
              "#fb9f3a"
             ],
             [
              0.8888888888888888,
              "#fdca26"
             ],
             [
              1,
              "#f0f921"
             ]
            ],
            "type": "contour"
           }
          ],
          "contourcarpet": [
           {
            "colorbar": {
             "outlinewidth": 0,
             "ticks": ""
            },
            "type": "contourcarpet"
           }
          ],
          "heatmap": [
           {
            "colorbar": {
             "outlinewidth": 0,
             "ticks": ""
            },
            "colorscale": [
             [
              0,
              "#0d0887"
             ],
             [
              0.1111111111111111,
              "#46039f"
             ],
             [
              0.2222222222222222,
              "#7201a8"
             ],
             [
              0.3333333333333333,
              "#9c179e"
             ],
             [
              0.4444444444444444,
              "#bd3786"
             ],
             [
              0.5555555555555556,
              "#d8576b"
             ],
             [
              0.6666666666666666,
              "#ed7953"
             ],
             [
              0.7777777777777778,
              "#fb9f3a"
             ],
             [
              0.8888888888888888,
              "#fdca26"
             ],
             [
              1,
              "#f0f921"
             ]
            ],
            "type": "heatmap"
           }
          ],
          "heatmapgl": [
           {
            "colorbar": {
             "outlinewidth": 0,
             "ticks": ""
            },
            "colorscale": [
             [
              0,
              "#0d0887"
             ],
             [
              0.1111111111111111,
              "#46039f"
             ],
             [
              0.2222222222222222,
              "#7201a8"
             ],
             [
              0.3333333333333333,
              "#9c179e"
             ],
             [
              0.4444444444444444,
              "#bd3786"
             ],
             [
              0.5555555555555556,
              "#d8576b"
             ],
             [
              0.6666666666666666,
              "#ed7953"
             ],
             [
              0.7777777777777778,
              "#fb9f3a"
             ],
             [
              0.8888888888888888,
              "#fdca26"
             ],
             [
              1,
              "#f0f921"
             ]
            ],
            "type": "heatmapgl"
           }
          ],
          "histogram": [
           {
            "marker": {
             "pattern": {
              "fillmode": "overlay",
              "size": 10,
              "solidity": 0.2
             }
            },
            "type": "histogram"
           }
          ],
          "histogram2d": [
           {
            "colorbar": {
             "outlinewidth": 0,
             "ticks": ""
            },
            "colorscale": [
             [
              0,
              "#0d0887"
             ],
             [
              0.1111111111111111,
              "#46039f"
             ],
             [
              0.2222222222222222,
              "#7201a8"
             ],
             [
              0.3333333333333333,
              "#9c179e"
             ],
             [
              0.4444444444444444,
              "#bd3786"
             ],
             [
              0.5555555555555556,
              "#d8576b"
             ],
             [
              0.6666666666666666,
              "#ed7953"
             ],
             [
              0.7777777777777778,
              "#fb9f3a"
             ],
             [
              0.8888888888888888,
              "#fdca26"
             ],
             [
              1,
              "#f0f921"
             ]
            ],
            "type": "histogram2d"
           }
          ],
          "histogram2dcontour": [
           {
            "colorbar": {
             "outlinewidth": 0,
             "ticks": ""
            },
            "colorscale": [
             [
              0,
              "#0d0887"
             ],
             [
              0.1111111111111111,
              "#46039f"
             ],
             [
              0.2222222222222222,
              "#7201a8"
             ],
             [
              0.3333333333333333,
              "#9c179e"
             ],
             [
              0.4444444444444444,
              "#bd3786"
             ],
             [
              0.5555555555555556,
              "#d8576b"
             ],
             [
              0.6666666666666666,
              "#ed7953"
             ],
             [
              0.7777777777777778,
              "#fb9f3a"
             ],
             [
              0.8888888888888888,
              "#fdca26"
             ],
             [
              1,
              "#f0f921"
             ]
            ],
            "type": "histogram2dcontour"
           }
          ],
          "mesh3d": [
           {
            "colorbar": {
             "outlinewidth": 0,
             "ticks": ""
            },
            "type": "mesh3d"
           }
          ],
          "parcoords": [
           {
            "line": {
             "colorbar": {
              "outlinewidth": 0,
              "ticks": ""
             }
            },
            "type": "parcoords"
           }
          ],
          "pie": [
           {
            "automargin": true,
            "type": "pie"
           }
          ],
          "scatter": [
           {
            "fillpattern": {
             "fillmode": "overlay",
             "size": 10,
             "solidity": 0.2
            },
            "type": "scatter"
           }
          ],
          "scatter3d": [
           {
            "line": {
             "colorbar": {
              "outlinewidth": 0,
              "ticks": ""
             }
            },
            "marker": {
             "colorbar": {
              "outlinewidth": 0,
              "ticks": ""
             }
            },
            "type": "scatter3d"
           }
          ],
          "scattercarpet": [
           {
            "marker": {
             "colorbar": {
              "outlinewidth": 0,
              "ticks": ""
             }
            },
            "type": "scattercarpet"
           }
          ],
          "scattergeo": [
           {
            "marker": {
             "colorbar": {
              "outlinewidth": 0,
              "ticks": ""
             }
            },
            "type": "scattergeo"
           }
          ],
          "scattergl": [
           {
            "marker": {
             "colorbar": {
              "outlinewidth": 0,
              "ticks": ""
             }
            },
            "type": "scattergl"
           }
          ],
          "scattermapbox": [
           {
            "marker": {
             "colorbar": {
              "outlinewidth": 0,
              "ticks": ""
             }
            },
            "type": "scattermapbox"
           }
          ],
          "scatterpolar": [
           {
            "marker": {
             "colorbar": {
              "outlinewidth": 0,
              "ticks": ""
             }
            },
            "type": "scatterpolar"
           }
          ],
          "scatterpolargl": [
           {
            "marker": {
             "colorbar": {
              "outlinewidth": 0,
              "ticks": ""
             }
            },
            "type": "scatterpolargl"
           }
          ],
          "scatterternary": [
           {
            "marker": {
             "colorbar": {
              "outlinewidth": 0,
              "ticks": ""
             }
            },
            "type": "scatterternary"
           }
          ],
          "surface": [
           {
            "colorbar": {
             "outlinewidth": 0,
             "ticks": ""
            },
            "colorscale": [
             [
              0,
              "#0d0887"
             ],
             [
              0.1111111111111111,
              "#46039f"
             ],
             [
              0.2222222222222222,
              "#7201a8"
             ],
             [
              0.3333333333333333,
              "#9c179e"
             ],
             [
              0.4444444444444444,
              "#bd3786"
             ],
             [
              0.5555555555555556,
              "#d8576b"
             ],
             [
              0.6666666666666666,
              "#ed7953"
             ],
             [
              0.7777777777777778,
              "#fb9f3a"
             ],
             [
              0.8888888888888888,
              "#fdca26"
             ],
             [
              1,
              "#f0f921"
             ]
            ],
            "type": "surface"
           }
          ],
          "table": [
           {
            "cells": {
             "fill": {
              "color": "#EBF0F8"
             },
             "line": {
              "color": "white"
             }
            },
            "header": {
             "fill": {
              "color": "#C8D4E3"
             },
             "line": {
              "color": "white"
             }
            },
            "type": "table"
           }
          ]
         },
         "layout": {
          "annotationdefaults": {
           "arrowcolor": "#2a3f5f",
           "arrowhead": 0,
           "arrowwidth": 1
          },
          "autotypenumbers": "strict",
          "coloraxis": {
           "colorbar": {
            "outlinewidth": 0,
            "ticks": ""
           }
          },
          "colorscale": {
           "diverging": [
            [
             0,
             "#8e0152"
            ],
            [
             0.1,
             "#c51b7d"
            ],
            [
             0.2,
             "#de77ae"
            ],
            [
             0.3,
             "#f1b6da"
            ],
            [
             0.4,
             "#fde0ef"
            ],
            [
             0.5,
             "#f7f7f7"
            ],
            [
             0.6,
             "#e6f5d0"
            ],
            [
             0.7,
             "#b8e186"
            ],
            [
             0.8,
             "#7fbc41"
            ],
            [
             0.9,
             "#4d9221"
            ],
            [
             1,
             "#276419"
            ]
           ],
           "sequential": [
            [
             0,
             "#0d0887"
            ],
            [
             0.1111111111111111,
             "#46039f"
            ],
            [
             0.2222222222222222,
             "#7201a8"
            ],
            [
             0.3333333333333333,
             "#9c179e"
            ],
            [
             0.4444444444444444,
             "#bd3786"
            ],
            [
             0.5555555555555556,
             "#d8576b"
            ],
            [
             0.6666666666666666,
             "#ed7953"
            ],
            [
             0.7777777777777778,
             "#fb9f3a"
            ],
            [
             0.8888888888888888,
             "#fdca26"
            ],
            [
             1,
             "#f0f921"
            ]
           ],
           "sequentialminus": [
            [
             0,
             "#0d0887"
            ],
            [
             0.1111111111111111,
             "#46039f"
            ],
            [
             0.2222222222222222,
             "#7201a8"
            ],
            [
             0.3333333333333333,
             "#9c179e"
            ],
            [
             0.4444444444444444,
             "#bd3786"
            ],
            [
             0.5555555555555556,
             "#d8576b"
            ],
            [
             0.6666666666666666,
             "#ed7953"
            ],
            [
             0.7777777777777778,
             "#fb9f3a"
            ],
            [
             0.8888888888888888,
             "#fdca26"
            ],
            [
             1,
             "#f0f921"
            ]
           ]
          },
          "colorway": [
           "#636efa",
           "#EF553B",
           "#00cc96",
           "#ab63fa",
           "#FFA15A",
           "#19d3f3",
           "#FF6692",
           "#B6E880",
           "#FF97FF",
           "#FECB52"
          ],
          "font": {
           "color": "#2a3f5f"
          },
          "geo": {
           "bgcolor": "white",
           "lakecolor": "white",
           "landcolor": "#E5ECF6",
           "showlakes": true,
           "showland": true,
           "subunitcolor": "white"
          },
          "hoverlabel": {
           "align": "left"
          },
          "hovermode": "closest",
          "mapbox": {
           "style": "light"
          },
          "paper_bgcolor": "white",
          "plot_bgcolor": "#E5ECF6",
          "polar": {
           "angularaxis": {
            "gridcolor": "white",
            "linecolor": "white",
            "ticks": ""
           },
           "bgcolor": "#E5ECF6",
           "radialaxis": {
            "gridcolor": "white",
            "linecolor": "white",
            "ticks": ""
           }
          },
          "scene": {
           "xaxis": {
            "backgroundcolor": "#E5ECF6",
            "gridcolor": "white",
            "gridwidth": 2,
            "linecolor": "white",
            "showbackground": true,
            "ticks": "",
            "zerolinecolor": "white"
           },
           "yaxis": {
            "backgroundcolor": "#E5ECF6",
            "gridcolor": "white",
            "gridwidth": 2,
            "linecolor": "white",
            "showbackground": true,
            "ticks": "",
            "zerolinecolor": "white"
           },
           "zaxis": {
            "backgroundcolor": "#E5ECF6",
            "gridcolor": "white",
            "gridwidth": 2,
            "linecolor": "white",
            "showbackground": true,
            "ticks": "",
            "zerolinecolor": "white"
           }
          },
          "shapedefaults": {
           "line": {
            "color": "#2a3f5f"
           }
          },
          "ternary": {
           "aaxis": {
            "gridcolor": "white",
            "linecolor": "white",
            "ticks": ""
           },
           "baxis": {
            "gridcolor": "white",
            "linecolor": "white",
            "ticks": ""
           },
           "bgcolor": "#E5ECF6",
           "caxis": {
            "gridcolor": "white",
            "linecolor": "white",
            "ticks": ""
           }
          },
          "title": {
           "x": 0.05
          },
          "xaxis": {
           "automargin": true,
           "gridcolor": "white",
           "linecolor": "white",
           "ticks": "",
           "title": {
            "standoff": 15
           },
           "zerolinecolor": "white",
           "zerolinewidth": 2
          },
          "yaxis": {
           "automargin": true,
           "gridcolor": "white",
           "linecolor": "white",
           "ticks": "",
           "title": {
            "standoff": 15
           },
           "zerolinecolor": "white",
           "zerolinewidth": 2
          }
         }
        },
        "title": {
         "text": "Train & Val Accuracy Comparison (Batch Size=16) w/ Dropout and BatchNorm"
        },
        "xaxis": {
         "title": {
          "text": "Epochs"
         }
        },
        "yaxis": {
         "title": {
          "text": "Accuracy"
         }
        }
       }
      }
     },
     "metadata": {},
     "output_type": "display_data"
    }
   ],
   "source": [
    "plot_training(adam10_regularized, sgd10_regularized, title='Train & Val Accuracy Comparison (Batch Size=16) w/ Dropout and BatchNorm', names=['Adam Optimizer', 'SGD Optimizer'])"
   ]
  },
  {
   "cell_type": "markdown",
   "metadata": {},
   "source": [
    "This time Adam underfits and SGD *kind of* converges validation early on, causing and overfit. Interesting.\n",
    "Validation acc of 0.6 is still... ok? After 10 epochs. I think, maybe try to regularize SGD harder, and run it again for like 30 epochs on the same batch size?"
   ]
  }
 ],
 "metadata": {
  "kernelspec": {
   "display_name": "Python 3",
   "language": "python",
   "name": "python3"
  },
  "language_info": {
   "codemirror_mode": {
    "name": "ipython",
    "version": 3
   },
   "file_extension": ".py",
   "mimetype": "text/x-python",
   "name": "python",
   "nbconvert_exporter": "python",
   "pygments_lexer": "ipython3",
   "version": "3.11.6"
  }
 },
 "nbformat": 4,
 "nbformat_minor": 2
}
