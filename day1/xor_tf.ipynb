{
 "cells": [
  {
   "cell_type": "markdown",
   "id": "6ef0e711-e5df-4c5a-874a-e444b9fcd0c6",
   "metadata": {},
   "source": [
    "# XOR problem using tensorflow"
   ]
  },
  {
   "cell_type": "markdown",
   "id": "955d6128-9ddf-4124-9055-e5a67654cbf9",
   "metadata": {},
   "source": [
    "Last time we looked at \"manually\" training a small network without using any deep learning library. Now we'll redo the same exercise using tensorflow.\n",
    "\n",
    "We're still trying to approximate the same XOR function\n",
    "\n",
    "![table](material/xor_table.png)\n",
    "\n",
    "\n",
    "Using the same network architecture:\n",
    "\n",
    "![graph](material/xor_net.drawio.png)"
   ]
  },
  {
   "cell_type": "code",
   "execution_count": null,
   "id": "9a885f15-34be-4cb3-905a-2f8a40e2a82a",
   "metadata": {},
   "outputs": [],
   "source": [
    "import tensorflow as tf\n",
    "import numpy as np\n",
    "\n",
    "# Data. Tensorflow wants the input to be in numpy arrays.\n",
    "inputs = np.array([[0,0], [0,1], [1,0], [1,1]], dtype=np.float32)\n",
    "outputs = np.array([[0], [1], [1], [0]], dtype=np.float32)\n"
   ]
  },
  {
   "cell_type": "code",
   "execution_count": null,
   "id": "d66f129c-1238-4423-a3a4-47098daa50c8",
   "metadata": {},
   "outputs": [],
   "source": [
    "# ------- Create the model.-----------\n",
    "model = tf.keras.Sequential([\n",
    "    tf.keras.layers.InputLayer(input_shape=(2,)), # Input layer consisting of 2 nodes.\n",
    "    tf.keras.layers.Dense(2, activation='sigmoid'), # Hidden layer consisting of 2 nodes using sigmoid activation funciton.\n",
    "    tf.keras.layers.Dense(1, activation='sigmoid') # Output layer consisting of 1 node using sigmoid activation function.\n",
    "])\n",
    "\n",
    "# ---------- Compile the model. -----------\n",
    "learning_rate = 0.02\n",
    "model.compile(optimizer=tf.keras.optimizers.Adam(learning_rate=learning_rate), loss='mean_squared_error', metrics=['accuracy'])\n"
   ]
  },
  {
   "cell_type": "markdown",
   "id": "dc66ea2a-d65a-4ab7-94f9-24baa9ce99f1",
   "metadata": {},
   "source": [
    "Dense layer means fully connected layer. It is the only one we've covered so far but later in this course well talk about other types of layers and what they can be used for. We're also using tf.keras.Sequential model, which connects all the defined layers into a network. The sequential model is easy to use and linear (it has 1 input tensor and 1 output tensor, it doesn't branch into other structures which more complicated models can do).\n",
    "\n",
    "We're also using an optimizer with tensorflow, here \"Adam\". This is an algoritm to make gradient descent better, we'll talk more about optimizers in a later lecture.\n"
   ]
  },
  {
   "cell_type": "code",
   "execution_count": null,
   "id": "8ad2f6b1-f5d4-4325-83c8-7861fbe703c5",
   "metadata": {},
   "outputs": [],
   "source": [
    "# Train the model\n",
    "model.fit(inputs, outputs, epochs=10000, verbose=0)\n",
    "\n",
    "# Evaluate the model\n",
    "loss, accuracy = model.evaluate(inputs, outputs)\n",
    "print(f'Loss: {loss}, Accuracy: {accuracy}')\n",
    "\n",
    "# Make predictions\n",
    "predictions = model.predict(inputs)\n",
    "for i in range(len(inputs)):\n",
    "    print(f'Input: {inputs[i]}, Expected: {outputs[i][0]}, Predicted: {predictions[i][0]:.4f}, which is {\"correct\" if round(predictions[i][0])==outputs[i][0] else \"incorrect\"}')\n"
   ]
  },
  {
   "cell_type": "code",
   "execution_count": null,
   "id": "3c76783f-748f-4e66-bdb6-051a9a0a1a4a",
   "metadata": {},
   "outputs": [],
   "source": []
  }
 ],
 "metadata": {
  "kernelspec": {
   "display_name": "dl-course-env",
   "language": "python",
   "name": "dl-course-env"
  },
  "language_info": {
   "codemirror_mode": {
    "name": "ipython",
    "version": 3
   },
   "file_extension": ".py",
   "mimetype": "text/x-python",
   "name": "python",
   "nbconvert_exporter": "python",
   "pygments_lexer": "ipython3",
   "version": "3.10.12"
  }
 },
 "nbformat": 4,
 "nbformat_minor": 5
}
