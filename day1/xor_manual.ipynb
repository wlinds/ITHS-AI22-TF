{
 "cells": [
  {
   "cell_type": "markdown",
   "id": "449cff3e-32f8-464e-a101-ef7815ae6ab6",
   "metadata": {},
   "source": [
    "# Solving XOR using a neural network"
   ]
  },
  {
   "cell_type": "markdown",
   "id": "4285e4ba-86b3-4117-b3b4-4bb1ab21afce",
   "metadata": {},
   "source": [
    "XOR, or \"exclusive or\" is a simple function on 2 input values x_1 and x_2. \n",
    "\n",
    "\n",
    "![table](material/xor_table.png)\n",
    "\n",
    "It cannot be separated by a single decision boundary\n",
    "\n",
    "![graph](material/xor-graph.png)\n"
   ]
  },
  {
   "cell_type": "markdown",
   "id": "953182be-abc7-4684-8457-76cf82df1ad1",
   "metadata": {},
   "source": [
    "We are going to make a network with 1 hidden layer of 2 neurons, approximating the XOR function. Since this is a binary classification problem we'll use the sigmoid activation function.\n",
    "\n",
    "![graph](material/xor_net.drawio.png)"
   ]
  },
  {
   "cell_type": "code",
   "execution_count": null,
   "id": "12ffa122-b84e-4405-8e5d-a53075b977c9",
   "metadata": {},
   "outputs": [],
   "source": [
    "import random\n",
    "import math\n",
    "import numpy as np"
   ]
  },
  {
   "cell_type": "code",
   "execution_count": null,
   "id": "fdfc18a8-2a4b-4042-a28e-502e81a5dd0d",
   "metadata": {},
   "outputs": [],
   "source": [
    "# Random init weights and biases.\n",
    "VARIANCE = 0.5\n",
    "w11 = random.uniform(-VARIANCE,VARIANCE)\n",
    "w21 = random.uniform(-VARIANCE,VARIANCE)\n",
    "b1 = random.uniform(-VARIANCE,VARIANCE)\n",
    "\n",
    "w12 = random.uniform(-VARIANCE,VARIANCE)\n",
    "w22 = random.uniform(-VARIANCE,VARIANCE)\n",
    "b2 = random.uniform(-VARIANCE,VARIANCE)\n",
    "\n",
    "o1 = random.uniform(-VARIANCE,VARIANCE)\n",
    "o2 = random.uniform(-VARIANCE,VARIANCE)\n",
    "ob = random.uniform(-VARIANCE,VARIANCE)\n"
   ]
  },
  {
   "cell_type": "code",
   "execution_count": null,
   "id": "ea933773-7dc0-4d04-ae83-e6d0fcc25da1",
   "metadata": {},
   "outputs": [],
   "source": [
    "# Our activation function for hidden units\n",
    "def sigmoid(x):\n",
    "    return 1.0 / (1.0 + math.exp(-x))\n",
    "\n",
    "# Derivative of sigmoid function.\n",
    "def dSigmoid(x): # x already sigmoided from layer activation.\n",
    "    return x * (1 - x)\n",
    "\n",
    "\n",
    "def predict(i1,i2):    \n",
    "    h1 = w11 * i1 + w21 * i2 + b1\n",
    "    h1 = sigmoid(h1)\n",
    "    h2 = w12 * i1 + w22 * i2 + b2\n",
    "    h2 = sigmoid(h2)\n",
    "\n",
    "    output = h1 * o1 + h2 * o2 + ob\n",
    "    output = sigmoid(output)\n",
    "    \n",
    "    return output, h1, h2\n",
    "\n",
    "def learn(i1,i2,target, lr=0.2):\n",
    "    global w11,w21,b1,w12,w22,b2\n",
    "    global o1,o2,ob\n",
    "\n",
    "    # ---- Forward pass\n",
    "    output, h1, h2 = predict(i1,i2)\n",
    "    \n",
    "    # --- Calculate error and our derivate\n",
    "    error = (output - target) # MAE\n",
    "    derror = error * dSigmoid(output)\n",
    "\n",
    "    # Update output weights and bias.\n",
    "    o1 -= lr * h1 * derror\n",
    "    o2 -= lr * h2 * derror\n",
    "    ob -= lr * derror\n",
    "\n",
    "    # Get the gradient for the hidden layers.\n",
    "    dh1 = derror * o1 * dSigmoid(h1)\n",
    "    dh2 = derror * o2 * dSigmoid(h2)\n",
    "\n",
    "    # Update hidden layer weights and bias.\n",
    "    w11 -= lr * i1 * dh1\n",
    "    w21 -= lr * i2 * dh1\n",
    "    b1 -= lr * dh1\n",
    "    w12 -= lr * i1 * dh2\n",
    "    w22 -= lr * i2 * dh2\n",
    "    b2 -= lr * dh2"
   ]
  },
  {
   "cell_type": "code",
   "execution_count": null,
   "id": "3ab2e1e8-900f-45b2-af53-ee7777318d5d",
   "metadata": {},
   "outputs": [],
   "source": [
    "\n",
    "INPUTS = [\n",
    "        [0,0],\n",
    "        [0,1],\n",
    "        [1,0],\n",
    "        [1,1]\n",
    "    ]\n",
    "\n",
    "OUTPUTS = [\n",
    "        [0],\n",
    "        [1],\n",
    "        [1],\n",
    "        [0]\n",
    "    ]\n",
    "\n",
    "\n",
    "for epoch in range(1,10001):\n",
    "    indexes = [0,1,2,3]\n",
    "    random.shuffle(indexes)\n",
    "    for j in indexes:\n",
    "        learn(INPUTS[j][0],INPUTS[j][1],OUTPUTS[j][0], lr=0.2)\n",
    "    \n",
    "    if epoch%1000 == 0:\n",
    "        cost = 0\n",
    "        for j in range(4):\n",
    "            o, _, _= predict(INPUTS[j][0],INPUTS[j][1])\n",
    "            cost += (OUTPUTS[j][0] - o) ** 2\n",
    "        cost /= 4\n",
    "        print(\"epoch\", epoch, \"mean squared error:\", cost)       \n",
    "        \n",
    "\n",
    "for i in range(4):\n",
    "    result, _, _= predict(INPUTS[i][0],INPUTS[i][1])\n",
    "    print(\"for input\", INPUTS[i], \"expected\", OUTPUTS[i][0], \"predicted\", f\"{result:4.4}\", \"which is\", \"correct\" if round(result)==OUTPUTS[i][0] else \"incorrect\")\n"
   ]
  },
  {
   "cell_type": "markdown",
   "id": "141d6bdb-850d-42ed-a1c6-f75ede0f1eb0",
   "metadata": {},
   "source": [
    "It does not always learn perfectly since this is a very crude network with a fixed learning rate and fixed nr epochs. But if you run it a couple times it should converge into a network shich can correctly classify all possible xor inputs."
   ]
  },
  {
   "cell_type": "code",
   "execution_count": null,
   "id": "ba0a1668-f894-4312-a80e-6c98d71b508c",
   "metadata": {},
   "outputs": [],
   "source": []
  },
  {
   "cell_type": "code",
   "execution_count": null,
   "id": "a1f54f17-25b3-4c39-ac84-5ce907e7bbf6",
   "metadata": {},
   "outputs": [],
   "source": []
  },
  {
   "cell_type": "code",
   "execution_count": null,
   "id": "3a1b793a-d532-4dab-b952-6d9802d3b034",
   "metadata": {},
   "outputs": [],
   "source": []
  }
 ],
 "metadata": {
  "kernelspec": {
   "display_name": "Python 3 (ipykernel)",
   "language": "python",
   "name": "python3"
  },
  "language_info": {
   "codemirror_mode": {
    "name": "ipython",
    "version": 3
   },
   "file_extension": ".py",
   "mimetype": "text/x-python",
   "name": "python",
   "nbconvert_exporter": "python",
   "pygments_lexer": "ipython3",
   "version": "3.10.12"
  }
 },
 "nbformat": 4,
 "nbformat_minor": 5
}
