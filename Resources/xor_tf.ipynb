{
 "cells": [
  {
   "cell_type": "markdown",
   "id": "6ef0e711-e5df-4c5a-874a-e444b9fcd0c6",
   "metadata": {},
   "source": [
    "# XOR problem using tensorflow"
   ]
  },
  {
   "cell_type": "markdown",
   "id": "955d6128-9ddf-4124-9055-e5a67654cbf9",
   "metadata": {},
   "source": [
    "Last time we looked at \"manually\" training a small network without using any deep learning library. Now we'll redo the same exercise using tensorflow.\n",
    "\n",
    "We're still trying to approximate the same XOR function\n",
    "\n",
    "![table](material/xor_table.png)\n",
    "\n",
    "\n",
    "Using the same network architecture:\n",
    "\n",
    "![graph](material/xor_net.drawio.png)"
   ]
  },
  {
   "cell_type": "code",
   "execution_count": 2,
   "id": "9a885f15-34be-4cb3-905a-2f8a40e2a82a",
   "metadata": {},
   "outputs": [
    {
     "name": "stderr",
     "output_type": "stream",
     "text": [
      "2023-11-22 14:01:19.236764: I tensorflow/core/platform/cpu_feature_guard.cc:182] This TensorFlow binary is optimized to use available CPU instructions in performance-critical operations.\n",
      "To enable the following instructions: AVX2 FMA, in other operations, rebuild TensorFlow with the appropriate compiler flags.\n"
     ]
    }
   ],
   "source": [
    "import tensorflow as tf\n",
    "import numpy as np\n",
    "\n",
    "# Data. Tensorflow wants the input to be in numpy arrays.\n",
    "inputs = np.array([[0,0], [0,1], [1,0], [1,1]], dtype=np.float32)\n",
    "outputs = np.array([[0], [1], [1], [0]], dtype=np.float32)\n"
   ]
  },
  {
   "cell_type": "code",
   "execution_count": 3,
   "id": "d66f129c-1238-4423-a3a4-47098daa50c8",
   "metadata": {},
   "outputs": [],
   "source": [
    "# ------- Create the model.-----------\n",
    "model = tf.keras.Sequential([\n",
    "    tf.keras.layers.InputLayer(input_shape=(2,)), # Input layer consisting of 2 nodes.\n",
    "    tf.keras.layers.Dense(2, activation='sigmoid'), # Hidden layer consisting of 2 nodes using sigmoid activation funciton.\n",
    "    tf.keras.layers.Dense(1, activation='sigmoid') # Output layer consisting of 1 node using sigmoid activation function.\n",
    "])\n",
    "\n",
    "# ---------- Compile the model. -----------\n",
    "learning_rate = 0.02\n",
    "model.compile(optimizer=tf.keras.optimizers.Adam(learning_rate=learning_rate), loss='mean_squared_error', metrics=['accuracy'])\n"
   ]
  },
  {
   "cell_type": "markdown",
   "id": "dc66ea2a-d65a-4ab7-94f9-24baa9ce99f1",
   "metadata": {},
   "source": [
    "Dense layer means fully connected layer. It is the only one we've covered so far but later in this course well talk about other types of layers and what they can be used for. We're also using tf.keras.Sequential model, which connects all the defined layers into a network. The sequential model is easy to use and linear (it has 1 input tensor and 1 output tensor, it doesn't branch into other structures which more complicated models can do).\n",
    "\n",
    "We're also using an optimizer with tensorflow, here \"Adam\". This is an algoritm to make gradient descent better, we'll talk more about optimizers in a later lecture.\n"
   ]
  },
  {
   "cell_type": "code",
   "execution_count": 4,
   "id": "8ad2f6b1-f5d4-4325-83c8-7861fbe703c5",
   "metadata": {},
   "outputs": [
    {
     "name": "stdout",
     "output_type": "stream",
     "text": [
      "1/1 [==============================] - 0s 145ms/step - loss: 2.5719e-06 - accuracy: 1.0000\n",
      "Loss: 2.5718984488776186e-06, Accuracy: 1.0\n",
      "1/1 [==============================] - 0s 74ms/step\n",
      "Input: [0. 0.], Expected: 0.0, Predicted: 0.0016, which is correct\n",
      "Input: [0. 1.], Expected: 1.0, Predicted: 0.9983, which is correct\n",
      "Input: [1. 0.], Expected: 1.0, Predicted: 0.9985, which is correct\n",
      "Input: [1. 1.], Expected: 0.0, Predicted: 0.0015, which is correct\n"
     ]
    }
   ],
   "source": [
    "# Train the model\n",
    "model.fit(inputs, outputs, epochs=10000, verbose=0)\n",
    "\n",
    "# Evaluate the model\n",
    "loss, accuracy = model.evaluate(inputs, outputs)\n",
    "print(f'Loss: {loss}, Accuracy: {accuracy}')\n",
    "\n",
    "# Make predictions\n",
    "predictions = model.predict(inputs)\n",
    "for i in range(len(inputs)):\n",
    "    print(f'Input: {inputs[i]}, Expected: {outputs[i][0]}, Predicted: {predictions[i][0]:.4f}, which is {\"correct\" if round(predictions[i][0])==outputs[i][0] else \"incorrect\"}')\n"
   ]
  }
 ],
 "metadata": {
  "kernelspec": {
   "display_name": "Python 3",
   "language": "python",
   "name": "python3"
  },
  "language_info": {
   "codemirror_mode": {
    "name": "ipython",
    "version": 3
   },
   "file_extension": ".py",
   "mimetype": "text/x-python",
   "name": "python",
   "nbconvert_exporter": "python",
   "pygments_lexer": "ipython3",
   "version": "3.11.6"
  }
 },
 "nbformat": 4,
 "nbformat_minor": 5
}
