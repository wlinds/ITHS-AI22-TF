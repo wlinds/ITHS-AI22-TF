{
 "cells": [
  {
   "cell_type": "markdown",
   "id": "7f3c55d5-7e69-4feb-bd32-d3dea100d026",
   "metadata": {},
   "source": [
    "# Visualizing CNN Kernels\n",
    "## Objective\n",
    "Understand how different convolutional kernels process and extract features from images.\n",
    "\n",
    "## Setup"
   ]
  },
  {
   "cell_type": "code",
   "execution_count": null,
   "id": "908b150a-23b5-4cef-a6b1-210e677cbdf8",
   "metadata": {},
   "outputs": [],
   "source": [
    "# Import required libraries\n",
    "import tensorflow as tf\n",
    "import numpy as np\n",
    "import matplotlib.pyplot as plt\n",
    "from PIL import Image\n",
    "from tensorflow.keras.preprocessing.image import img_to_array, load_img\n",
    "from tensorflow.keras.models import Sequential\n",
    "from tensorflow.keras.layers import Conv2D\n"
   ]
  },
  {
   "cell_type": "code",
   "execution_count": null,
   "id": "9762534b-5d3a-4802-8dd5-aabb1946a345",
   "metadata": {},
   "outputs": [],
   "source": [
    "# Load and prepare data\n",
    "path = \"material/pixel.jpg\" # replace with your own image if you want (remove or edit rotatio to fit new pic).\n",
    "img = Image.open(path).convert('L').rotate(270).resize((150,150)) \n",
    "image_array = tf.keras.utils.img_to_array(img) # Convert to tensor\n",
    "image_array = tf.expand_dims(image_array, 0)  # Create a batch\n"
   ]
  },
  {
   "cell_type": "markdown",
   "id": "7eeb7567-29aa-4d22-8eb7-d388cb6e53ab",
   "metadata": {},
   "source": [
    "## Exercise"
   ]
  },
  {
   "cell_type": "markdown",
   "id": "6b5776a4-d308-4733-a161-490f885b544d",
   "metadata": {},
   "source": [
    "### Define different kernels\n",
    "Create various kernels to see the different effects (edge detection, sharpening, blurring etc)"
   ]
  },
  {
   "cell_type": "code",
   "execution_count": null,
   "id": "d3d1c950-853e-42da-8df0-74c6ecfb9b98",
   "metadata": {},
   "outputs": [],
   "source": [
    "\n",
    "kernels = {\n",
    "    \"Edge Detection\": np.array([[-1, -1, -1], [-1, 8, -1], [-1, -1, -1]]),\n",
    "    \"Sharpen\": np.array([[0, -1, 0], [-1, 5, -1], [0, -1, 0]]),\n",
    "    \"Blur\": np.array([[1, 1, 1], [1, 1, 1], [1, 1, 1]]) / 9.0,\n",
    "}\n"
   ]
  },
  {
   "cell_type": "markdown",
   "id": "57d8f6ee-ac3f-4f5c-8f9e-b75f0cb89fce",
   "metadata": {},
   "source": [
    "### Apply Kernels to the Image\n",
    "Create a simple CNN model with a single convolutional layer for each kernel.\n",
    "Apply the kernel to the image and display the output."
   ]
  },
  {
   "cell_type": "code",
   "execution_count": null,
   "id": "6ccb318a-1993-42a2-97d4-6f90fcfd9cda",
   "metadata": {
    "scrolled": true
   },
   "outputs": [],
   "source": [
    "def apply_kernel_and_display(kernel, kernel_name, image):\n",
    "    model = Sequential([\n",
    "        Conv2D(filters=1, kernel_size=(3, 3), padding='same', \n",
    "               input_shape=(150, 150, 1), \n",
    "               kernel_initializer=tf.constant_initializer(kernel))\n",
    "    ])\n",
    "\n",
    "    fig = plt.figure()\n",
    "    fig.add_subplot(1,2,1)\n",
    "    plt.imshow(img, cmap='gray')\n",
    "    plt.title(\"Original Image\")\n",
    "    \n",
    "\n",
    "    processed_image = model.predict(image_array)\n",
    "    processed_image = processed_image[0, :, :, 0]\n",
    "    fig.add_subplot(1,2,2)\n",
    "    plt.imshow(processed_image, cmap='gray')\n",
    "    plt.title(f\"Image after applying {kernel_name} Kernel\")\n",
    "    plt.show()\n",
    "\n",
    "for name, kernel in kernels.items():\n",
    "    apply_kernel_and_display(kernel.reshape(3, 3, 1, 1), name, image_array)\n"
   ]
  },
  {
   "cell_type": "markdown",
   "id": "ffadf1ae-3e67-4b67-9ebc-f68e0a2f9e69",
   "metadata": {},
   "source": [
    "# Excercise 1\n",
    "* Compare and Contrast: Discuss how each kernel affects the image differently.\n",
    "* Feature Extraction: Analyze which features are highlighted by each kernel.\n",
    "* Real-World Application: Relate the kernels to practical applications in image processing."
   ]
  },
  {
   "cell_type": "markdown",
   "id": "bdd0b8e5-748a-463f-b545-fbd7925c94ba",
   "metadata": {},
   "source": [
    "# Excercise 2\n",
    "What are these kernels created to find?"
   ]
  },
  {
   "cell_type": "code",
   "execution_count": null,
   "id": "d1af248f-2e39-47f5-b06f-c07e9d2b9b5c",
   "metadata": {},
   "outputs": [],
   "source": [
    "\n",
    "kernels = {\n",
    "    \"kernel1\" :np.array([[1, 1, 1], [0, 0, 0], [-1, -1, -1]]),\n",
    "    \"kernel2\": np.array([[1, 0, -1], [1, 0, -1], [1, 0, -1]]),\n",
    "    \"kernel3\": np.array([[1, -2, 1], [-2, 4, -2], [1, -2, 1]]),\n",
    "    \"kernel4\": np.array([[0, 0, 0], [0, 1, 0],  [0, 0, 0]]),\n",
    "    \"kernel5\": np.array([[-1, -2, -1], [0, 0, 0], [1, 2, 1]]),\n",
    "    \"kernel6\": np.array([[-1, 0, 1], [-2, 0, 2], [-1, 0, 1]]),\n",
    "}\n",
    "\n",
    "for name, kernel in kernels.items():\n",
    "    apply_kernel_and_display(kernel.reshape(3, 3, 1, 1), name, image_array)\n"
   ]
  },
  {
   "cell_type": "markdown",
   "id": "155788bb-6988-4cf2-aebf-21bb44ecd336",
   "metadata": {},
   "source": [
    "## Bonus Exercise:\n",
    "Play around with the filters and see if you can create your own that finds some interensting feature."
   ]
  },
  {
   "cell_type": "code",
   "execution_count": null,
   "id": "b204be9c-bd3f-483c-a127-e495a742d70f",
   "metadata": {},
   "outputs": [],
   "source": []
  }
 ],
 "metadata": {
  "kernelspec": {
   "display_name": "Python 3 (ipykernel)",
   "language": "python",
   "name": "python3"
  },
  "language_info": {
   "codemirror_mode": {
    "name": "ipython",
    "version": 3
   },
   "file_extension": ".py",
   "mimetype": "text/x-python",
   "name": "python",
   "nbconvert_exporter": "python",
   "pygments_lexer": "ipython3",
   "version": "3.11.3"
  }
 },
 "nbformat": 4,
 "nbformat_minor": 5
}
