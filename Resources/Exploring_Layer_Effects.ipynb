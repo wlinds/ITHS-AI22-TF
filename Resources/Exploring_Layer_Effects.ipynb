{
 "cells": [
  {
   "cell_type": "markdown",
   "id": "aa51c9ba-28b3-4dc7-803c-950d9d8af7dd",
   "metadata": {},
   "source": [
    "# Exploring Layer Effects in CNNs\n",
    "Objective: Understand the impact of varying parameters in convolutional and pooling layers on image processing."
   ]
  },
  {
   "cell_type": "markdown",
   "id": "388df8d1-2ab0-45b5-b528-c72ffafbdc6b",
   "metadata": {},
   "source": [
    "## Setup\n"
   ]
  },
  {
   "cell_type": "code",
   "execution_count": null,
   "id": "724bdab3-babe-42bb-9929-6e9d2c59a733",
   "metadata": {},
   "outputs": [],
   "source": [
    "import tensorflow as tf\n",
    "import numpy as np\n",
    "import matplotlib.pyplot as plt\n",
    "from PIL import Image\n",
    "from tensorflow.keras.models import Model\n",
    "from tensorflow.keras.layers import Input, Conv2D, MaxPooling2D\n",
    "from tensorflow.keras.preprocessing.image import img_to_array, load_img"
   ]
  },
  {
   "cell_type": "code",
   "execution_count": null,
   "id": "c0b22324-861d-4946-84a4-7083959a38b1",
   "metadata": {},
   "outputs": [],
   "source": [
    "# Load and prepare data\n",
    "path = \"material/pixel.jpg\" # replace with your own image if you want (remove or edit rotatio to fit new pic).\n",
    "img = Image.open(path).convert('L').rotate(270).resize((150,150)) \n",
    "image_array = tf.keras.utils.img_to_array(img) # Convert to tensor\n",
    "image_array = tf.expand_dims(image_array, 0)  # Create a batch"
   ]
  },
  {
   "cell_type": "markdown",
   "id": "a94a3043-9e9a-4695-bb5f-13f0877d844b",
   "metadata": {},
   "source": [
    "## Exercise \n",
    "Let's create a function to build and visualize CNN Layers. Read through the code below and make sure you understand it."
   ]
  },
  {
   "cell_type": "code",
   "execution_count": null,
   "id": "01206998-d078-42df-9de4-7439ad007371",
   "metadata": {},
   "outputs": [],
   "source": [
    "def build_and_visualize_cnn(filters, kernel_size, pooling_size, stride):\n",
    "    inputs = Input(shape=(150, 150, 1))\n",
    "    x = Conv2D(filters=filters, kernel_size=kernel_size, activation='relu')(inputs)\n",
    "    x = MaxPooling2D(pool_size=pooling_size, strides=stride)(x)\n",
    "    model = Model(inputs=inputs, outputs=x)\n",
    "\n",
    "    feature_maps = model.predict(image_array)\n",
    "    fm = feature_maps[0]\n",
    "\n",
    "    fig, ax = plt.subplots(1, filters, figsize=(20, 5))\n",
    "    for i in range(filters):\n",
    "        ax[i].imshow(fm[:, :, i], cmap='gray')\n",
    "        ax[i].axis('off')\n",
    "    plt.suptitle(f'Convolutional Layer with {filters} Filters, Kernel Size: {kernel_size}, '\n",
    "                 f'Pooling Size: {pooling_size}, Stride: {stride}')\n",
    "    plt.show()\n",
    "\n",
    "\n",
    "build_and_visualize_cnn(filters=3, kernel_size=(2, 2), pooling_size=(2, 2), stride=4)\n"
   ]
  },
  {
   "cell_type": "markdown",
   "id": "b547c1f3-0887-4036-8b04-a0d8aaabbb0f",
   "metadata": {},
   "source": [
    "What happens if you...\n",
    "\n",
    "1. Run the above cell several times in a row?\n",
    "    * Why does the output change?\n",
    "    * How could you avoid that?\n",
    "    * Why do we sometimes want to avoid this?\n",
    "\n",
    "2. Change number of filters?\n",
    "3. Increase the stride? Why?\n",
    "4. Increase the pooling size? Why?\n",
    "5. Change the kernel size?"
   ]
  },
  {
   "cell_type": "markdown",
   "id": "fbfc4a49-591c-4da2-ae5c-088c4190c09f",
   "metadata": {},
   "source": [
    "## Bonus exercise:\n",
    "What happens if you make the network deeper? How does the output feature maps change? Edit the network above to add another layer and experiment with the hyperparameters."
   ]
  },
  {
   "cell_type": "markdown",
   "id": "9673fef7-b63a-4001-8e9d-1d6f2a133689",
   "metadata": {},
   "source": []
  },
  {
   "cell_type": "code",
   "execution_count": null,
   "id": "ad462caf-99f2-4d60-991e-484ed51caacf",
   "metadata": {},
   "outputs": [],
   "source": []
  }
 ],
 "metadata": {
  "kernelspec": {
   "display_name": "Python 3 (ipykernel)",
   "language": "python",
   "name": "python3"
  },
  "language_info": {
   "codemirror_mode": {
    "name": "ipython",
    "version": 3
   },
   "file_extension": ".py",
   "mimetype": "text/x-python",
   "name": "python",
   "nbconvert_exporter": "python",
   "pygments_lexer": "ipython3",
   "version": "3.11.3"
  }
 },
 "nbformat": 4,
 "nbformat_minor": 5
}
