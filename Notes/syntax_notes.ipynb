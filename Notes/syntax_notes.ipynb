{
 "cells": [
  {
   "cell_type": "markdown",
   "metadata": {},
   "source": [
    "### Sequential API (Model.add):\n",
    "\n",
    "For the classification task in optimizer comparison I used this syntax:\n",
    "```\n",
    "    inputs = tf.keras.layers.Input(shape=(20,))\n",
    "    hidden_1 = tf.keras.layers.Dense(64, activation='relu')(inputs)\n",
    "    hidden_2 = tf.keras.layers.Dense(64, activation='relu')(hidden_1)\n",
    "    outputs = tf.keras.layers.Dense(1, activation='sigmoid')(hidden_2)\n",
    "\n",
    "    model = tf.keras.Model(inputs=inputs, outputs=outputs)\n",
    "\n",
    "    model.compile(optimizer=optimizer, loss='binary_crossentropy', metrics=['accuracy'])\n",
    "```\n",
    "\n",
    "### Functional API (Model):\n",
    "\n",
    "For the hyperparameter tuning excercise i did:\n",
    "```\n",
    "    model = Sequential()\n",
    "    model.add(Dense(hyperparams['layers'][0], input_dim=784, activation='relu'))\n",
    "\n",
    "    for units in hyperparams['layers'][1:]:\n",
    "        model.add(Dense(units, activation='relu'))\n",
    "\n",
    "    model.add(Dense(10, activation='softmax'))\n",
    "\n",
    "    optimizer = Adam(learning_rate=hyperparams['learning_rate'])\n",
    "    model.compile(loss='categorical_crossentropy', optimizer=optimizer, metrics=['accuracy'])\n",
    "\n",
    "    return model\n",
    "```\n",
    "Are there any benefits to either method, or are they just different syntax?\n",
    "I mean, using model.add or \"chaining\" layers like in the classification task?\n",
    "\n"
   ]
  },
  {
   "cell_type": "markdown",
   "metadata": {},
   "source": [
    "### Benefits of Sequential API (model.add):\n",
    "\n",
    "- Simplicity: The Sequential API is straightforward and easy to understand, especially for simple linear stack models.\n",
    "- Sequential Execution: Layers are added one by one in a sequential manner, which aligns with the linear flow of many models.\n",
    "\n",
    "### Benefits of Functional API (Model):\n",
    "- Flexibility: The Functional API is more flexible and versatile, allowing for the creation of complex models with shared layers, multiple inputs, and multiple outputs.\n",
    "- Explicit Input/Output Specification: The Functional API makes it explicit where the inputs and outputs are coming from and going to, which can be important in more complex architectures.\n"
   ]
  },
  {
   "cell_type": "markdown",
   "metadata": {},
   "source": [
    "In regularizaion_ex_students, we use another syntax:\n",
    "\n",
    "```\n",
    "def build_base_model():\n",
    "    model = tf.keras.models.Sequential([\n",
    "        tf.keras.layers.Dense(20, activation='relu', input_shape=(11,)),\n",
    "        tf.keras.layers.Dense(20, activation='relu'),\n",
    "        tf.keras.layers.Dense(1, activation='sigmoid')\n",
    "    ])\n",
    "    model.compile(optimizer='adam', loss='binary_crossentropy', metrics=['accuracy'])\n",
    "    return model\n",
    "```"
   ]
  },
  {
   "cell_type": "code",
   "execution_count": null,
   "metadata": {},
   "outputs": [],
   "source": []
  },
  {
   "cell_type": "markdown",
   "metadata": {},
   "source": []
  },
  {
   "cell_type": "markdown",
   "metadata": {},
   "source": []
  }
 ],
 "metadata": {
  "language_info": {
   "name": "python"
  }
 },
 "nbformat": 4,
 "nbformat_minor": 2
}
