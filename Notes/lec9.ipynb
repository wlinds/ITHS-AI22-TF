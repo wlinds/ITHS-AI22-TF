{
 "cells": [
  {
   "cell_type": "markdown",
   "metadata": {},
   "source": [
    "###### 2023-12-11 ITHS\n",
    "\n",
    "```\n",
    "===============================\n",
    "\n",
    "Lektion 9: Robert Nyquist\n",
    "\n",
    "===============================\n",
    "```\n",
    "\n",
    "### From Idea to Production"
   ]
  },
  {
   "cell_type": "markdown",
   "metadata": {},
   "source": [
    "```\n",
    "Idea -> Formulate problem -> Prototype / POC -> Refine idea\n",
    "                          -> Validation -> Ship it! :)\n",
    "                                        -> Kill it! :(\n",
    "```"
   ]
  },
  {
   "cell_type": "markdown",
   "metadata": {},
   "source": [
    "## Probing questions\n",
    "- How does it work today?\n",
    "- What are the current issues?\n",
    "- Where is the data and how's the data structured?\n",
    "\n",
    "## Model\n",
    "- What do we *want*?\n",
    "- *Why* are we doing it?\n",
    "- How frequent do we want to run it?\n",
    "- In what kind of format do we want the output?"
   ]
  },
  {
   "cell_type": "markdown",
   "metadata": {},
   "source": [
    "## Protoype\n",
    "- Analytics and data validation + Initial [EDA](https://en.wikipedia.org/wiki/Exploratory_data_analysis)\n",
    "- Explore models\n",
    "    - -> Start out with a simple model if possible.\n",
    "- Create prototype in Jupyter Notebook"
   ]
  },
  {
   "cell_type": "markdown",
   "metadata": {},
   "source": [
    "## Validation\n",
    "\n",
    "- Create good metrics\n",
    "- -> Demo metrics (+ model & performance)\n",
    "- Touch base with the end user of the model\n",
    "    - Refinements needed?\n",
    "    - Ship it (or kill it)?"
   ]
  },
  {
   "cell_type": "markdown",
   "metadata": {},
   "source": [
    "## Shipping the idea\n",
    "\n",
    "- What environment?\n",
    "    - Cloud?\n",
    "    - In-house / On-prem?\n",
    "    - Linux?\n",
    "\n",
    "- Involve system developers\n",
    "- Involve end users\n",
    "- MVP or SLC\n",
    "    - [Blogpost: Mindset Change: MVP vs. SLC.](https://hackernoon.com/mindset-change-mvp-vs-slc-d087a7f87be3)"
   ]
  },
  {
   "cell_type": "markdown",
   "metadata": {},
   "source": [
    "## Continued Deveopment\n",
    "\n",
    "Similar steps as with new idea, but less time on probing questions and problem description.\n",
    "\n",
    "Regular development cycle.<br>\n",
    "Sprints, Release, CI/CD "
   ]
  },
  {
   "cell_type": "markdown",
   "metadata": {},
   "source": [
    "## Results\n",
    "\n",
    "- Find solutions from problems, not the other way around.\n",
    "- AI is experimental.\n",
    "    - Plan for what to do if all the requirements cannot be met.\n",
    "- Touch base with end users.\n",
    "- Don't try to solve *everything at once*, work iteratively.\n"
   ]
  }
 ],
 "metadata": {
  "language_info": {
   "name": "python"
  }
 },
 "nbformat": 4,
 "nbformat_minor": 2
}
