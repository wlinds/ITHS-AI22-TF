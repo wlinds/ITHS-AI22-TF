{
 "cells": [
  {
   "cell_type": "markdown",
   "metadata": {},
   "source": [
    "###### 2023-12-11 ITHS\n",
    "\n",
    "```\n",
    "===============================\n",
    "\n",
    "Lektion 9: Robert Nyquist\n",
    "\n",
    "===============================\n",
    "```\n",
    "\n",
    "### From idea to production | (Also Transfer Learning)\n"
   ]
  },
  {
   "cell_type": "markdown",
   "metadata": {},
   "source": [
    "```\n",
    "Idea -> Formulate problem -> Prototype / POC -> Refine idea\n",
    "                          -> Validation -> Ship it!\n",
    "                                        -> Kill it!\n",
    "``````"
   ]
  },
  {
   "cell_type": "markdown",
   "metadata": {},
   "source": []
  },
  {
   "cell_type": "code",
   "execution_count": null,
   "metadata": {},
   "outputs": [],
   "source": []
  }
 ],
 "metadata": {
  "language_info": {
   "name": "python"
  }
 },
 "nbformat": 4,
 "nbformat_minor": 2
}
