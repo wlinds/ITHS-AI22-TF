{
 "cells": [
  {
   "cell_type": "markdown",
   "metadata": {},
   "source": [
    "###### 2023-11-24 ITHS\n",
    "\n",
    "```\n",
    "===============================\n",
    "\n",
    "Lektion 3: Robert Nyquist\n",
    "\n",
    "===============================\n",
    "```\n",
    "\n",
    "- Underfit/Overfit\n",
    "- Bias/Variance\n",
    "- Early stopping"
   ]
  },
  {
   "cell_type": "markdown",
   "metadata": {},
   "source": [
    "## Underfit & Overfit\n",
    "\n",
    "**Underfitting: Failure to capture underlying patterns:**\n",
    "- Too simple model / too generalized\n",
    "- Fails to converge\n",
    "- Over-regularized\n",
    "\n",
    "**Overfitting: Learns noise**\n",
    "- Too complex model / not generalized enough\n",
    "- Dataset too small / missing relevant data\n",
    "\n",
    "**Train/Val/Test 70/20/10**<br>\n",
    "Use val data for hyperparams tuning\n",
    "\n",
    "| Error | Overfitting | Right fit | Underfit\n",
    "| --- | --- | ---  | --- |\n",
    "| Train err | low | low | high\n",
    "| Test err | high | low | high"
   ]
  },
  {
   "cell_type": "markdown",
   "metadata": {},
   "source": [
    "### Avoiding underfitting\n",
    "**Increase model complexity**\n",
    "- Reduce regulariation\n",
    "- Expand architecture\n",
    "\n",
    "**Improve the data**\n",
    "- Augmentation, data cleaning\n",
    "- Data engineering\n",
    "- Increase features (input dim)\n",
    "\n",
    "### Avoiding ovefitting\n",
    "\n",
    "**Reduce model complexity:**\n",
    "- Increase regularization\n",
    "    - Early stopping\n",
    "- Simplify architecture\n",
    "\n",
    "**Improve the data:**\n",
    "- Augmentation, data cleaning\n",
    "- Data engineering\n",
    "- Reduce features (input dim)\n",
    "\n"
   ]
  },
  {
   "cell_type": "markdown",
   "metadata": {},
   "source": [
    "## Bias & Variance tradeoff\n",
    "low bias, low variance\n",
    "\n",
    "Three kind of bias in ML:\n",
    "- Bias introduced during the training process\n",
    "- Sociological bias learned through data\n",
    "- Bias as in the model have not learned the data, and is underfitted\n",
    "\n",
    "\n",
    "High bias: underfitted<br>\n",
    "High variance: overfitted\n"
   ]
  },
  {
   "cell_type": "markdown",
   "metadata": {},
   "source": [
    "### Early stopping\n",
    "- Easiest and most commonly used regularization techniques.\n",
    "- Halt the training before it fully learns the dataset (overfits).\n",
    "- When error for validation set ceases to decrease or starts to increase."
   ]
  },
  {
   "cell_type": "markdown",
   "metadata": {},
   "source": [
    "*More on regularization*\n",
    "\n",
    "[Wikipeida](https://en.wikipedia.org/wiki/Regularization_(mathematics))\n"
   ]
  }
 ],
 "metadata": {
  "kernelspec": {
   "display_name": "Python 3",
   "language": "python",
   "name": "python3"
  },
  "language_info": {
   "codemirror_mode": {
    "name": "ipython",
    "version": 3
   },
   "file_extension": ".py",
   "mimetype": "text/x-python",
   "name": "python",
   "nbconvert_exporter": "python",
   "pygments_lexer": "ipython3",
   "version": "3.11.6"
  }
 },
 "nbformat": 4,
 "nbformat_minor": 2
}
