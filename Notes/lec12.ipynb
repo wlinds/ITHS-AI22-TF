{
 "cells": [
  {
   "cell_type": "markdown",
   "metadata": {},
   "source": [
    "###### 2024-01-08 ITHS\n",
    "\n",
    "```\n",
    "===============================\n",
    "\n",
    "Lektion 12: Robert Nyquist\n",
    "\n",
    "===============================\n",
    "```\n",
    "\n",
    "### Generative AI\n",
    "- Introduction\n",
    "- [Autoencoders](https://en.wikipedia.org/wiki/Autoencoder)\n",
    "- [Generative Adversarial Networks](https://en.wikipedia.org/wiki/Generative_adversarial_network)"
   ]
  },
  {
   "cell_type": "markdown",
   "metadata": {},
   "source": [
    "Create new data from given dataset.\n",
    "- Video game industry\n",
    "    - New maps, textures, etc.\n",
    "    - Scale up old games\n",
    "- Data aug\n",
    "- Video ang image improvements/upscaling\n",
    "- Design\n",
    "- Health care\n",
    "    - New drugs etc.\n"
   ]
  },
  {
   "cell_type": "markdown",
   "metadata": {},
   "source": [
    "### **Autoencoders**\n",
    "\n",
    "- Encoder-Decoder\n",
    "- Dimension reuction\n",
    "- Feature leatning/extration\n",
    "- Denoise\n",
    "- Anomaly detection\n",
    "- **Generate new content**\n",
    "\n",
    "[Variational Auto Encoders](https://en.wikipedia.org/wiki/Variational_autoencoder)"
   ]
  },
  {
   "cell_type": "markdown",
   "metadata": {},
   "source": [
    "### **Generative Adversarial Networks (GANs)**\n",
    "\n",
    "- GANs were introduced in 2014, considered a groundbreaking development in AI.\n",
    "- Triggered discussions on the creativity of computers.\n",
    "\n",
    "#### GAN Components\n",
    "- **Two Networks:** GANs consist of two networks - a generator and a discriminator.\n",
    "- **Generator's Role:** Generates new data.\n",
    "- **Discriminator's Role:** Determines if the data is genuine or fake.\n",
    "\n",
    "### Working Mechanism\n",
    "- **Adversarial Process:** Generator creates data, discriminator evaluates its authenticity.\n",
    "- **Iterative Training:** Discriminator receives both real and fake data alternately.\n",
    "- **Competition:** Networks compete as the generator tries to improve, and the discriminator aims to become more accurate.\n",
    "\n",
    "### Post-Training Outcome\n",
    "- **Divergent Purposes:** After training, generator and discriminator have distinct roles.\n",
    "- **Generator's Use:** Mainly for creating new content.\n",
    "- **Discriminator's Use:** Useful for detecting AI-generated content (e.g., fake news)."
   ]
  }
 ],
 "metadata": {
  "language_info": {
   "name": "python"
  }
 },
 "nbformat": 4,
 "nbformat_minor": 2
}
