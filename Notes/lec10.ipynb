{
 "cells": [
  {
   "cell_type": "markdown",
   "metadata": {},
   "source": [
    "###### 2023-12-11 ITHS\n",
    "\n",
    "```\n",
    "===============================\n",
    "\n",
    "Lektion 10: Robert Nyquist\n",
    "\n",
    "===============================\n",
    "```\n",
    "\n",
    "### Transfer Learning\n",
    "\n",
    "Transforming an existing model to solve another problem. Reusing its architectue and weights.\n",
    "\n",
    "[wikipedia.org/wiki/Transfer_learning](https://en.wikipedia.org/wiki/Transfer_learning)\n",
    "\n",
    "- Feature Extraction\n",
    "- Fine Tuning\n",
    "\n",
    "Source - Original model<br>\n",
    "Target - New model "
   ]
  },
  {
   "cell_type": "markdown",
   "metadata": {},
   "source": [
    "### Feature Extraction\n",
    "\n",
    "Small dataset, similarities in datasets\n",
    "\n",
    "- Remove **last layer** (e.g., classifier)\n",
    "- Lock layers in conv layers\n",
    "- Use new target data\n",
    "- Only train classifier\n"
   ]
  },
  {
   "cell_type": "markdown",
   "metadata": {},
   "source": [
    "### Fine tuning\n",
    "\n",
    "Large dataset, few similarities in datasets \n",
    "\n",
    "- Lock a subset of the weights (limit n layers to lock)\n",
    "    - E.g., don't train the first layers (the low level features)\n",
    "\n"
   ]
  }
 ],
 "metadata": {
  "language_info": {
   "name": "python"
  }
 },
 "nbformat": 4,
 "nbformat_minor": 2
}
